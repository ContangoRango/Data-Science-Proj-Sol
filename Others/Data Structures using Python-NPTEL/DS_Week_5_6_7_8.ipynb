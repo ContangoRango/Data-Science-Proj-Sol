{
 "cells": [
  {
   "cell_type": "markdown",
   "metadata": {},
   "source": [
    "# Week 5"
   ]
  },
  {
   "cell_type": "code",
   "execution_count": 1,
   "metadata": {},
   "outputs": [],
   "source": [
    "#Types of errors\n",
    "#Syntax error - Invalid syntax\n",
    "#Run time error- \n",
    "#Name error(x not defined)\n",
    "#Zero Division error\n",
    "#Index error-list assignment index out of range\n",
    "#Value error"
   ]
  },
  {
   "cell_type": "code",
   "execution_count": 11,
   "metadata": {},
   "outputs": [
    {
     "name": "stdout",
     "output_type": "stream",
     "text": [
      "4\n",
      "4\n"
     ]
    }
   ],
   "source": [
    "#As in case of loop also\n",
    "#else executes when execution has ended normally\n",
    "try:\n",
    "    print (\"4\")\n",
    "except IndexError:\n",
    "    print (\"1\")\n",
    "except (NameError,KeyError):\n",
    "    print (\"2\")\n",
    "except:\n",
    "    print (\"3\")\n",
    "else:\n",
    "    print (\"4\")"
   ]
  },
  {
   "cell_type": "code",
   "execution_count": 12,
   "metadata": {},
   "outputs": [
    {
     "ename": "NameError",
     "evalue": "name 'b' is not defined",
     "output_type": "error",
     "traceback": [
      "\u001b[1;31m---------------------------------------------------------------------------\u001b[0m",
      "\u001b[1;31mNameError\u001b[0m                                 Traceback (most recent call last)",
      "\u001b[1;32m<ipython-input-12-65020c658d43>\u001b[0m in \u001b[0;36m<module>\u001b[1;34m\u001b[0m\n\u001b[0;32m      1\u001b[0m \u001b[1;31m##If else work by try and except\u001b[0m\u001b[1;33m\u001b[0m\u001b[1;33m\u001b[0m\u001b[0m\n\u001b[1;32m----> 2\u001b[1;33m \u001b[1;32mif\u001b[0m \u001b[0mb\u001b[0m \u001b[1;32min\u001b[0m \u001b[0mscore\u001b[0m\u001b[1;33m.\u001b[0m\u001b[0mkeys\u001b[0m\u001b[1;33m(\u001b[0m\u001b[1;33m)\u001b[0m\u001b[1;33m:\u001b[0m\u001b[1;33m\u001b[0m\u001b[0m\n\u001b[0m\u001b[0;32m      3\u001b[0m     \u001b[0mscore\u001b[0m\u001b[1;33m[\u001b[0m\u001b[0mb\u001b[0m\u001b[1;33m]\u001b[0m\u001b[1;33m.\u001b[0m\u001b[0mappend\u001b[0m\u001b[1;33m(\u001b[0m\u001b[1;36m5\u001b[0m\u001b[1;33m)\u001b[0m\u001b[1;33m\u001b[0m\u001b[0m\n\u001b[0;32m      4\u001b[0m \u001b[1;32melse\u001b[0m\u001b[1;33m:\u001b[0m\u001b[1;33m\u001b[0m\u001b[0m\n\u001b[0;32m      5\u001b[0m     \u001b[0mscore\u001b[0m\u001b[1;33m[\u001b[0m\u001b[0mb\u001b[0m\u001b[1;33m]\u001b[0m\u001b[1;33m=\u001b[0m\u001b[1;36m5\u001b[0m\u001b[1;33m\u001b[0m\u001b[0m\n",
      "\u001b[1;31mNameError\u001b[0m: name 'b' is not defined"
     ]
    }
   ],
   "source": [
    "##If else work by try and except\n",
    "if b in score.keys():\n",
    "    score[b].append(5)\n",
    "else:\n",
    "    score[b]=5"
   ]
  },
  {
   "cell_type": "code",
   "execution_count": 14,
   "metadata": {},
   "outputs": [
    {
     "ename": "NameError",
     "evalue": "name 's' is not defined",
     "output_type": "error",
     "traceback": [
      "\u001b[1;31m---------------------------------------------------------------------------\u001b[0m",
      "\u001b[1;31mNameError\u001b[0m                                 Traceback (most recent call last)",
      "\u001b[1;32m<ipython-input-14-7d89dc80f511>\u001b[0m in \u001b[0;36m<module>\u001b[1;34m\u001b[0m\n\u001b[0;32m      1\u001b[0m \u001b[1;32mtry\u001b[0m\u001b[1;33m:\u001b[0m\u001b[1;33m\u001b[0m\u001b[0m\n\u001b[1;32m----> 2\u001b[1;33m     \u001b[0mscore\u001b[0m\u001b[1;33m[\u001b[0m\u001b[0mb\u001b[0m\u001b[1;33m]\u001b[0m\u001b[1;33m.\u001b[0m\u001b[0mappend\u001b[0m\u001b[1;33m(\u001b[0m\u001b[0ms\u001b[0m\u001b[1;33m)\u001b[0m\u001b[1;33m\u001b[0m\u001b[0m\n\u001b[0m\u001b[0;32m      3\u001b[0m \u001b[1;32mexcept\u001b[0m\u001b[1;33m:\u001b[0m\u001b[1;33m\u001b[0m\u001b[0m\n",
      "\u001b[1;31mNameError\u001b[0m: name 'score' is not defined",
      "\nDuring handling of the above exception, another exception occurred:\n",
      "\u001b[1;31mNameError\u001b[0m                                 Traceback (most recent call last)",
      "\u001b[1;32m<ipython-input-14-7d89dc80f511>\u001b[0m in \u001b[0;36m<module>\u001b[1;34m\u001b[0m\n\u001b[0;32m      2\u001b[0m     \u001b[0mscore\u001b[0m\u001b[1;33m[\u001b[0m\u001b[0mb\u001b[0m\u001b[1;33m]\u001b[0m\u001b[1;33m.\u001b[0m\u001b[0mappend\u001b[0m\u001b[1;33m(\u001b[0m\u001b[0ms\u001b[0m\u001b[1;33m)\u001b[0m\u001b[1;33m\u001b[0m\u001b[0m\n\u001b[0;32m      3\u001b[0m \u001b[1;32mexcept\u001b[0m\u001b[1;33m:\u001b[0m\u001b[1;33m\u001b[0m\u001b[0m\n\u001b[1;32m----> 4\u001b[1;33m     \u001b[0mscore\u001b[0m\u001b[1;33m[\u001b[0m\u001b[0mb\u001b[0m\u001b[1;33m]\u001b[0m\u001b[1;33m=\u001b[0m\u001b[0ms\u001b[0m\u001b[1;33m\u001b[0m\u001b[0m\n\u001b[0m",
      "\u001b[1;31mNameError\u001b[0m: name 's' is not defined"
     ]
    }
   ],
   "source": [
    "try:\n",
    "    score[b].append(s)\n",
    "except:\n",
    "    score[b]=s"
   ]
  },
  {
   "cell_type": "code",
   "execution_count": 22,
   "metadata": {},
   "outputs": [
    {
     "name": "stdout",
     "output_type": "stream",
     "text": [
      "Enter a value \n",
      "r\n",
      "Not a number\n",
      "Enter a value \n",
      "4\n",
      "4\n"
     ]
    }
   ],
   "source": [
    "#Avoiding nonsensical error from the user while input\n",
    "while (True):\n",
    "    try:\n",
    "        a=input(\"Enter a value \\n\")\n",
    "        a=int(a)\n",
    "    except ValueError:\n",
    "        print (\"Not a number\")\n",
    "    else:\n",
    "        break\n",
    "print (a)"
   ]
  },
  {
   "cell_type": "code",
   "execution_count": 24,
   "metadata": {},
   "outputs": [
    {
     "name": "stdout",
     "output_type": "stream",
     "text": [
      "a "
     ]
    }
   ],
   "source": [
    "print (\"a\",end=\" \") #The interpretor will not go to new line"
   ]
  },
  {
   "cell_type": "code",
   "execution_count": 28,
   "metadata": {},
   "outputs": [
    {
     "name": "stdout",
     "output_type": "stream",
     "text": [
      "x y .\n",
      "x y.\n"
     ]
    }
   ],
   "source": [
    "#Fine tuning print\n",
    "print (\"x\",\"y\",\".\") #Here dot printing after space\n",
    "print (\"x \",\"y\",\".\",sep=\"\") #Now no space "
   ]
  },
  {
   "cell_type": "code",
   "execution_count": 71,
   "metadata": {},
   "outputs": [
    {
     "name": "stdout",
     "output_type": "stream",
     "text": [
      "a To sort the list in ascending order.\n",
      "numbers = [ 1 , 3 , 4 , 2 ] # Sorting list of Integers in ascending. numbers.sort() print (numbers)\n",
      "chevron_right.\n",
      "numbers = [ 1 , 3 , 4 , 2 ] # Sorting list of Integers in descending. numbers.sort(reverse = True ) print (numbers)\n",
      "chevron_right.\n",
      "Python list sort() - GeeksforGeeks\n",
      "a1 \n",
      "a2 []\n"
     ]
    }
   ],
   "source": [
    "#Handling Files\n",
    "#f1=open(\"F1.ipynb\",\"r\")  #This is read mode; write mode will start from scratch; a=append mode\n",
    "f=open(\"F11.txt\",\"r+\")\n",
    "a=f.read()    #Reads entire file as single string\n",
    "print (\"a\",a)\n",
    "a1=f.readline()   #Reads line by line- \\n is preserved\n",
    "print (\"a1\",a1)\n",
    "a2=f.readlines()  #Reads entire file as list of strings - \\n is preserved\n",
    "print (\"a2\",a2)"
   ]
  },
  {
   "cell_type": "code",
   "execution_count": 87,
   "metadata": {},
   "outputs": [
    {
     "name": "stdout",
     "output_type": "stream",
     "text": [
      "o sort the list in ascending order.\n",
      "numbers = [ 1 , 3 , 4 , 2 ] # Sorting list of Integers in ascending. numbers.sort() print (numbers)\n",
      "chevron_right.\n",
      "numbers = [ 1 , 3 , 4 , 2 ] # Sorting list of Integers in descending. numbers.sort(reverse = True ) print (numbers)\n",
      "chevron_right.\n",
      "Python list sort() - GeeksforGeeks2020202020\n"
     ]
    }
   ],
   "source": [
    "f.seek(1)\n",
    "print (f.read())"
   ]
  },
  {
   "cell_type": "code",
   "execution_count": 82,
   "metadata": {},
   "outputs": [],
   "source": [
    "#block= (f.read(10))  #THis should read a fixed no of characters\n",
    "#print (block)"
   ]
  },
  {
   "cell_type": "code",
   "execution_count": 94,
   "metadata": {},
   "outputs": [
    {
     "name": "stdout",
     "output_type": "stream",
     "text": [
      "To sort the list in ascending order.\n",
      "numbers = [ 1 , 3 , 4 , 2 ] # Sorting list of Integers in ascending. numbers.sort() print (numbers)\n",
      "chevron_right.\n",
      "numbers = [ 1 , 3 , 4 , 2 ] # Sorting list of Integers in descending. numbers.sort(reverse = True ) print (numbers)\n",
      "chevron_right.\n",
      "Python list sort() - GeeksforGeeks202020202020201\n"
     ]
    }
   ],
   "source": [
    "#if f.read() and f.readline() return empty string means file is empty or we have reached end of the file\n",
    "f.write(\"201\")  #Write to a file- If only part is written means diskspace is full\n",
    "f=open(\"F11.txt\",\"r+\")\n",
    "print (f.read())"
   ]
  },
  {
   "cell_type": "code",
   "execution_count": 97,
   "metadata": {},
   "outputs": [
    {
     "name": "stdout",
     "output_type": "stream",
     "text": [
      "o sort the list in ascending order.\n",
      "numbers = [ 1 , 3 , 4 , 2 ] # Sorting list of Integers in ascending. numbers.sort() print (numbers)\n",
      "chevron_right.\n",
      "numbers = [ 1 , 3 , 4 , 2 ] # Sorting list of Integers in descending. numbers.sort(reverse = True ) print (numbers)\n",
      "chevron_right.\n",
      "Python list sort() - GeeksforGeeks202020202020201\n"
     ]
    }
   ],
   "source": [
    "f.seek(1)\n",
    "print (f.read())"
   ]
  },
  {
   "cell_type": "code",
   "execution_count": 104,
   "metadata": {},
   "outputs": [
    {
     "ename": "ValueError",
     "evalue": "I/O operation on closed file.",
     "output_type": "error",
     "traceback": [
      "\u001b[1;31m---------------------------------------------------------------------------\u001b[0m",
      "\u001b[1;31mValueError\u001b[0m                                Traceback (most recent call last)",
      "\u001b[1;32m<ipython-input-104-c03bd1084917>\u001b[0m in \u001b[0;36m<module>\u001b[1;34m\u001b[0m\n\u001b[1;32m----> 1\u001b[1;33m \u001b[0mf\u001b[0m\u001b[1;33m.\u001b[0m\u001b[0mwritelines\u001b[0m\u001b[1;33m(\u001b[0m\u001b[1;34m\"too sugar\"\u001b[0m\u001b[1;33m)\u001b[0m  \u001b[1;31m#You have to use backslash at the end if you want new lines\u001b[0m\u001b[1;33m\u001b[0m\u001b[0m\n\u001b[0m\u001b[0;32m      2\u001b[0m \u001b[0mf\u001b[0m\u001b[1;33m.\u001b[0m\u001b[0mwritelines\u001b[0m\u001b[1;33m(\u001b[0m\u001b[1;34m\"\\n three sugar\"\u001b[0m\u001b[1;33m)\u001b[0m\u001b[1;33m\u001b[0m\u001b[0m\n\u001b[0;32m      3\u001b[0m \u001b[0mf\u001b[0m\u001b[1;33m.\u001b[0m\u001b[0mseek\u001b[0m\u001b[1;33m(\u001b[0m\u001b[1;36m1\u001b[0m\u001b[1;33m)\u001b[0m\u001b[1;33m\u001b[0m\u001b[0m\n\u001b[0;32m      4\u001b[0m \u001b[0mprint\u001b[0m \u001b[1;33m(\u001b[0m\u001b[0mf\u001b[0m\u001b[1;33m.\u001b[0m\u001b[0mread\u001b[0m\u001b[1;33m(\u001b[0m\u001b[1;33m)\u001b[0m\u001b[1;33m)\u001b[0m\u001b[1;33m\u001b[0m\u001b[0m\n\u001b[0;32m      5\u001b[0m \u001b[0mf\u001b[0m\u001b[1;33m.\u001b[0m\u001b[0mclose\u001b[0m\u001b[1;33m(\u001b[0m\u001b[1;33m)\u001b[0m   \u001b[1;31m#Flush the buffer and close the file\u001b[0m\u001b[1;33m\u001b[0m\u001b[0m\n",
      "\u001b[1;31mValueError\u001b[0m: I/O operation on closed file."
     ]
    }
   ],
   "source": [
    "f.writelines(\"too sugar\")  #You have to use backslash at the end if you want new lines\n",
    "f.writelines(\"\\n three sugar\") \n",
    "f.seek(1)\n",
    "print (f.read())\n",
    "f.close()   #Flush the buffer and close the file\n",
    "f.flush()   #Only flush thje buffer"
   ]
  },
  {
   "cell_type": "code",
   "execution_count": 116,
   "metadata": {},
   "outputs": [
    {
     "name": "stdout",
     "output_type": "stream",
     "text": [
      "To sort the list in ascending order.\n",
      "\n",
      "numbers = [ 1 , 3 , 4 , 2 ] # Sorting list of Integers in ascending. numbers.sort() print (numbers)\n",
      "\n",
      "chevron_right.\n",
      "\n",
      "numbers = [ 1 , 3 , 4 , 2 ] # Sorting list of Integers in descending. numbers.sort(reverse = True ) print (numbers)\n",
      "\n",
      "chevron_right.\n",
      "\n",
      "Python list sort() - GeeksforGeeks202020202020201too sugartoo sugartoo sugar\n",
      "\n",
      " three sugartoo sugar\n",
      "\n",
      " three sugar\n"
     ]
    }
   ],
   "source": [
    "f=open(\"F11.txt\",\"r+\")\n",
    "a=f.readlines()    \n",
    "for l in a:\n",
    "    print (l)\n",
    "for l in f.readlines():  #Should do same thing as just above\n",
    "    print (\"start\",l)"
   ]
  },
  {
   "cell_type": "code",
   "execution_count": 132,
   "metadata": {},
   "outputs": [],
   "source": [
    "#Copying to a new file\n",
    "inp=open(\"F11.txt\",\"r\")\n",
    "out=open(\"new.txt\",\"w\")\n",
    "a=inp.readlines()\n",
    "for l in a:\n",
    "    out.write(l)  #Madhavan getting numbers as output while writing\n",
    "a=open(\"new.txt\",\"r\")\n",
    "print (a.read())\n",
    "inp.close()\n",
    "out.close()"
   ]
  },
  {
   "cell_type": "code",
   "execution_count": 128,
   "metadata": {},
   "outputs": [
    {
     "name": "stdout",
     "output_type": "stream",
     "text": [
      "['To sort the list in ascending order.\\n', 'numbers = [ 1 , 3 , 4 , 2 ] # Sorting list of Integers in ascending. numbers.sort() print (numbers)\\n', 'chevron_right.\\n', 'numbers = [ 1 , 3 , 4 , 2 ] # Sorting list of Integers in descending. numbers.sort(reverse = True ) print (numbers)\\n', 'chevron_right.\\n', 'Python list sort() - GeeksforGeeks202020202020201too sugartoo sugartoo sugar\\n', ' three sugartoo sugar\\n', ' three sugar']\n"
     ]
    }
   ],
   "source": [
    "#Another way to copy to new file- 1 shot \n",
    "inp=open(\"F11.txt\",\"r\")\n",
    "out=open(\"new1.txt\",\"w\")\n",
    "a=inp.readlines()\n",
    "print (a)\n",
    "out.writelines(a)\n",
    "inp.close()\n",
    "out.close()"
   ]
  },
  {
   "cell_type": "code",
   "execution_count": 133,
   "metadata": {},
   "outputs": [
    {
     "name": "stdout",
     "output_type": "stream",
     "text": [
      "To sort the list in ascending order.numbers = [ 1 , 3 , 4 , 2 ] # Sorting list of Integers in ascending. numbers.sort() print (numbers)chevron_right.numbers = [ 1 , 3 , 4 , 2 ] # Sorting list of Integers in descending. numbers.sort(reverse = True ) print (numbers)chevron_right.Python list sort() - GeeksforGeeks202020202020201too sugartoo sugartoo sugar three sugartoo sugar three suga\n",
      "To sort the list in ascending order.numbers = [ 1 , 3 , 4 , 2 ] # Sorting list of Integers in ascending. numbers.sort() print (numbers)chevron_right.numbers = [ 1 , 3 , 4 , 2 ] # Sorting list of Integers in descending. numbers.sort(reverse = True ) print (numbers)chevron_right.Python list sort() - GeeksforGeeks202020202020201too sugartoo sugartoo sugar three sugartoo sugar three sugar\n"
     ]
    }
   ],
   "source": [
    "#Stripping the new line character or the whitespace\n",
    "inp=open(\"F11.txt\",\"r\")\n",
    "a=inp.readlines()\n",
    "s=\"\"\n",
    "s1=\"\"\n",
    "for line in a:\n",
    "    s=s+line[:-1]  #Last character will be removed\n",
    "print (s)\n",
    "for line in a:\n",
    "    s1=s1+line.rstrip() #you can try strip,lstrip() as well\n",
    "print (s1)"
   ]
  },
  {
   "cell_type": "code",
   "execution_count": 137,
   "metadata": {},
   "outputs": [
    {
     "name": "stdout",
     "output_type": "stream",
     "text": [
      " Hello \t\n",
      " Hello\n",
      "Hello \t\n",
      "Hello\n"
     ]
    }
   ],
   "source": [
    "##Working with Strings\n",
    "s=\" Hello \\t\"\n",
    "print (s)\n",
    "t=s.rstrip()\n",
    "print (t)\n",
    "t=s.lstrip()\n",
    "print (t)\n",
    "t=s.strip()\n",
    "print (t)"
   ]
  },
  {
   "cell_type": "code",
   "execution_count": 147,
   "metadata": {},
   "outputs": [
    {
     "name": "stdout",
     "output_type": "stream",
     "text": [
      "17\n",
      "-1\n",
      "3\n",
      "3\n"
     ]
    }
   ],
   "source": [
    "s=\"To sort the list in the ascending sort order. the numbers = [ 1 , 3 , 4 , 2 ] # Sorting list of Integers in \"\n",
    "print (s.find(\"in\"))\n",
    "print (s.find(\"in\",5,10))  #-1 output means not found in that range\n",
    "print (s.index(\"sort\"))\n",
    "print (s.index(\"sort\",1,10)) #if not found this gives value error instead of -1"
   ]
  },
  {
   "cell_type": "code",
   "execution_count": 148,
   "metadata": {},
   "outputs": [
    {
     "data": {
      "text/plain": [
       "'To tros the list in the ascending tros order. the numbers = [ 1 , 3 , 4 , 2 ] # Sorting list of Integers in '"
      ]
     },
     "execution_count": 148,
     "metadata": {},
     "output_type": "execute_result"
    }
   ],
   "source": [
    "#Replace all occurences of a word with another in a string\n",
    "s.replace(\"sort\",\"tros\")"
   ]
  },
  {
   "cell_type": "code",
   "execution_count": 150,
   "metadata": {},
   "outputs": [
    {
     "data": {
      "text/plain": [
       "'To sort thee list in the ascending sort order. the numbers = [ 1 , 3 , 4 , 2 ] # Sorting list of Integers in '"
      ]
     },
     "execution_count": 150,
     "metadata": {},
     "output_type": "execute_result"
    }
   ],
   "source": [
    "#Replace only the first occurence of a word \n",
    "s.replace(\"the\",\"thee\",1)  #DO REMEMBER THE ORIGINAL STRING REMAINS INTACT"
   ]
  },
  {
   "cell_type": "code",
   "execution_count": 153,
   "metadata": {},
   "outputs": [
    {
     "data": {
      "text/plain": [
       "'cbba'"
      ]
     },
     "execution_count": 153,
     "metadata": {},
     "output_type": "execute_result"
    }
   ],
   "source": [
    "#Guess the output\n",
    "t=\"ababa\"\n",
    "t.replace(\"aba\",\"cb\") #See only the first string is replaced here"
   ]
  },
  {
   "cell_type": "code",
   "execution_count": 6,
   "metadata": {},
   "outputs": [
    {
     "data": {
      "text/plain": [
       "['There lived', ' in a dense forest , a horrendous creature, a monster']"
      ]
     },
     "execution_count": 6,
     "metadata": {},
     "output_type": "execute_result"
    }
   ],
   "source": [
    "#Excel spreadsheet as comma separated value\n",
    "s=\"There lived, in a dense forest , a horrendous creature, a monster\"\n",
    "b= (s.split(\",\"))\n",
    "a= (s.split(\",\",1))  #See this is creating only two splits\n",
    "a"
   ]
  },
  {
   "cell_type": "code",
   "execution_count": 11,
   "metadata": {},
   "outputs": [
    {
     "name": "stdout",
     "output_type": "stream",
     "text": [
      "There lived, in a dense forest , a horrendous creature, a monster\n"
     ]
    }
   ],
   "source": [
    "join1=\",\"\n",
    "\",\".join(b)   #reverse of split\n",
    "print (join1.join(a))"
   ]
  },
  {
   "cell_type": "code",
   "execution_count": 31,
   "metadata": {},
   "outputs": [
    {
     "name": "stdout",
     "output_type": "stream",
     "text": [
      "There was the , time of monsoon and people would come\n",
      "there was the , time of monsoon and people would come\n",
      "THERE WAS THE , TIME OF MONSOON AND PEOPLE WOULD COME\n",
      "There Was The , Time Of Monsoon And People Would Come\n",
      "THERE WAS THE , TIME OF MONSOON AND PEOPLE WOULD COME\n",
      "                       there was the , time of monsoon and people would come                        \n",
      "***********************there was the , time of monsoon and people would come************************\n",
      "there was the , time of monsoon and people would come                                               \n",
      "                                               there was the , time of monsoon and people would come\n",
      "there was the , time of monsoon and people would come###############################################\n",
      "False\n",
      "False\n"
     ]
    }
   ],
   "source": [
    "s=\"there was the , time of monsoon and people would come\"\n",
    "print (s.capitalize()) #capitalize first letter\n",
    "print (s.lower())\n",
    "print (s.upper())\n",
    "print (s.title())  #Capitalise first letter of each word\n",
    "print (s.swapcase()) #Will invert-lower to upper and vice-versa\n",
    "print (s.center(100)) #centered wrt to an area\n",
    "print (s.center(100,\"*\"))\n",
    "print (s.ljust(100))   #Note ljust aligns with left and space with rhs\n",
    "print (s.rjust(100))\n",
    "print (s.ljust(100,\"#\"))\n",
    "print (s.isalpha())             #check all alphabet\n",
    "print (s.isnumeric())           #check all numbers"
   ]
  },
  {
   "cell_type": "code",
   "execution_count": 3,
   "metadata": {},
   "outputs": [
    {
     "name": "stdout",
     "output_type": "stream",
     "text": [
      "a=10, b=12\n",
      "a=12, b=10\n",
      "a=11, b=21\n"
     ]
    }
   ],
   "source": [
    "## Formatted Printing\n",
    "#end and sep are used\n",
    "#Using the format option\n",
    "print (\"a={}, b={}\".format(10,12))\n",
    "print (\"a={1}, b={0}\".format(10,12))\n",
    "print (\"a={f}, b={s}\".format(f=11,s=\"21\"))"
   ]
  },
  {
   "cell_type": "code",
   "execution_count": 10,
   "metadata": {},
   "outputs": [
    {
     "name": "stdout",
     "output_type": "stream",
     "text": [
      "Val=  4\n",
      "Val= 11\n"
     ]
    }
   ],
   "source": [
    "#Real formatting\n",
    "print (\"Val={0:3d}\".format(4))  #Treat 4 as integer value  #3 here shows that it occupies 3 spaces\n",
    "print (\"Val={0:3o}\".format(9))  #Treat as octal, b-binary, x-hexadecimal"
   ]
  },
  {
   "cell_type": "code",
   "execution_count": 19,
   "metadata": {},
   "outputs": [
    {
     "name": "stdout",
     "output_type": "stream",
     "text": [
      "valu: 47.55\n"
     ]
    }
   ],
   "source": [
    "print (\"valu:{0:6.2f}\".format(47.5492))  #Treat 47.5492 as float  #6 spaces #.2 means take 2 decimal places"
   ]
  },
  {
   "cell_type": "code",
   "execution_count": 20,
   "metadata": {},
   "outputs": [
    {
     "name": "stdout",
     "output_type": "stream",
     "text": [
      "valu:       47.55\n"
     ]
    }
   ],
   "source": [
    "print (\"valu:      {0:6.2f}\".format(47.5492))   #Space at beginning also matters"
   ]
  },
  {
   "cell_type": "code",
   "execution_count": 25,
   "metadata": {},
   "outputs": [
    {
     "name": "stdout",
     "output_type": "stream",
     "text": [
      "[2, 4, 5]\n",
      "{'b': 2, 'k': 4}\n"
     ]
    }
   ],
   "source": [
    "#Pass- used to do nothing\n",
    "l=[1,2,4,5]   #Delete function \n",
    "del l[0]\n",
    "print (l)\n",
    "#Also works in dictionaries\n",
    "d={\"a\":1,\"b\":2,\"k\":4}\n",
    "del d[\"a\"]\n",
    "print (d)"
   ]
  },
  {
   "cell_type": "code",
   "execution_count": 31,
   "metadata": {},
   "outputs": [
    {
     "ename": "NameError",
     "evalue": "name 'x' is not defined",
     "output_type": "error",
     "traceback": [
      "\u001b[1;31m---------------------------------------------------------------------------\u001b[0m",
      "\u001b[1;31mNameError\u001b[0m                                 Traceback (most recent call last)",
      "\u001b[1;32m<ipython-input-31-aa313e7554d3>\u001b[0m in \u001b[0;36m<module>\u001b[1;34m\u001b[0m\n\u001b[0;32m      2\u001b[0m \u001b[0mx\u001b[0m\u001b[1;33m=\u001b[0m\u001b[1;36m7\u001b[0m\u001b[1;33m\u001b[0m\u001b[0m\n\u001b[0;32m      3\u001b[0m \u001b[1;32mdel\u001b[0m \u001b[0mx\u001b[0m\u001b[1;33m\u001b[0m\u001b[0m\n\u001b[1;32m----> 4\u001b[1;33m \u001b[0mprint\u001b[0m \u001b[1;33m(\u001b[0m\u001b[0mx\u001b[0m\u001b[1;33m)\u001b[0m   \u001b[1;31m#Gives error\u001b[0m\u001b[1;33m\u001b[0m\u001b[0m\n\u001b[0m\u001b[0;32m      5\u001b[0m \u001b[1;33m\u001b[0m\u001b[0m\n\u001b[0;32m      6\u001b[0m \u001b[1;31m#To resolve\u001b[0m\u001b[1;33m\u001b[0m\u001b[1;33m\u001b[0m\u001b[0m\n",
      "\u001b[1;31mNameError\u001b[0m: name 'x' is not defined"
     ]
    }
   ],
   "source": [
    "#How deleting a variable changes the expression\n",
    "x=7\n",
    "del x\n",
    "print (x)   #Gives error\n",
    "\n",
    "#To resolve\n",
    "try:\n",
    "    x\n",
    "except NameError:\n",
    "    x=3"
   ]
  },
  {
   "cell_type": "code",
   "execution_count": 36,
   "metadata": {},
   "outputs": [
    {
     "name": "stdout",
     "output_type": "stream",
     "text": [
      "None\n",
      "x= None\n",
      "x= 30\n"
     ]
    }
   ],
   "source": [
    "#The None value\n",
    "x=None\n",
    "print (x)\n",
    "if x==None:\n",
    "    print (\"x=\",x)\n",
    "x=30\n",
    "if x is not None:  #Checking if x is a valid value\n",
    "    print (\"x=\",x)"
   ]
  },
  {
   "cell_type": "code",
   "execution_count": 1,
   "metadata": {},
   "outputs": [
    {
     "name": "stdout",
     "output_type": "stream",
     "text": [
      "st\n",
      "Students\n",
      "SLY2301~Hannah Abbott\n",
      "Grades'\n",
      "Grades\n",
      "EndOfInput\n"
     ]
    },
    {
     "ename": "TypeError",
     "evalue": "must be str, not int",
     "output_type": "error",
     "traceback": [
      "\u001b[1;31m---------------------------------------------------------------------------\u001b[0m",
      "\u001b[1;31mTypeError\u001b[0m                                 Traceback (most recent call last)",
      "\u001b[1;32m<ipython-input-1-f21575bbeed9>\u001b[0m in \u001b[0;36m<module>\u001b[1;34m\u001b[0m\n\u001b[0;32m     56\u001b[0m \u001b[0mli\u001b[0m\u001b[1;33m.\u001b[0m\u001b[0msort\u001b[0m\u001b[1;33m(\u001b[0m\u001b[1;33m)\u001b[0m\u001b[1;33m\u001b[0m\u001b[0m\n\u001b[0;32m     57\u001b[0m \u001b[0minp_grade\u001b[0m\u001b[1;33m(\u001b[0m\u001b[0mgrade\u001b[0m\u001b[1;33m)\u001b[0m\u001b[1;33m\u001b[0m\u001b[0m\n\u001b[1;32m---> 58\u001b[1;33m \u001b[0mcal\u001b[0m\u001b[1;33m(\u001b[0m\u001b[1;33m)\u001b[0m\u001b[1;33m\u001b[0m\u001b[0m\n\u001b[0m",
      "\u001b[1;32m<ipython-input-1-f21575bbeed9>\u001b[0m in \u001b[0;36mcal\u001b[1;34m()\u001b[0m\n\u001b[0;32m     46\u001b[0m         \u001b[1;32mif\u001b[0m \u001b[0msum\u001b[0m\u001b[1;33m!=\u001b[0m\u001b[1;36m0\u001b[0m \u001b[1;33m:\u001b[0m\u001b[1;33m\u001b[0m\u001b[0m\n\u001b[0;32m     47\u001b[0m             \u001b[0mi\u001b[0m\u001b[1;33m[\u001b[0m\u001b[1;36m2\u001b[0m\u001b[1;33m]\u001b[0m\u001b[1;33m=\u001b[0m\u001b[0mround\u001b[0m\u001b[1;33m(\u001b[0m\u001b[0msum\u001b[0m\u001b[1;33m/\u001b[0m\u001b[0mi\u001b[0m\u001b[1;33m[\u001b[0m\u001b[1;36m2\u001b[0m\u001b[1;33m]\u001b[0m\u001b[1;33m,\u001b[0m\u001b[1;36m2\u001b[0m\u001b[1;33m)\u001b[0m\u001b[1;33m\u001b[0m\u001b[0m\n\u001b[1;32m---> 48\u001b[1;33m         \u001b[0mprint\u001b[0m\u001b[1;33m(\u001b[0m\u001b[0mi\u001b[0m\u001b[1;33m[\u001b[0m\u001b[1;36m0\u001b[0m\u001b[1;33m]\u001b[0m\u001b[1;33m+\u001b[0m\u001b[1;34m'~'\u001b[0m\u001b[1;33m+\u001b[0m\u001b[0mi\u001b[0m\u001b[1;33m[\u001b[0m\u001b[1;36m1\u001b[0m\u001b[1;33m]\u001b[0m\u001b[1;33m+\u001b[0m\u001b[1;34m'~'\u001b[0m\u001b[1;33m,\u001b[0m\u001b[0mi\u001b[0m\u001b[1;33m[\u001b[0m\u001b[1;36m2\u001b[0m\u001b[1;33m]\u001b[0m\u001b[1;33m,\u001b[0m\u001b[0msep\u001b[0m\u001b[1;33m=\u001b[0m\u001b[1;34m''\u001b[0m\u001b[1;33m)\u001b[0m\u001b[1;33m\u001b[0m\u001b[0m\n\u001b[0m\u001b[0;32m     49\u001b[0m \u001b[1;31m# main function starts here\u001b[0m\u001b[1;33m\u001b[0m\u001b[1;33m\u001b[0m\u001b[0m\n\u001b[0;32m     50\u001b[0m \u001b[0mli\u001b[0m\u001b[1;33m=\u001b[0m\u001b[1;33m[\u001b[0m\u001b[1;33m]\u001b[0m              \u001b[1;31m# the list where the answer will be stored\u001b[0m\u001b[1;33m\u001b[0m\u001b[0m\n",
      "\u001b[1;31mTypeError\u001b[0m: must be str, not int"
     ]
    }
   ],
   "source": [
    "##Assignment Week-5\n",
    "#Practice Assignment\n",
    "# function to take the input of the string\n",
    "'''\n",
    "The academic office at the Hogwarts School of Witchcraft and Wizardry has compiled data about students' grades. The data is provided as text from standard input in three parts: information about courses, information about students and information about grades. Each part has a specific line format, described below..\n",
    "\n",
    "Information about courses\n",
    "Line format: Course Code~Course Name~Semester~Year~Instructor\n",
    "Information about students\n",
    "Line format: Roll Number~Full Name\n",
    "Information about grades\n",
    "Line format: Course Code~Semester~Year~Roll Number~Grade\n",
    "The possible grades are A, AB, B, BC, C, CD, D with corresponding grade points 10, 9, 8, 7, 6, 5 and 4. The grade point average of a student is the sum of his/her grade points divided by the number of courses. For instance, if a student has taken two courses with grades A and C, the grade point average is 8 = (10+6)÷2. If a student has not completed any courses, the grade point average is defined to be 0.\n",
    "\n",
    "You may assume that the data is internally consistent. For every grade, there is a corresponding course code and roll number in the input data.\n",
    "\n",
    "Each section of the input starts with a line containing a single keyword. The first section begins with a line containing Courses. The second section begins with a line containing Students. The third section begins with a line containing Grades. The end of the input is marked by a line containing EndOfInput.\n",
    "\n",
    "Write a Python program to read the data as described above and print out a line listing the grade point average for each student in the following format:\n",
    "\n",
    "Roll Number~Full Name~Grade Point Average\n",
    "Your output should be sorted by Roll Number. The grade point average should be rounded off to 2 digits after the decimal point. Use the built-in function round().\n",
    "\n",
    "Here is a sample input and its corresponding output.\n",
    "\n",
    "Sample Input\n",
    "\n",
    "Courses\n",
    "TRAN~Transfiguration~1~2011-2012~Minerva McGonagall\n",
    "CHAR~Charms~1~2011-2012~Filius Flitwick\n",
    "Students\n",
    "SLY2301~Hannah Abbott\n",
    "SLY2302~Euan Abercrombie\n",
    "SLY2303~Stewart Ackerley\n",
    "SLY2304~Bertram Aubrey\n",
    "SLY2305~Avery\n",
    "SLY2306~Malcolm Baddock\n",
    "SLY2307~Marcus Belby\n",
    "SLY2308~Katie Bell\n",
    "SLY2309~Sirius Orion Black\n",
    "Grades\n",
    "TRAN~1~2011-2012~SLY2301~AB\n",
    "TRAN~1~2011-2012~SLY2302~B\n",
    "TRAN~1~2011-2012~SLY2303~B\n",
    "TRAN~1~2011-2012~SLY2305~A\n",
    "TRAN~1~2011-2012~SLY2306~BC\n",
    "TRAN~1~2011-2012~SLY2308~A\n",
    "TRAN~1~2011-2012~SLY2309~AB\n",
    "CHAR~1~2011-2012~SLY2301~A\n",
    "CHAR~1~2011-2012~SLY2302~BC\n",
    "CHAR~1~2011-2012~SLY2303~B\n",
    "CHAR~1~2011-2012~SLY2305~BC\n",
    "CHAR~1~2011-2012~SLY2306~C\n",
    "CHAR~1~2011-2012~SLY2307~B\n",
    "CHAR~1~2011-2012~SLY2308~AB\n",
    "EndOfInput\n",
    "Sample Input\n",
    "\n",
    "SLY2301~Hannah Abbott~9.5\n",
    "SLY2302~Euan Abercrombie~7.5\n",
    "SLY2303~Stewart Ackerley~8.0\n",
    "SLY2304~Bertram Aubrey~0\n",
    "SLY2305~Avery~8.5\n",
    "SLY2306~Malcolm Baddock~6.5\n",
    "SLY2307~Marcus Belby~8.0\n",
    "SLY2308~Katie Bell~9.5\n",
    "SLY2309~Sirius Orion Black~9.0\n",
    "'''\n",
    "def stu_input(l):\n",
    "    x=input()\n",
    "    while x!='Grades':\n",
    "        x=x.split('~')\n",
    "        x.append(0)   # appending 0 as the grade marks \n",
    "        l.append(x)\n",
    "        x=input()\n",
    "# function to take the grades of the students\n",
    "def inp_grade(grade):\n",
    "    x=input()\n",
    "    while x!='EndOfInput':\n",
    "        x=x.split('~')\n",
    "        x=x[len(x)-2:]\n",
    "        grade.append(x)\n",
    "        x=input()\n",
    "def com(x):\n",
    "    if x=='A':\n",
    "        return 10\n",
    "    elif x=='AB':\n",
    "        return 9\n",
    "    elif x=='B':\n",
    "        return 8\n",
    "    elif x=='BC':\n",
    "        return 7\n",
    "    elif x=='C':\n",
    "        return 6\n",
    "    elif x=='CD':\n",
    "        return 5\n",
    "    else:\n",
    "        return 4\n",
    "def cal():\n",
    "    global li,grade\n",
    "    for i in li:   # i is a list containg the name and roll of a student\n",
    "        j=0\n",
    "        sum=0\n",
    "        while j<len(grade):\n",
    "            if i[0]==grade[j][0] :     # if the roll matchs\n",
    "                sum=sum+com(grade[j][1])\n",
    "                grade.pop(j)\n",
    "                i[2]+=1\n",
    "            else :\n",
    "                j+=1\n",
    "        if sum!=0 :\n",
    "            i[2]=round(sum/i[2],2)\n",
    "        print(i[0]+'~'+i[1]+'~',i[2],sep='')\n",
    "# main function starts here\n",
    "li=[]              # the list where the answer will be stored \n",
    "grade=[]\n",
    "x=input()\n",
    "while x!='Students':           # first inputs are not required\n",
    "    x=input()\n",
    "stu_input(li)\n",
    "li.sort()\n",
    "inp_grade(grade)\n",
    "cal()"
   ]
  },
  {
   "cell_type": "code",
   "execution_count": 21,
   "metadata": {},
   "outputs": [
    {
     "name": "stdout",
     "output_type": "stream",
     "text": [
      "Books\n",
      "APM-001~Advanced Potion-Making\n",
      "GWG-001~Gadding With Ghouls\n",
      "APM-002~Advanced Potion-Making\n",
      "DMT-001~Defensive Magical Theory\n",
      "Borrowers\n",
      "SLY2301~Hannah Abbott\n",
      "SLY2302~Euan Abercrombie\n",
      "SLY2303~Stewart Ackerley\n",
      "SLY2304~Bertram Aubrey\n",
      "Checkouts\n",
      "SLY2304~DMT-002~2019-03-27\n",
      "SLY2301~GWG-001~2019-03-27\n",
      "EndOfInput\n"
     ]
    },
    {
     "ename": "IndexError",
     "evalue": "list index out of range",
     "output_type": "error",
     "traceback": [
      "\u001b[1;31m---------------------------------------------------------------------------\u001b[0m",
      "\u001b[1;31mIndexError\u001b[0m                                Traceback (most recent call last)",
      "\u001b[1;32m<ipython-input-21-92c8615e78d3>\u001b[0m in \u001b[0;36m<module>\u001b[1;34m\u001b[0m\n\u001b[0;32m     51\u001b[0m \u001b[0mBorrowers\u001b[0m\u001b[1;33m(\u001b[0m\u001b[0mborrowers\u001b[0m\u001b[1;33m)\u001b[0m\u001b[1;33m\u001b[0m\u001b[0m\n\u001b[0;32m     52\u001b[0m \u001b[0mCheckouts\u001b[0m\u001b[1;33m(\u001b[0m\u001b[0mcheckouts\u001b[0m\u001b[1;33m)\u001b[0m\u001b[1;33m\u001b[0m\u001b[0m\n\u001b[1;32m---> 53\u001b[1;33m \u001b[0mcal\u001b[0m\u001b[1;33m(\u001b[0m\u001b[1;33m)\u001b[0m\u001b[1;33m\u001b[0m\u001b[0m\n\u001b[0m",
      "\u001b[1;32m<ipython-input-21-92c8615e78d3>\u001b[0m in \u001b[0;36mcal\u001b[1;34m()\u001b[0m\n\u001b[0;32m     43\u001b[0m                 \u001b[0mm6\u001b[0m\u001b[1;33m.\u001b[0m\u001b[0mappend\u001b[0m\u001b[1;33m(\u001b[0m\u001b[0mbooks\u001b[0m\u001b[1;33m[\u001b[0m\u001b[0mi5\u001b[0m\u001b[1;33m]\u001b[0m\u001b[1;33m[\u001b[0m\u001b[1;36m1\u001b[0m\u001b[1;33m]\u001b[0m\u001b[1;33m)\u001b[0m\u001b[1;33m\u001b[0m\u001b[0m\n\u001b[0;32m     44\u001b[0m     \u001b[1;32mfor\u001b[0m \u001b[0mi7\u001b[0m \u001b[1;32min\u001b[0m \u001b[0mrange\u001b[0m\u001b[1;33m(\u001b[0m\u001b[0mlen\u001b[0m\u001b[1;33m(\u001b[0m\u001b[0mk\u001b[0m\u001b[1;33m)\u001b[0m\u001b[1;33m)\u001b[0m\u001b[1;33m:\u001b[0m\u001b[1;33m\u001b[0m\u001b[0m\n\u001b[1;32m---> 45\u001b[1;33m         \u001b[0mprint\u001b[0m \u001b[1;33m(\u001b[0m\u001b[0mk\u001b[0m\u001b[1;33m[\u001b[0m\u001b[0mi7\u001b[0m\u001b[1;33m]\u001b[0m\u001b[1;33m+\u001b[0m\u001b[1;34m\"~\"\u001b[0m\u001b[1;33m+\u001b[0m\u001b[0mm4\u001b[0m\u001b[1;33m[\u001b[0m\u001b[0mi7\u001b[0m\u001b[1;33m]\u001b[0m\u001b[1;33m+\u001b[0m\u001b[1;34m\"~\"\u001b[0m\u001b[1;33m+\u001b[0m\u001b[0mm5\u001b[0m\u001b[1;33m[\u001b[0m\u001b[0mi7\u001b[0m\u001b[1;33m]\u001b[0m\u001b[1;33m+\u001b[0m\u001b[1;34m\"~\"\u001b[0m\u001b[1;33m+\u001b[0m\u001b[0mm6\u001b[0m\u001b[1;33m[\u001b[0m\u001b[0mi7\u001b[0m\u001b[1;33m]\u001b[0m\u001b[1;33m)\u001b[0m\u001b[1;33m\u001b[0m\u001b[0m\n\u001b[0m\u001b[0;32m     46\u001b[0m \u001b[0mbooks\u001b[0m\u001b[1;33m=\u001b[0m\u001b[1;33m[\u001b[0m\u001b[1;33m]\u001b[0m\u001b[1;33m;\u001b[0m\u001b[0mborrowers\u001b[0m\u001b[1;33m=\u001b[0m\u001b[1;33m[\u001b[0m\u001b[1;33m]\u001b[0m\u001b[1;33m;\u001b[0m\u001b[0mcheckouts\u001b[0m\u001b[1;33m=\u001b[0m\u001b[1;33m[\u001b[0m\u001b[1;33m]\u001b[0m\u001b[1;33m\u001b[0m\u001b[0m\n\u001b[0;32m     47\u001b[0m \u001b[0mx\u001b[0m\u001b[1;33m=\u001b[0m\u001b[0minput\u001b[0m\u001b[1;33m(\u001b[0m\u001b[1;33m)\u001b[0m\u001b[1;33m\u001b[0m\u001b[0m\n",
      "\u001b[1;31mIndexError\u001b[0m: list index out of range"
     ]
    }
   ],
   "source": [
    "#Exercise\n",
    "'''\n",
    "The library at the Hogwarts School of Witchcraft and Wizardry has computerized its book issuing process. The relevant information is provided as text from standard input in three parts: information about books, information about borrowers and information about checkouts. Each part has a specific line format, described below.\n",
    "\n",
    "Information about books\n",
    "Line format: Accession Number~Title\n",
    "\n",
    "Information about borrowers\n",
    "Line format: Username~Full Name\n",
    "\n",
    "Information about checkouts\n",
    "Line format: Username~Accession Number~Due Date\n",
    "Note: Due Date is in YYYY-MM-DD format.\n",
    "\n",
    "You may assume that the data is internally consistent. For every checkout, there is a corresponding username and accession number in the input data, and no book is simultaneously checked out by two people.\n",
    "\n",
    "Each section of the input starts with a line containing a single keyword. The first section begins with a line containing Books. The second section begins with a line containing Borrowers. The third section begins with a line containing Checkouts. The end of the input is marked by a line containing EndOfInput.\n",
    "\n",
    "Write a Python program to read the data as described above and print out details about books that have been checked out. Each line should describe to one currently issued book in the following format:\n",
    "\n",
    "Due Date~Full Name~Accession Number~Title\n",
    "Your output should be sorted in increasing order of due date. For books due on the same date, sort in increasing order of full name.\n",
    "\n",
    "Here is a sample input and its corresponding output.\n",
    "\n",
    "Sample Input\n",
    "\n",
    "Books\n",
    "APM-001~Advanced Potion-Making\n",
    "GWG-001~Gadding With Ghouls\n",
    "APM-002~Advanced Potion-Making\n",
    "DMT-001~Defensive Magical Theory\n",
    "DMT-003~Defensive Magical Theory\n",
    "GWG-002~Gadding With Ghouls\n",
    "DMT-002~Defensive Magical Theory\n",
    "Borrowers\n",
    "SLY2301~Hannah Abbott\n",
    "SLY2302~Euan Abercrombie\n",
    "SLY2303~Stewart Ackerley\n",
    "SLY2304~Bertram Aubrey\n",
    "SLY2305~Avery\n",
    "SLY2306~Malcolm Baddock\n",
    "SLY2307~Marcus Belby\n",
    "SLY2308~Katie Bell\n",
    "SLY2309~Sirius Orion Black\n",
    "Checkouts\n",
    "SLY2304~DMT-002~2019-03-27\n",
    "SLY2301~GWG-001~2019-03-27\n",
    "SLY2308~APM-002~2019-03-14\n",
    "SLY2303~DMT-001~2019-04-03\n",
    "SLY2301~GWG-002~2019-04-03\n",
    "EndOfInput\n",
    "Sample Output\n",
    "\n",
    "2019-03-14~Katie Bell~APM-002~Advanced Potion-Making\n",
    "2019-03-27~Bertram Aubrey~DMT-002~Defensive Magical Theory\n",
    "2019-03-27~Hannah Abbott~GWG-001~Gadding With Ghouls\n",
    "2019-04-03~Hannah Abbott~GWG-002~Gadding With Ghouls\n",
    "2019-04-03~Stewart Ackerley~DMT-001~Defensive Magical Theory\n",
    "'''\n",
    "import sys    #not understood fully\n",
    "\n",
    "def sort_key(checkout):\n",
    "    key = list(map(int,checkout[1].split('-')));\n",
    "    key.append(borrowers[checkout[0][0]]);\n",
    "    key.append(checkout[0][1]);\n",
    "    return tuple(key);\n",
    "\n",
    "current = 'Books';\n",
    "books = dict();\n",
    "borrowers = dict();\n",
    "checkouts = dict();\n",
    "while(True):\n",
    "    line = input();\n",
    "    if(line == 'Books'):\n",
    "        current = 'Books';\n",
    "        continue;\n",
    "    elif(line == 'Borrowers'):\n",
    "        current = 'Borrowers'\n",
    "        continue;\n",
    "    elif(line == 'Checkouts'):\n",
    "        current = 'Checkouts';\n",
    "        continue;\n",
    "    elif(line == 'EndOfInput'):\n",
    "        break;\n",
    "    elif(current == 'Books'):\n",
    "        acc_no,title = line.split('~');\n",
    "        books[acc_no] = title;\n",
    "    elif(current == 'Borrowers'):\n",
    "        usr,name = line.split('~');\n",
    "        borrowers[usr] = name;\n",
    "    elif(current == 'Checkouts'):\n",
    "        usr,acc_no,due_date = line.split('~');\n",
    "        checkouts[(usr,acc_no)] = due_date;\n",
    "\n",
    "checkouts = sorted(checkouts.items(), key=sort_key);\n",
    "\n",
    "for checkout in checkouts:\n",
    "    line = checkout[1]+'~'+borrowers[checkout[0][0]]+'~'+\\\n",
    "           checkout[0][1]+'~'+books[checkout[0][1]]\n",
    "    print(line);"
   ]
  },
  {
   "cell_type": "code",
   "execution_count": null,
   "metadata": {},
   "outputs": [],
   "source": [
    "# inventory={}\n",
    "inventory[\"Amul, Mystic Mocha\"] = 55"
   ]
  },
  {
   "cell_type": "markdown",
   "metadata": {},
   "source": [
    "# WEEK 6"
   ]
  },
  {
   "cell_type": "code",
   "execution_count": 3,
   "metadata": {},
   "outputs": [
    {
     "name": "stdout",
     "output_type": "stream",
     "text": [
      "How many queens? 4\n",
      "(0, 1)\n",
      "(1, 3)\n",
      "(2, 0)\n",
      "(3, 2)\n"
     ]
    }
   ],
   "source": [
    "#Code for n queens\n",
    "def initialize(n):\n",
    "  for key in ['queen','row','col','nwtose','swtone']:\n",
    "    board[key] = {}\n",
    "  for i in range(n):\n",
    "    board['queen'][i] = -1\n",
    "    board['row'][i] = 0\n",
    "    board['col'][i] = 0\n",
    "  for i in range(-(n-1),n):\n",
    "    board['nwtose'][i] = 0\n",
    "  for i in range(2*n-1):\n",
    "    board['swtone'][i] = 0\n",
    "\n",
    "def printboard():\n",
    "  for row in sorted(board['queen'].keys()):\n",
    "    print((row,board['queen'][row]))\n",
    "\n",
    "def free(i,j):\n",
    "  return(board['row'][i] == 0 and board['col'][j] == 0 and\n",
    "          board['nwtose'][j-i] == 0 and board['swtone'][j+i] == 0)\n",
    "\n",
    "def addqueen(i,j):\n",
    "  board['queen'][i] = j\n",
    "  board['row'][i] = 1\n",
    "  board['col'][j] = 1\n",
    "  board['nwtose'][j-i] = 1\n",
    "  board['swtone'][j+i] = 1\n",
    "\n",
    "def undoqueen(i,j):\n",
    "  board['queen'][i] = -1\n",
    "  board['row'][i] = 0\n",
    "  board['col'][j] = 0\n",
    "  board['nwtose'][j-i] = 0\n",
    "  board['swtone'][j+i] = 0\n",
    "\n",
    "def placequeen(i):\n",
    "  n = len(board['queen'].keys())\n",
    "  for j in range(n):\n",
    "    if free(i,j):\n",
    "      addqueen(i,j)\n",
    "      if i == n-1:\n",
    "        return(True)\n",
    "      else:\n",
    "        extendsoln = placequeen(i+1)\n",
    "      if extendsoln:\n",
    "        return(True)\n",
    "      else:\n",
    "        undoqueen(i,j)\n",
    "  else:\n",
    "    return(False)\n",
    "\n",
    "board = {}\n",
    "n = int(input(\"How many queens? \"))\n",
    "initialize(n)\n",
    "if placequeen(0):\n",
    "  printboard()"
   ]
  },
  {
   "cell_type": "code",
   "execution_count": 6,
   "metadata": {},
   "outputs": [
    {
     "name": "stdout",
     "output_type": "stream",
     "text": [
      "How many queens? 0\n"
     ]
    }
   ],
   "source": [
    "# n queens all solutions\n",
    "def initialize(n):\n",
    "  for key in ['queen','row','col','nwtose','swtone']:\n",
    "    board[key] = {}\n",
    "  for i in range(n):\n",
    "    board['queen'][i] = -1\n",
    "    board['row'][i] = 0\n",
    "    board['col'][i] = 0\n",
    "  for i in range(-(n-1),n):\n",
    "    board['nwtose'][i] = 0\n",
    "  for i in range(2*n-1):\n",
    "    board['swtone'][i] = 0\n",
    "\n",
    "def printboard():\n",
    "  for row in sorted(board['queen'].keys()):\n",
    "    print((row,board['queen'][row]),end=\" \")\n",
    "  print(\"\")\n",
    "  \n",
    "def free(i,j):\n",
    "  return(board['row'][i] == 0 and board['col'][j] == 0 and\n",
    "          board['nwtose'][j-i] == 0 and board['swtone'][j+i] == 0)\n",
    "\n",
    "def addqueen(i,j):\n",
    "  board['queen'][i] = j\n",
    "  board['row'][i] = 1\n",
    "  board['col'][j] = 1\n",
    "  board['nwtose'][j-i] = 1\n",
    "  board['swtone'][j+i] = 1\n",
    "\n",
    "def undoqueen(i,j):\n",
    "  board['queen'][i] = -1\n",
    "  board['row'][i] = 0\n",
    "  board['col'][j] = 0\n",
    "  board['nwtose'][j-i] = 0\n",
    "  board['swtone'][j+i] = 0\n",
    "\n",
    "def placequeen(i):\n",
    "  n = len(board['queen'].keys())\n",
    "  for j in range(n):\n",
    "    if free(i,j):\n",
    "      addqueen(i,j)\n",
    "      if i == n-1:\n",
    "        printboard()\n",
    "      else:\n",
    "        extendsoln = placequeen(i+1)\n",
    "      undoqueen(i,j)\n",
    "\n",
    "board = {}\n",
    "n = int(input(\"How many queens? \"))\n",
    "initialize(n)\n",
    "if placequeen(0):\n",
    "  printboard()"
   ]
  },
  {
   "cell_type": "code",
   "execution_count": 10,
   "metadata": {},
   "outputs": [
    {
     "name": "stdout",
     "output_type": "stream",
     "text": [
      "8\n"
     ]
    }
   ],
   "source": [
    "#Local and global scope\n",
    "def f():\n",
    "    #x=-1   #if x defined within it will use this otherwise will use the outside x\n",
    "    y=x\n",
    "    print (y)\n",
    "x=8\n",
    "f()"
   ]
  },
  {
   "cell_type": "code",
   "execution_count": 11,
   "metadata": {},
   "outputs": [
    {
     "ename": "UnboundLocalError",
     "evalue": "local variable 'x' referenced before assignment",
     "output_type": "error",
     "traceback": [
      "\u001b[1;31m---------------------------------------------------------------------------\u001b[0m",
      "\u001b[1;31mUnboundLocalError\u001b[0m                         Traceback (most recent call last)",
      "\u001b[1;32m<ipython-input-11-ac748a6ede58>\u001b[0m in \u001b[0;36m<module>\u001b[1;34m\u001b[0m\n\u001b[0;32m      4\u001b[0m     \u001b[0mx\u001b[0m\u001b[1;33m=\u001b[0m\u001b[1;36m22\u001b[0m\u001b[1;33m\u001b[0m\u001b[0m\n\u001b[0;32m      5\u001b[0m \u001b[0mx\u001b[0m\u001b[1;33m=\u001b[0m\u001b[1;36m7\u001b[0m\u001b[1;33m\u001b[0m\u001b[0m\n\u001b[1;32m----> 6\u001b[1;33m \u001b[0mg\u001b[0m\u001b[1;33m(\u001b[0m\u001b[1;33m)\u001b[0m\u001b[1;33m\u001b[0m\u001b[0m\n\u001b[0m",
      "\u001b[1;32m<ipython-input-11-ac748a6ede58>\u001b[0m in \u001b[0;36mg\u001b[1;34m()\u001b[0m\n\u001b[0;32m      1\u001b[0m \u001b[1;32mdef\u001b[0m \u001b[0mg\u001b[0m\u001b[1;33m(\u001b[0m\u001b[1;33m)\u001b[0m\u001b[1;33m:\u001b[0m\u001b[1;33m\u001b[0m\u001b[0m\n\u001b[1;32m----> 2\u001b[1;33m     \u001b[0my\u001b[0m\u001b[1;33m=\u001b[0m\u001b[0mx\u001b[0m           \u001b[1;31m#gives error bcz here it searches for x within the function\u001b[0m\u001b[1;33m\u001b[0m\u001b[0m\n\u001b[0m\u001b[0;32m      3\u001b[0m     \u001b[0mprint\u001b[0m \u001b[1;33m(\u001b[0m\u001b[0my\u001b[0m\u001b[1;33m)\u001b[0m\u001b[1;33m\u001b[0m\u001b[0m\n\u001b[0;32m      4\u001b[0m     \u001b[0mx\u001b[0m\u001b[1;33m=\u001b[0m\u001b[1;36m22\u001b[0m\u001b[1;33m\u001b[0m\u001b[0m\n\u001b[0;32m      5\u001b[0m \u001b[0mx\u001b[0m\u001b[1;33m=\u001b[0m\u001b[1;36m7\u001b[0m\u001b[1;33m\u001b[0m\u001b[0m\n",
      "\u001b[1;31mUnboundLocalError\u001b[0m: local variable 'x' referenced before assignment"
     ]
    }
   ],
   "source": [
    "def g():\n",
    "    y=x           #gives error bcz here it searches for x within the function\n",
    "    print (y)\n",
    "    x=22\n",
    "x=7\n",
    "g()               "
   ]
  },
  {
   "cell_type": "code",
   "execution_count": 15,
   "metadata": {},
   "outputs": [
    {
     "name": "stdout",
     "output_type": "stream",
     "text": [
      "7\n"
     ]
    }
   ],
   "source": [
    "#Same thing with mutable value gives different result\n",
    "def gm():\n",
    "    y=x[0]          #no error \n",
    "    print (y)\n",
    "    x[0]=22\n",
    "x=[7]\n",
    "gm()\n",
    "#Hence global names pointing to mutable values can be updated but immutable cant"
   ]
  },
  {
   "cell_type": "code",
   "execution_count": 16,
   "metadata": {},
   "outputs": [],
   "source": [
    "#Then nqueens problem solved by using board as global(i didnt see any difference)"
   ]
  },
  {
   "cell_type": "code",
   "execution_count": 19,
   "metadata": {},
   "outputs": [
    {
     "name": "stdout",
     "output_type": "stream",
     "text": [
      "3\n"
     ]
    }
   ],
   "source": [
    "#Declaring x as global in function so that it uses x outside not the one with local scope\n",
    "def gm():\n",
    "    global x     #Declaring this global here we are asking to use the x with global scope(if local not available it will take global)\n",
    "    y=x          #no error \n",
    "    print (y)\n",
    "    x=22\n",
    "x=7\n",
    "gm()"
   ]
  },
  {
   "cell_type": "code",
   "execution_count": 20,
   "metadata": {},
   "outputs": [
    {
     "name": "stdout",
     "output_type": "stream",
     "text": [
      "7\n",
      "22\n"
     ]
    }
   ],
   "source": [
    "def gm():\n",
    "    global x     \n",
    "    y=x          \n",
    "    print (y)\n",
    "    x=22\n",
    "x=7\n",
    "gm()\n",
    "print (x) #will print x changed ie 22"
   ]
  },
  {
   "cell_type": "code",
   "execution_count": 21,
   "metadata": {},
   "outputs": [
    {
     "name": "stdout",
     "output_type": "stream",
     "text": [
      "3\n"
     ]
    }
   ],
   "source": [
    "def gm():\n",
    "    global x \n",
    "    x=3              #Since it has got 3 now , will print 3\n",
    "    y=x          \n",
    "    print (y)\n",
    "    x=22\n",
    "x=7\n",
    "gm()"
   ]
  },
  {
   "cell_type": "code",
   "execution_count": 28,
   "metadata": {},
   "outputs": [
    {
     "name": "stdout",
     "output_type": "stream",
     "text": [
      "19\n"
     ]
    }
   ],
   "source": [
    "#Helper functions(fn with fn- so if you try to use a helper fn outside it will give you error)\n",
    "def f():\n",
    "    def g(a):\n",
    "        global x\n",
    "        return (x+1)   #If you call x here it will first look in f and then outside\n",
    "    def h(a):\n",
    "        return (a)\n",
    "    global x\n",
    "    y=g(x)+h(x)\n",
    "    print (y)\n",
    "    x=22\n",
    "x=9\n",
    "f()"
   ]
  },
  {
   "cell_type": "code",
   "execution_count": 39,
   "metadata": {},
   "outputs": [
    {
     "name": "stdout",
     "output_type": "stream",
     "text": [
      "-87\n"
     ]
    }
   ],
   "source": [
    "def f():\n",
    "    x=-88\n",
    "    def g(a):\n",
    "        global x\n",
    "        return (a+1)   #It will use inside x first\n",
    "    y=g(x)\n",
    "    print (y)\n",
    "x=9\n",
    "f()"
   ]
  },
  {
   "cell_type": "code",
   "execution_count": null,
   "metadata": {},
   "outputs": [],
   "source": [
    "#Permutation -showing steps how to get the next step\n",
    "d c b j e i l g k o n m j i   #o n m j i is already sorted in descending so move to next value\n",
    "d c b j e i l g k o n m j i   #we have chosen k now in the series k o n m j i pick the value just greater than k->m\n",
    "d c b j e i l g m i j k n o   #fixed m and arrange in asending order the rest gives us the next permutation"
   ]
  },
  {
   "cell_type": "code",
   "execution_count": 46,
   "metadata": {},
   "outputs": [
    {
     "name": "stdout",
     "output_type": "stream",
     "text": [
      "{1, 2, 3, 4, 5}\n",
      "True\n",
      "{1, 2, 3, 4}\n",
      "{'b', 'n', 'a'}\n",
      "{'banana'}\n"
     ]
    }
   ],
   "source": [
    "#Sets- store only unique values\n",
    "a={}\n",
    "b={1,2,3,4,5,2,3,4}\n",
    "print (b)\n",
    "print (2 in b)\n",
    "#converting list to set\n",
    "l=[1,2,3,4]\n",
    "ls=set(l)\n",
    "print (ls)\n",
    "#print (ls[0])   #No order like in dict\n",
    "#converting a string to set\n",
    "st=\"banana\"\n",
    "st_s=set(st)\n",
    "print (st_s)\n",
    "#But this assignment is different\n",
    "st1={\"banana\"}\n",
    "st_s1=set(st1)\n",
    "print (st_s1)   #No split as we have already stored it as set"
   ]
  },
  {
   "cell_type": "code",
   "execution_count": 50,
   "metadata": {},
   "outputs": [
    {
     "name": "stdout",
     "output_type": "stream",
     "text": [
      "{1, 2, 3, 5, 7, 9, 11}\n",
      "{11, 3, 5, 7}\n",
      "{1, 9}\n",
      "{1, 2, 9}\n"
     ]
    }
   ],
   "source": [
    "#Operations on sets\n",
    "odd=set([1,3,5,7,9,11])\n",
    "prime=set([2,3,5,7,11])\n",
    "\n",
    "#Union-use or\n",
    "print (odd | prime)\n",
    "\n",
    "#Intersection use and \n",
    "print (odd & prime)\n",
    "\n",
    "#Set difference\n",
    "print (odd-prime)\n",
    "\n",
    "#Exclusive or\n",
    "print (odd^prime)"
   ]
  },
  {
   "cell_type": "code",
   "execution_count": 56,
   "metadata": {},
   "outputs": [
    {
     "name": "stdout",
     "output_type": "stream",
     "text": [
      "[1, 2, 3, 4, 5, 2]\n",
      "[1, 2, 3, 4]\n"
     ]
    }
   ],
   "source": [
    "#Stacks\n",
    "l=[1,2,3,4,5]\n",
    "l.append(2)  #push(2)\n",
    "print (l)\n",
    "l.pop()     #LIFO operation in action\n",
    "l.pop()\n",
    "print (l)"
   ]
  },
  {
   "cell_type": "code",
   "execution_count": 64,
   "metadata": {},
   "outputs": [
    {
     "name": "stdout",
     "output_type": "stream",
     "text": [
      "['a', 'b', 'm', 'c', 'd', 'e']\n",
      "['a', 'b', 'm', 'c', 'd']\n",
      "['a', 'b', 'm', 'd']\n"
     ]
    }
   ],
   "source": [
    "#Queues--\"FIFO\"\n",
    "l=['a','b','c','d','e']\n",
    "l.insert(2,\"m\")    #insert m before postion 2 ->addl(2,\"m\")\n",
    "print (l)\n",
    "l.pop()\n",
    "print (l)\n",
    "l.pop(3)\n",
    "print (l)"
   ]
  },
  {
   "cell_type": "code",
   "execution_count": null,
   "metadata": {},
   "outputs": [],
   "source": [
    "#Stacks- useful for recursive eplorations\n",
    "#queues- useful for breadth first exploration (remember the 3x3 square where we try to go to \n",
    "#(1,1) by constantly changing queue)\n",
    "#The pseudocode for exploration where we try to reach a target (tx,ty) by starting from (sx,sy)\n",
    "'''\n",
    "def explore((sx,sy),(tx,ty))  #queue will initially start with (sx,sy) and then we will pop out \n",
    "    marked=[[0 for i in range(n)]for j in range (m)]   #If the matrix to be searched is n*m\n",
    "    marked[sx][sy]=1\n",
    "    queue=[(sx,sy)]     #queue will initially start with (sx,sy), we will add neighbors and pop out the sources after\n",
    "                        #exploring its neighbors\n",
    "    while (queue!=[]):   #if queue is expty stop\n",
    "        (ax,ay)=queue.pop()  #Remove the source from the queue and check its neighbors , append them to queue; repeat\n",
    "        for (nx,ny) is neighbors((ax,ay)):\n",
    "            if !marked([nx][ny]):\n",
    "                marked[nx][ny]=1\n",
    "                queue.insert(0,(nx,ny))\n",
    "    return (marked[tx][ty])\n",
    "'''"
   ]
  },
  {
   "cell_type": "code",
   "execution_count": 67,
   "metadata": {},
   "outputs": [
    {
     "data": {
      "text/plain": [
       "{4, 5, 6}"
      ]
     },
     "execution_count": 67,
     "metadata": {},
     "output_type": "execute_result"
    }
   ],
   "source": [
    "#Quiz\n",
    "#Suppose u and v both denote sets in Python. Under what condition can we guarantee that u - (u - v) == v?\n",
    "u={1,2,3,4,5,6}\n",
    "v={4,5,6}\n",
    "u-(u-v)"
   ]
  },
  {
   "cell_type": "code",
   "execution_count": 68,
   "metadata": {},
   "outputs": [
    {
     "name": "stdout",
     "output_type": "stream",
     "text": [
      "True\n"
     ]
    }
   ],
   "source": [
    "#Suppose u and v both denote sets in Python. Under what condition can we guarantee that u|v == u^v?\n",
    "u={1,2,3}\n",
    "v={4,5,6}\n",
    "print (u|v == u^v)"
   ]
  }
 ],
 "metadata": {
  "kernelspec": {
   "display_name": "Python 3",
   "language": "python",
   "name": "python3"
  },
  "language_info": {
   "codemirror_mode": {
    "name": "ipython",
    "version": 3
   },
   "file_extension": ".py",
   "mimetype": "text/x-python",
   "name": "python",
   "nbconvert_exporter": "python",
   "pygments_lexer": "ipython3",
   "version": "3.6.0"
  }
 },
 "nbformat": 4,
 "nbformat_minor": 2
}
