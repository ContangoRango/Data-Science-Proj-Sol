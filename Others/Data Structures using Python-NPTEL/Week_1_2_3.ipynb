{
 "cells": [
  {
   "cell_type": "markdown",
   "metadata": {},
   "source": [
    "# Week 1"
   ]
  },
  {
   "cell_type": "code",
   "execution_count": 2,
   "metadata": {},
   "outputs": [
    {
     "name": "stdout",
     "output_type": "stream",
     "text": [
      "1\n"
     ]
    }
   ],
   "source": [
    "\n",
    "\n",
    "#Basic Function for calculating GCD or HCF\n",
    "\n",
    "def gcd1(m,n):\n",
    "    fm=[]\n",
    "    for i in range(1,m+1):\n",
    "        if m%i==0:\n",
    "            fm.append(i)\n",
    "    fn=[]\n",
    "    for i in range(1,n+1):\n",
    "        if n%i==0:\n",
    "            fn.append(i)\n",
    "    cf=[]\n",
    "    for f in fm:\n",
    "        if f in fn:\n",
    "            cf.append(f)\n",
    "    return (cf[-1])\n",
    "\n",
    "print (gcd1(9999999,10000000))\n",
    "\n",
    "\n",
    "#New approaches for GCD\n",
    "def gcd2(m,n):\n",
    "    cf=[]\n",
    "    for i in range(1,min(m,n)+1):\n",
    "        if m%i==0 and n%i==0:\n",
    "            cf.append(i)\n",
    "    return cf[-1]\n",
    "\n",
    "\n",
    "def gcd3(m,n):  #No lists\n",
    "    cf=[]\n",
    "    for i in range(1,min(m,n)+1):\n",
    "        if m%i==0 and n%i==0:\n",
    "            mcf=i\n",
    "    return mcf\n",
    "\n",
    "\n",
    "\n",
    "def gcd4(m,n):  #No lists\n",
    "    i=min(m,n)\n",
    "    while(i>0):\n",
    "        if (m%i==0 and n%i==0):\n",
    "            return i\n",
    "        else:\n",
    "            i=i-1\n"
   ]
  },
  {
   "cell_type": "markdown",
   "metadata": {},
   "source": [
    "## Euclid's Algorithm using recursive function"
   ]
  },
  {
   "cell_type": "code",
   "execution_count": 147,
   "metadata": {},
   "outputs": [
    {
     "data": {
      "text/plain": [
       "1"
      ]
     },
     "execution_count": 147,
     "metadata": {},
     "output_type": "execute_result"
    }
   ],
   "source": [
    "def gcdE1(m,n):\n",
    "    if m<n:             #Assume m>n\n",
    "        (m,n)=(n,m)     #Special swap in python\n",
    "    if (m%n)==0:\n",
    "        return n\n",
    "    else:        \n",
    "       return gcdE1(max(n,m-n),min(n,m-n)) # diff cam be > n\n",
    "\n",
    "#Using while Loop\n",
    "\n",
    "def gcdE2(m,n):\n",
    "    if m<n:\n",
    "        (m,n)=(n,m)\n",
    "    while (m%n!=0):\n",
    "        (m,n)=(max(n,m-n),min(n,m-n))\n",
    "    return (n)\n",
    "gcdE2(22,4)\n",
    "\n",
    "def gcdE3(m,n):\n",
    "    if m<n:\n",
    "        (m,n)=(n,m)\n",
    "    if (m%n)==0:\n",
    "        return n\n",
    "    else:\n",
    "        return gcdE3(n,m%n)\n",
    "gcdE3(9999999999,1000000000)"
   ]
  },
  {
   "cell_type": "markdown",
   "metadata": {},
   "source": [
    "## Assignment Week-1"
   ]
  },
  {
   "cell_type": "code",
   "execution_count": 148,
   "metadata": {},
   "outputs": [],
   "source": [
    "def f(x):\n",
    "    d=0\n",
    "    while x >= 1:\n",
    "        (x,d) = (x/4,d+1)\n",
    "    return(d)"
   ]
  },
  {
   "cell_type": "code",
   "execution_count": 149,
   "metadata": {},
   "outputs": [],
   "source": [
    "def h(n):\n",
    "    s = 0\n",
    "    for i in range(1,n):\n",
    "        if n%i == 0:\n",
    "           s = s+i\n",
    "    return(s)"
   ]
  },
  {
   "cell_type": "code",
   "execution_count": 150,
   "metadata": {},
   "outputs": [],
   "source": [
    "def g(m,n):\n",
    "    res = 0\n",
    "    while m >= n:\n",
    "        (res,m) = (res+1,m-n)\n",
    "    return(res)"
   ]
  },
  {
   "cell_type": "code",
   "execution_count": 151,
   "metadata": {},
   "outputs": [
    {
     "data": {
      "text/plain": [
       "6"
      ]
     },
     "execution_count": 151,
     "metadata": {},
     "output_type": "execute_result"
    }
   ],
   "source": [
    "def mys(m):\n",
    "  if m == 0:\n",
    "    return(1)\n",
    "  else:\n",
    "    return(m*mys(m-1))\n",
    "mys(3)"
   ]
  },
  {
   "cell_type": "markdown",
   "metadata": {},
   "source": [
    "## Week 2"
   ]
  },
  {
   "cell_type": "code",
   "execution_count": 20,
   "metadata": {},
   "outputs": [
    {
     "name": "stdout",
     "output_type": "stream",
     "text": [
      "[1, 2, 3, 10]\n",
      "typeval\n",
      "Strings are immutable\n",
      "hypeval\n"
     ]
    }
   ],
   "source": [
    "##lists are mutable while strings are not\n",
    "\n",
    "list1=[1,2,3,6]\n",
    "list1[3]=10\n",
    "print (list1)\n",
    "a=\"typeval\"\n",
    "print (a)\n",
    "try:\n",
    "    a[0]=\"r\" ### This will give error\n",
    "except:\n",
    "    print (\"Strings are immutable\")\n",
    "    \n",
    "## To copy strings a new string need to be created\n",
    "\n",
    "b=\"hype\"+a[4:]\n",
    "print (b)"
   ]
  },
  {
   "cell_type": "code",
   "execution_count": 17,
   "metadata": {},
   "outputs": [
    {
     "name": "stdout",
     "output_type": "stream",
     "text": [
      "4\n",
      "o\n"
     ]
    }
   ],
   "source": [
    "##Char does not exist in python only concept of string\n",
    "###Referencing nested lists\n",
    "list1=[[2,4],5,[\"hello\"]]\n",
    "print (list1[0][1])\n",
    "print (list1[2][0][4])\n"
   ]
  },
  {
   "cell_type": "code",
   "execution_count": 18,
   "metadata": {},
   "outputs": [
    {
     "data": {
      "text/plain": [
       "False"
      ]
     },
     "execution_count": 18,
     "metadata": {},
     "output_type": "execute_result"
    }
   ],
   "source": [
    "### Important concept about mutablity and string vs list\n",
    "\n",
    "list1=[1,5,6,9]\n",
    "list1[0:1]==list1[0]\n",
    "\n"
   ]
  },
  {
   "cell_type": "code",
   "execution_count": 22,
   "metadata": {},
   "outputs": [
    {
     "name": "stdout",
     "output_type": "stream",
     "text": [
      "4\n",
      "y changed 4\n",
      "[1, 2, 'a', 18]\n",
      "new list 2 [[48], 2, 'a', 18]\n",
      "list3 [[48], 2, 'a', 18]\n",
      "list3 changed [[48], 2, 'a', 18]\n"
     ]
    }
   ],
   "source": [
    "## Copying variable make a fresh copy while list does not\n",
    "\n",
    "x=4\n",
    "y=x\n",
    "print (y)\n",
    "x='1'\n",
    "\n",
    "print (\"y changed\",y) # No change oberved in value of y\n",
    "\n",
    "### Here is the copying to the list part\n",
    "\n",
    "list1= [1,2,'a',18]\n",
    "list2=list1\n",
    "print (list2)\n",
    "list1[0]=[48]\n",
    "\n",
    "print (\"new list 2\",list2)  ### Here list2 has changed\n",
    "\n",
    "## To make a true copy which is not affected by change in the original list\n",
    "\n",
    "list3= list1[:]\n",
    "print (\"list3\",list3)\n",
    "list1[0]=44\n",
    "print (\"list3 changed\",list3) ## No change will be seen in list3"
   ]
  },
  {
   "cell_type": "code",
   "execution_count": 28,
   "metadata": {},
   "outputs": [
    {
     "data": {
      "text/plain": [
       "True"
      ]
     },
     "execution_count": 28,
     "metadata": {},
     "output_type": "execute_result"
    }
   ],
   "source": [
    "## Digression on equality\n",
    "\n",
    "list1=[1,3,5,7]\n",
    "list2=[1,3,5,7]\n",
    "list3=list2\n",
    "\n",
    "x==y   ## Checks if  x and y have same value\n",
    "x is y  ## Checks if x and y refer to same object\n",
    "list3 is list2"
   ]
  },
  {
   "cell_type": "code",
   "execution_count": 32,
   "metadata": {},
   "outputs": [
    {
     "name": "stdout",
     "output_type": "stream",
     "text": [
      "new list1 [1, 2, 3, 4, 3]\n",
      "False\n"
     ]
    }
   ],
   "source": [
    "## How concat affects the list\n",
    "\n",
    "# + produces a new list\n",
    "\n",
    "list1=[1,2,3,4]\n",
    "list2=list1\n",
    "list1= list1+[3]\n",
    "print (\"new list1\",list1)\n",
    "print (list1==list2)"
   ]
  },
  {
   "cell_type": "code",
   "execution_count": 34,
   "metadata": {},
   "outputs": [
    {
     "data": {
      "text/plain": [
       "6"
      ]
     },
     "execution_count": 34,
     "metadata": {},
     "output_type": "execute_result"
    }
   ],
   "source": [
    "## Order of defining function\n",
    "#Although function cant be called before its definition but can be called in another function before and used later\n",
    "\n",
    "def f(x):\n",
    "    return g(x+1) #g called \n",
    "def g(y):    # Here g defined later\n",
    "    return y+3\n",
    "f(2)"
   ]
  },
  {
   "cell_type": "code",
   "execution_count": 41,
   "metadata": {},
   "outputs": [
    {
     "data": {
      "text/plain": [
       "120"
      ]
     },
     "execution_count": 41,
     "metadata": {},
     "output_type": "execute_result"
    }
   ],
   "source": [
    "## Recursive function example (Factorial)\n",
    "\n",
    "def factorial(n):\n",
    "    if n==0 or n==1:\n",
    "        return 1\n",
    "    else:\n",
    "        return n*fact(n-1)\n",
    "    \n",
    "factorial(5)        "
   ]
  },
  {
   "cell_type": "code",
   "execution_count": 40,
   "metadata": {},
   "outputs": [],
   "source": [
    "## Immutable values in a function will not be updated\n",
    "##Names within a function have local scope"
   ]
  },
  {
   "cell_type": "code",
   "execution_count": 1,
   "metadata": {},
   "outputs": [
    {
     "data": {
      "text/plain": [
       "[2, 3, 5]"
      ]
     },
     "execution_count": 1,
     "metadata": {},
     "output_type": "execute_result"
    }
   ],
   "source": [
    "## Function into function into function\n",
    "\n",
    "# Function to compute the factors- depth -1\n",
    "def factor(n):\n",
    "    fact_list=[]\n",
    "    for i in range(1,n+1):\n",
    "        if n%i==0:\n",
    "            fact_list.append(i)\n",
    "    return fact_list\n",
    "factor(3)\n",
    "\n",
    "# Function to check prime- depth -2\n",
    "def isprime(n):\n",
    "    return [1,n]==factor(n)\n",
    "isprime(1)\n",
    "\n",
    "\n",
    "# Function for list of primes upto n- depth -3\n",
    "def prime_upto_n(n):\n",
    "    primelist=[]\n",
    "    for i in range(0,n+1):\n",
    "       if isprime(i):\n",
    "            primelist.append(i)\n",
    "    return (primelist)\n",
    "                \n",
    "# Function to get the n prime numbers\n",
    "def n_prime(n):\n",
    "    primelist=[]\n",
    "    count=len(primelist)\n",
    "    i=0\n",
    "    while count<n:\n",
    "        if isprime(i):\n",
    "            primelist.append(i)\n",
    "            count=len(primelist)\n",
    "        i+=1\n",
    "    return (primelist)\n",
    "n_prime(3)"
   ]
  },
  {
   "cell_type": "code",
   "execution_count": 136,
   "metadata": {},
   "outputs": [
    {
     "name": "stdout",
     "output_type": "stream",
     "text": [
      "2\n",
      "3\n",
      "True\n",
      "8\n",
      "[1, 4, 8]\n"
     ]
    }
   ],
   "source": [
    "## Function with 2 return and z to give idea to user (means names within a function have local scope)\n",
    "\n",
    "# z didnt change even if v changed\n",
    "def update(l,i,v):\n",
    "    if i>0 and i<len(l):\n",
    "        print (i)\n",
    "        print (len(l))\n",
    "        l[i]=v\n",
    "        return (True)\n",
    "    else:\n",
    "        v=v+1\n",
    "        print (\"v\",v)\n",
    "        return (False)\n",
    "z=8\n",
    "l=[1,4,3]\n",
    "a=update(l,2,z)\n",
    "print (a)\n",
    "print (z)\n",
    "print (l)\n"
   ]
  },
  {
   "cell_type": "code",
   "execution_count": 165,
   "metadata": {},
   "outputs": [
    {
     "name": "stdout",
     "output_type": "stream",
     "text": [
      "v 9\n",
      "['aa', 'bb']\n",
      "False\n",
      "8\n",
      "['a', 'b']\n"
     ]
    }
   ],
   "source": [
    "##list2 not updated even though l2 updated (means names within a function have local scope)\n",
    "def update(l,i,v,l2):\n",
    "    if i>0 and i<len(l):\n",
    "        print (i)\n",
    "        print (len(l))\n",
    "        l[i]=v\n",
    "        return (True)\n",
    "    else:\n",
    "        v=v+1\n",
    "        print (\"v\",v)\n",
    "        l2=[\"aa\",\"bb\"]\n",
    "        print (l2)\n",
    "        return (False)\n",
    "z=8\n",
    "list2=['a','b']\n",
    "l=[1,4,3]\n",
    "a=update(l,4,z,list2)\n",
    "print (a)\n",
    "print (z)\n",
    "print (list2)"
   ]
  },
  {
   "cell_type": "markdown",
   "metadata": {},
   "source": [
    "## Quiz-Week2"
   ]
  },
  {
   "cell_type": "code",
   "execution_count": 155,
   "metadata": {},
   "outputs": [
    {
     "ename": "TypeError",
     "evalue": "'str' object does not support item assignment",
     "output_type": "error",
     "traceback": [
      "\u001b[1;31m---------------------------------------------------------------------------\u001b[0m",
      "\u001b[1;31mTypeError\u001b[0m                                 Traceback (most recent call last)",
      "\u001b[1;32m<ipython-input-155-7c7e4d937036>\u001b[0m in \u001b[0;36m<module>\u001b[1;34m\u001b[0m\n\u001b[0;32m      7\u001b[0m \u001b[0my\u001b[0m\u001b[1;33m[\u001b[0m\u001b[1;36m2\u001b[0m\u001b[1;33m]\u001b[0m \u001b[1;33m=\u001b[0m \u001b[1;36m4\u001b[0m                       \u001b[1;31m# Statement 6\u001b[0m\u001b[1;33m\u001b[0m\u001b[0m\n\u001b[0;32m      8\u001b[0m \u001b[0mz\u001b[0m\u001b[1;33m[\u001b[0m\u001b[1;36m0\u001b[0m\u001b[1;33m]\u001b[0m \u001b[1;33m=\u001b[0m \u001b[1;36m0\u001b[0m                       \u001b[1;31m# Statement 7\u001b[0m\u001b[1;33m\u001b[0m\u001b[0m\n\u001b[1;32m----> 9\u001b[1;33m \u001b[0mx\u001b[0m\u001b[1;33m[\u001b[0m\u001b[1;36m1\u001b[0m\u001b[1;33m]\u001b[0m\u001b[1;33m[\u001b[0m\u001b[1;36m1\u001b[0m\u001b[1;33m:\u001b[0m\u001b[1;36m2\u001b[0m\u001b[1;33m]\u001b[0m \u001b[1;33m=\u001b[0m \u001b[1;34m'yzw'\u001b[0m              \u001b[1;31m# Statement 8\u001b[0m\u001b[1;33m\u001b[0m\u001b[0m\n\u001b[0m\u001b[0;32m     10\u001b[0m \u001b[0mw\u001b[0m\u001b[1;33m[\u001b[0m\u001b[1;36m4\u001b[0m\u001b[1;33m]\u001b[0m\u001b[1;33m[\u001b[0m\u001b[1;36m0\u001b[0m\u001b[1;33m]\u001b[0m \u001b[1;33m=\u001b[0m \u001b[1;36m1000\u001b[0m                 \u001b[1;31m# Statement 9\u001b[0m\u001b[1;33m\u001b[0m\u001b[0m\n\u001b[0;32m     11\u001b[0m \u001b[0ma\u001b[0m \u001b[1;33m=\u001b[0m \u001b[1;33m(\u001b[0m\u001b[0mx\u001b[0m\u001b[1;33m[\u001b[0m\u001b[1;36m4\u001b[0m\u001b[1;33m]\u001b[0m\u001b[1;33m[\u001b[0m\u001b[1;36m1\u001b[0m\u001b[1;33m]\u001b[0m \u001b[1;33m==\u001b[0m \u001b[1;36m4\u001b[0m\u001b[1;33m)\u001b[0m             \u001b[1;31m# Statement 10\u001b[0m\u001b[1;33m\u001b[0m\u001b[0m\n",
      "\u001b[1;31mTypeError\u001b[0m: 'str' object does not support item assignment"
     ]
    }
   ],
   "source": [
    "#Important\n",
    "x = [1,\"abcd\",2,\"efgh\",[3,4]]  # Statement 1\n",
    "y = x[0:50]                    # Statement 2\n",
    "z = y                          # Statement 3\n",
    "w = x                          # Statement 4\n",
    "x[1] = x[1][0:3] + 'd'         # Statement 5\n",
    "y[2] = 4                       # Statement 6\n",
    "z[0] = 0                       # Statement 7\n",
    "x[1][1:2] = 'yzw'              # Statement 8\n",
    "w[4][0] = 1000                 # Statement 9\n",
    "a = (x[4][1] == 4)             # Statement 10"
   ]
  },
  {
   "cell_type": "code",
   "execution_count": 160,
   "metadata": {},
   "outputs": [
    {
     "name": "stdout",
     "output_type": "stream",
     "text": [
      "True True True True\n",
      "True True True False\n",
      "True False True False\n",
      "True False True False\n"
     ]
    }
   ],
   "source": [
    "x = ['a',42,'b',377]\n",
    "w = x[1:]\n",
    "y = x\n",
    "u = w\n",
    "w = w[0:]\n",
    "w[0] = 53\n",
    "x[1] = 47\n",
    "print (x[1] == 47, y[1] == 47, w[0] == 53, u[0] == 42)\n",
    "print (x[1] == 47, y[1] == 47, w[0] == 53, u[0] == 53)\n",
    "print (x[1] == 47, y[1] == 42, w[0] == 53, u[0] == 53)\n",
    "print (x[1] == 47, y[1] == 42, w[0] == 53, u[0] == 53)"
   ]
  },
  {
   "cell_type": "code",
   "execution_count": 162,
   "metadata": {},
   "outputs": [
    {
     "data": {
      "text/plain": [
       "'wombat'"
      ]
     },
     "execution_count": 162,
     "metadata": {},
     "output_type": "execute_result"
    }
   ],
   "source": [
    "first = \"wombat\"\n",
    "second = \"\"\n",
    "for i in range(len(first),0,-1):\n",
    "  second = first[i-1] + second\n",
    "second"
   ]
  },
  {
   "cell_type": "code",
   "execution_count": 167,
   "metadata": {},
   "outputs": [
    {
     "data": {
      "text/plain": [
       "()"
      ]
     },
     "execution_count": 167,
     "metadata": {},
     "output_type": "execute_result"
    }
   ],
   "source": [
    "def mystery(l):\n",
    "  l = l[2:5]\n",
    "  return()\n",
    "\n",
    "list1 = [7,82,44,23,11]\n",
    "mystery(list1)"
   ]
  },
  {
   "cell_type": "markdown",
   "metadata": {},
   "source": [
    "## Assignment Week-2"
   ]
  },
  {
   "cell_type": "code",
   "execution_count": 193,
   "metadata": {},
   "outputs": [
    {
     "data": {
      "text/plain": [
       "154345"
      ]
     },
     "execution_count": 193,
     "metadata": {},
     "output_type": "execute_result"
    }
   ],
   "source": [
    "'''Write a function intreverse(n) that takes as input a positive integer n and returns the integer obtained by reversing the digits in n.\n",
    "\n",
    "Here are some examples of how your function should work.\n",
    "\n",
    ">>> intreverse(783)\n",
    "387\n",
    "\n",
    ">>> intreverse(242789)\n",
    "987242\n",
    "\n",
    ">>> intreverse(3)\n",
    "3'''\n",
    "\n",
    "def intreverse(n):\n",
    "    vars=(str(n))\n",
    "    svar=\"\"\n",
    "    rev_var=[]\n",
    "    for i in range(len(vars)):\n",
    "        rev_var.append(vars[i])\n",
    "        rev_var.reverse()\n",
    "    for i in rev_var:\n",
    "        svar=svar+i\n",
    "    return int(svar)\n",
    "intreverse(344551)"
   ]
  },
  {
   "cell_type": "code",
   "execution_count": 212,
   "metadata": {},
   "outputs": [
    {
     "data": {
      "text/plain": [
       "True"
      ]
     },
     "execution_count": 212,
     "metadata": {},
     "output_type": "execute_result"
    }
   ],
   "source": [
    "'''Write a function matched(s) that takes as input a string s and checks if the brackets \"(\" and \")\" in s are matched: that is, every \"(\" has a matching \")\" after it and every \")\" has a matching \"(\" before it. Your function should ignore all other symbols that appear in s. Your function should return True if s has matched brackets and False if it does not.\n",
    "\n",
    "Hint: Keep track of the nesting depth of brackets. Initially the depth is 0. The depth increases with each opening bracket and decreases with each closing bracket. What are the constraints on the value of the nesting depth for all brackets to be matched?\n",
    "\n",
    "Here are some examples to show how your function should work.\n",
    "\n",
    " \n",
    ">>> matched(\"zb%78\")\n",
    "True\n",
    "\n",
    ">>> matched(\"(7)(a\")\n",
    "False\n",
    "\n",
    ">>> matched(\"a)*(?\")\n",
    "False\n",
    "\n",
    ">>> matched(\"((jkl)78(A)&l(8(dd(FJI:),):)?)\")\n",
    "True'''\n",
    "\n",
    "def matched(s):\n",
    "    brk=[]\n",
    "    for i in s:\n",
    "        brk.append(i)\n",
    "        \n",
    "    left=0;right=0\n",
    "    for var in brk:\n",
    "        if var==\"(\":\n",
    "            left+=1\n",
    "        elif var== \")\":\n",
    "            right+=1\n",
    "        if right>left:\n",
    "            return(False)\n",
    "    if left==right:\n",
    "        return (True)\n",
    "    else:\n",
    "        return (False)\n",
    "matched(\"((jkl)78(A)&l(8(dd(FJI:),):)?)\")"
   ]
  },
  {
   "cell_type": "code",
   "execution_count": 238,
   "metadata": {},
   "outputs": [
    {
     "name": "stdout",
     "output_type": "stream",
     "text": [
      "i 2\n",
      "i chk 2\n",
      "i 4\n",
      "i 6\n",
      "i 19\n"
     ]
    },
    {
     "data": {
      "text/plain": [
       "2"
      ]
     },
     "execution_count": 238,
     "metadata": {},
     "output_type": "execute_result"
    }
   ],
   "source": [
    "def sumprimes(l) :\n",
    "    add=0;k=0\n",
    "    for i in l:\n",
    "        print (\"i\",i)\n",
    "        for a in range(2,i):\n",
    "            \n",
    "            if i%a==0:\n",
    "                k=1\n",
    "        if k!=1 and i!=1:\n",
    "            print (\"i chk\",i)\n",
    "            add+=i\n",
    "    return (add)\n",
    "sumprimes([2,4,6,19])"
   ]
  },
  {
   "cell_type": "markdown",
   "metadata": {},
   "source": [
    "## Week_3"
   ]
  },
  {
   "cell_type": "code",
   "execution_count": 53,
   "metadata": {},
   "outputs": [
    {
     "data": {
      "text/plain": [
       "[0, 1, 2, 3, 4, 5, 6, 7, 8, 9]"
      ]
     },
     "execution_count": 53,
     "metadata": {},
     "output_type": "execute_result"
    }
   ],
   "source": [
    "## Range function\n",
    "\n",
    "#for i in range(0,10):\n",
    "    #print (i)\n",
    "#for i in range(0,10,2):\n",
    "    #print (i)\n",
    "## Range not equal to list\n",
    "#print (range(0,10)==[0,1,2,3,4,5,6,7,8,9])\n",
    "\n",
    "#Convert range to list\n",
    "# As per course using list(range(0,10)) but this giving error\n",
    "r=(range(0,10))\n",
    "l=[*r]\n",
    "l\n"
   ]
  },
  {
   "cell_type": "code",
   "execution_count": 133,
   "metadata": {},
   "outputs": [
    {
     "ename": "NameError",
     "evalue": "name 'lis1' is not defined",
     "output_type": "error",
     "traceback": [
      "\u001b[1;31m---------------------------------------------------------------------------\u001b[0m",
      "\u001b[1;31mNameError\u001b[0m                                 Traceback (most recent call last)",
      "\u001b[1;32mcell_name\u001b[0m in \u001b[0;36masync-def-wrapper\u001b[1;34m()\u001b[0m\n",
      "\u001b[1;31mNameError\u001b[0m: name 'lis1' is not defined"
     ]
    }
   ],
   "source": [
    "## Tried append and extend but they not working inside function only :indices is working\n",
    "def addlis(lis,a=[7]):\n",
    "    lis1=lis.extend(a)\n",
    "    return (lis1)\n",
    "list1=[1,2,4]\n",
    "d=addlis(list1)\n",
    "print (d)"
   ]
  },
  {
   "cell_type": "code",
   "execution_count": 129,
   "metadata": {},
   "outputs": [
    {
     "name": "stdout",
     "output_type": "stream",
     "text": [
      "[1, 2, 3, 7]\n",
      "[1, 2, 3, 7, 1, 2, 3, 7]\n",
      "[1, 2, 7, 1, 2, 3, 7]\n",
      "[7, 3, 2, 1, 7, 2, 1]\n",
      "[1, 1, 2, 2, 3, 7, 7]\n",
      "[7, 7, 3, 2, 2, 1, 1]\n",
      "5\n"
     ]
    }
   ],
   "source": [
    "## List functions\n",
    "list1=[1,2,3]\n",
    "list1.append(7)\n",
    "print (list1)\n",
    "list1.extend(list1)\n",
    "print (list1)\n",
    "list1.remove(3) #removed only 1st occurence of 3\n",
    "print (list1)\n",
    "\n",
    "list1.reverse()\n",
    "print (list1)\n",
    "list1.sort()\n",
    "print (list1)\n",
    "list1.sort(reverse=True) #if I am adding print directly with function then not working\n",
    "print (list1)\n",
    "print (list1.index(1))  # To print the first index\n",
    "\n",
    "#print (list1.rindex(7))  # Tried but not working"
   ]
  },
  {
   "cell_type": "code",
   "execution_count": 132,
   "metadata": {},
   "outputs": [
    {
     "name": "stdout",
     "output_type": "stream",
     "text": [
      "3\n"
     ]
    }
   ],
   "source": [
    "list1=[1,2,4,5]\n",
    "print (len(list1)-list1[-1::-1].index(4)-1) #printing the right index"
   ]
  },
  {
   "cell_type": "code",
   "execution_count": 111,
   "metadata": {},
   "outputs": [
    {
     "name": "stdout",
     "output_type": "stream",
     "text": [
      "[1, 5, 6, 7, 8]\n",
      "[1, 5, 6, 7, 8]\n",
      "[0, 6, 7, 8]\n"
     ]
    }
   ],
   "source": [
    "##List manipulation by using slicing\n",
    "\n",
    "list1=[1,2,3]\n",
    "list2=list1\n",
    "list1[1:]=[5,6,7,8]\n",
    "print (list1)\n",
    "print (list2)\n",
    "list1[:2]=[0]\n",
    "print (list1)\n",
    "\n"
   ]
  },
  {
   "cell_type": "code",
   "execution_count": 142,
   "metadata": {},
   "outputs": [
    {
     "data": {
      "text/plain": [
       "1"
      ]
     },
     "execution_count": 142,
     "metadata": {},
     "output_type": "execute_result"
    }
   ],
   "source": [
    "## Finding the position using break statement\n",
    "##else CAN ALSO BE USED WITH FOR AND WHILE LOOP\n",
    "def findpos(l,v):\n",
    "    (pos,i)=(l,v)\n",
    "    for i in range(len(l)):\n",
    "        if l[i]==v:\n",
    "            pos=i\n",
    "            return (pos)\n",
    "            break\n",
    "    else:\n",
    "        pos=-1\n",
    "        return (pos)\n",
    "findpos([1,3,4,5],3)"
   ]
  },
  {
   "cell_type": "code",
   "execution_count": 1,
   "metadata": {},
   "outputs": [
    {
     "data": {
      "text/plain": [
       "array([ 0,  3,  6,  9, 12, 15, 18, 21, 24])"
      ]
     },
     "execution_count": 1,
     "metadata": {},
     "output_type": "execute_result"
    }
   ],
   "source": [
    "## Array - Single block of memory - elements of uniform type- size given in advance\n",
    "import numpy as np\n",
    "a=np.array(range(0,9))\n",
    "a=a*3\n",
    "a"
   ]
  },
  {
   "cell_type": "code",
   "execution_count": 3,
   "metadata": {},
   "outputs": [],
   "source": [
    "## Array vs list\n",
    "\n",
    "#Array takes less time to reach to any of its element but inserting and deletion of element is difficult\n",
    "#Lists take more time to go to any element as previous item contains the value of the next item but insertion/deletion is easy\n",
    "#Plumbing- Inserting or deleting any element\n",
    "#Cost proportional to i in list"
   ]
  },
  {
   "cell_type": "code",
   "execution_count": 26,
   "metadata": {},
   "outputs": [
    {
     "name": "stdout",
     "output_type": "stream",
     "text": [
      "[19 18 17 16 15 14 13 12 11]\n",
      "3\n"
     ]
    }
   ],
   "source": [
    "## Binary search\n",
    "a=np.array(range(0,9))\n",
    "b=np.array(range(19,2,-2))\n",
    "c=a+b\n",
    "pos=0\n",
    "#search '16'\n",
    "print (c)\n",
    "\n",
    "##This below function takes a long time as each element has to be searched\n",
    "for i in c:\n",
    "    if i==16:\n",
    "        print (pos)\n",
    "        break\n",
    "    pos+=1"
   ]
  },
  {
   "cell_type": "code",
   "execution_count": 37,
   "metadata": {},
   "outputs": [
    {
     "name": "stdout",
     "output_type": "stream",
     "text": [
      "else\n"
     ]
    },
    {
     "data": {
      "text/plain": [
       "6"
      ]
     },
     "execution_count": 37,
     "metadata": {},
     "output_type": "execute_result"
    }
   ],
   "source": [
    "## Using binary search to search in a sequence\n",
    "\n",
    "def bsearch(seq,v,l,r):\n",
    "    if (r-l)==0:\n",
    "        if v==seq[r]:\n",
    "            return r\n",
    "        else:\n",
    "            return False\n",
    "    mid=(l+r)//2\n",
    "    if v==seq[mid]:\n",
    "        return mid\n",
    "    elif v<seq[mid]:\n",
    "        print (\"if\")\n",
    "        return bsearch(seq,v,l,mid)\n",
    "    else:\n",
    "        print (\"else\")\n",
    "        return bsearch (seq,v,mid+1,r)\n",
    "a=[2,3,5,5.5,6,8,10,11]\n",
    "bsearch(a,10,3,7)"
   ]
  },
  {
   "cell_type": "code",
   "execution_count": 66,
   "metadata": {},
   "outputs": [
    {
     "name": "stdout",
     "output_type": "stream",
     "text": [
      "1 3 minpos 0\n",
      "interchange 3 minpos 2 with 1 start 0\n",
      "NOw list [1, 6, 3, 0, 99, 22]\n",
      "0 1 minpos 2\n",
      "interchange 1 minpos 3 with 0 start 0\n",
      "NOw list [0, 6, 3, 1, 99, 22]\n",
      "3 6 minpos 1\n",
      "interchange 6 minpos 2 with 3 start 1\n",
      "NOw list [0, 3, 6, 1, 99, 22]\n",
      "1 3 minpos 2\n",
      "interchange 3 minpos 3 with 1 start 1\n",
      "NOw list [0, 1, 6, 3, 99, 22]\n",
      "3 6 minpos 2\n",
      "interchange 6 minpos 3 with 3 start 2\n",
      "NOw list [0, 1, 3, 6, 99, 22]\n",
      "22 99 minpos 4\n",
      "interchange 99 minpos 5 with 22 start 4\n",
      "NOw list [0, 1, 3, 6, 22, 99]\n",
      "[0, 1, 3, 6, 22, 99]\n"
     ]
    }
   ],
   "source": [
    "## Checking Selection Sort\n",
    "\n",
    "def selectionsort(l):\n",
    "    for start in range(len(l)):\n",
    "        minpos=start\n",
    "        for i in range(start,len(l)):\n",
    "            if l[i]<l[start]:\n",
    "                print (l[i],l[start], \"minpos\",minpos)\n",
    "                minpos=i\n",
    "                (l[start],l[minpos])=(l[minpos],l[start])\n",
    "                print (\"interchange\",l[minpos],\"minpos\",minpos,\"with\",l[start],\"start\",start)   \n",
    "        \n",
    "                print (\"NOw list\",l)\n",
    "a=[3,6,1,0,99,22]\n",
    "selectionsort(a)\n",
    "print (a)\n",
    "\n"
   ]
  },
  {
   "cell_type": "code",
   "execution_count": 61,
   "metadata": {},
   "outputs": [
    {
     "name": "stdout",
     "output_type": "stream",
     "text": [
      "3\n",
      "[1, 2, 3]\n"
     ]
    }
   ],
   "source": [
    "##Mutability and immutability cracked- My Jaadoo\n",
    "def change(a):\n",
    "    a=2\n",
    "b=3\n",
    "change(b)\n",
    "print (b)\n",
    "\n",
    "# But with list\n",
    "\n",
    "def changelist(l):\n",
    "    l[:]=[1,2,3]\n",
    "l1=[3,3,3]\n",
    "changelist(l1)\n",
    "print (l1)"
   ]
  }
 ],
 "metadata": {
  "kernelspec": {
   "display_name": "Python 3",
   "language": "python",
   "name": "python3"
  },
  "language_info": {
   "codemirror_mode": {
    "name": "ipython",
    "version": 3
   },
   "file_extension": ".py",
   "mimetype": "text/x-python",
   "name": "python",
   "nbconvert_exporter": "python",
   "pygments_lexer": "ipython3",
   "version": "3.6.0"
  }
 },
 "nbformat": 4,
 "nbformat_minor": 2
}
