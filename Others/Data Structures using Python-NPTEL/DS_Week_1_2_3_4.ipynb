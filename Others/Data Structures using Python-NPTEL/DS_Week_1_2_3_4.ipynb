{
 "cells": [
  {
   "cell_type": "markdown",
   "metadata": {},
   "source": [
    "# Week 1"
   ]
  },
  {
   "cell_type": "code",
   "execution_count": 2,
   "metadata": {},
   "outputs": [
    {
     "name": "stdout",
     "output_type": "stream",
     "text": [
      "1\n"
     ]
    }
   ],
   "source": [
    "\n",
    "\n",
    "#Basic Function for calculating GCD or HCF\n",
    "\n",
    "def gcd1(m,n):\n",
    "    fm=[]\n",
    "    for i in range(1,m+1):\n",
    "        if m%i==0:\n",
    "            fm.append(i)\n",
    "    fn=[]\n",
    "    for i in range(1,n+1):\n",
    "        if n%i==0:\n",
    "            fn.append(i)\n",
    "    cf=[]\n",
    "    for f in fm:\n",
    "        if f in fn:\n",
    "            cf.append(f)\n",
    "    return (cf[-1])\n",
    "\n",
    "print (gcd1(9999999,10000000))\n",
    "\n",
    "\n",
    "#New approaches for GCD\n",
    "def gcd2(m,n):\n",
    "    cf=[]\n",
    "    for i in range(1,min(m,n)+1):\n",
    "        if m%i==0 and n%i==0:\n",
    "            cf.append(i)\n",
    "    return cf[-1]\n",
    "\n",
    "\n",
    "def gcd3(m,n):  #No lists\n",
    "    cf=[]\n",
    "    for i in range(1,min(m,n)+1):\n",
    "        if m%i==0 and n%i==0:\n",
    "            mcf=i\n",
    "    return mcf\n",
    "\n",
    "\n",
    "\n",
    "def gcd4(m,n):  #No lists\n",
    "    i=min(m,n)\n",
    "    while(i>0):\n",
    "        if (m%i==0 and n%i==0):\n",
    "            return i\n",
    "        else:\n",
    "            i=i-1\n"
   ]
  },
  {
   "cell_type": "markdown",
   "metadata": {},
   "source": [
    "## Euclid's Algorithm using recursive function"
   ]
  },
  {
   "cell_type": "code",
   "execution_count": 147,
   "metadata": {},
   "outputs": [
    {
     "data": {
      "text/plain": [
       "1"
      ]
     },
     "execution_count": 147,
     "metadata": {},
     "output_type": "execute_result"
    }
   ],
   "source": [
    "def gcdE1(m,n):\n",
    "    if m<n:             #Assume m>n\n",
    "        (m,n)=(n,m)     #Special swap in python\n",
    "    if (m%n)==0:\n",
    "        return n\n",
    "    else:        \n",
    "       return gcdE1(max(n,m-n),min(n,m-n)) # diff cam be > n\n",
    "\n",
    "#Using while Loop\n",
    "\n",
    "def gcdE2(m,n):\n",
    "    if m<n:\n",
    "        (m,n)=(n,m)\n",
    "    while (m%n!=0):\n",
    "        (m,n)=(max(n,m-n),min(n,m-n))\n",
    "    return (n)\n",
    "gcdE2(22,4)\n",
    "\n",
    "def gcdE3(m,n):\n",
    "    if m<n:\n",
    "        (m,n)=(n,m)\n",
    "    if (m%n)==0:\n",
    "        return n\n",
    "    else:\n",
    "        return gcdE3(n,m%n)\n",
    "gcdE3(9999999999,1000000000)"
   ]
  },
  {
   "cell_type": "markdown",
   "metadata": {},
   "source": [
    "## Assignment Week-1"
   ]
  },
  {
   "cell_type": "code",
   "execution_count": 148,
   "metadata": {},
   "outputs": [],
   "source": [
    "def f(x):\n",
    "    d=0\n",
    "    while x >= 1:\n",
    "        (x,d) = (x/4,d+1)\n",
    "    return(d)"
   ]
  },
  {
   "cell_type": "code",
   "execution_count": 149,
   "metadata": {},
   "outputs": [],
   "source": [
    "def h(n):\n",
    "    s = 0\n",
    "    for i in range(1,n):\n",
    "        if n%i == 0:\n",
    "           s = s+i\n",
    "    return(s)"
   ]
  },
  {
   "cell_type": "code",
   "execution_count": 150,
   "metadata": {},
   "outputs": [],
   "source": [
    "def g(m,n):\n",
    "    res = 0\n",
    "    while m >= n:\n",
    "        (res,m) = (res+1,m-n)\n",
    "    return(res)"
   ]
  },
  {
   "cell_type": "code",
   "execution_count": 151,
   "metadata": {},
   "outputs": [
    {
     "data": {
      "text/plain": [
       "6"
      ]
     },
     "execution_count": 151,
     "metadata": {},
     "output_type": "execute_result"
    }
   ],
   "source": [
    "def mys(m):\n",
    "  if m == 0:\n",
    "    return(1)\n",
    "  else:\n",
    "    return(m*mys(m-1))\n",
    "mys(3)"
   ]
  },
  {
   "cell_type": "markdown",
   "metadata": {},
   "source": [
    "## Week 2"
   ]
  },
  {
   "cell_type": "code",
   "execution_count": 20,
   "metadata": {},
   "outputs": [
    {
     "name": "stdout",
     "output_type": "stream",
     "text": [
      "[1, 2, 3, 10]\n",
      "typeval\n",
      "Strings are immutable\n",
      "hypeval\n"
     ]
    }
   ],
   "source": [
    "##lists are mutable while strings are not\n",
    "\n",
    "list1=[1,2,3,6]\n",
    "list1[3]=10\n",
    "print (list1)\n",
    "a=\"typeval\"\n",
    "print (a)\n",
    "try:\n",
    "    a[0]=\"r\" ### This will give error\n",
    "except:\n",
    "    print (\"Strings are immutable\")\n",
    "    \n",
    "## To copy strings a new string need to be created\n",
    "\n",
    "b=\"hype\"+a[4:]\n",
    "print (b)"
   ]
  },
  {
   "cell_type": "code",
   "execution_count": 17,
   "metadata": {},
   "outputs": [
    {
     "name": "stdout",
     "output_type": "stream",
     "text": [
      "4\n",
      "o\n"
     ]
    }
   ],
   "source": [
    "##Char does not exist in python only concept of string\n",
    "###Referencing nested lists\n",
    "list1=[[2,4],5,[\"hello\"]]\n",
    "print (list1[0][1])\n",
    "print (list1[2][0][4])\n"
   ]
  },
  {
   "cell_type": "code",
   "execution_count": 18,
   "metadata": {},
   "outputs": [
    {
     "data": {
      "text/plain": [
       "False"
      ]
     },
     "execution_count": 18,
     "metadata": {},
     "output_type": "execute_result"
    }
   ],
   "source": [
    "### Important concept about mutablity and string vs list\n",
    "\n",
    "list1=[1,5,6,9]\n",
    "list1[0:1]==list1[0]\n",
    "\n"
   ]
  },
  {
   "cell_type": "code",
   "execution_count": 22,
   "metadata": {},
   "outputs": [
    {
     "name": "stdout",
     "output_type": "stream",
     "text": [
      "4\n",
      "y changed 4\n",
      "[1, 2, 'a', 18]\n",
      "new list 2 [[48], 2, 'a', 18]\n",
      "list3 [[48], 2, 'a', 18]\n",
      "list3 changed [[48], 2, 'a', 18]\n"
     ]
    }
   ],
   "source": [
    "## Copying variable make a fresh copy while list does not\n",
    "\n",
    "x=4\n",
    "y=x\n",
    "print (y)\n",
    "x='1'\n",
    "\n",
    "print (\"y changed\",y) # No change oberved in value of y\n",
    "\n",
    "### Here is the copying to the list part\n",
    "\n",
    "list1= [1,2,'a',18]\n",
    "list2=list1\n",
    "print (list2)\n",
    "list1[0]=[48]\n",
    "\n",
    "print (\"new list 2\",list2)  ### Here list2 has changed\n",
    "\n",
    "## To make a true copy which is not affected by change in the original list\n",
    "\n",
    "list3= list1[:]\n",
    "print (\"list3\",list3)\n",
    "list1[0]=44\n",
    "print (\"list3 changed\",list3) ## No change will be seen in list3"
   ]
  },
  {
   "cell_type": "code",
   "execution_count": 28,
   "metadata": {},
   "outputs": [
    {
     "data": {
      "text/plain": [
       "True"
      ]
     },
     "execution_count": 28,
     "metadata": {},
     "output_type": "execute_result"
    }
   ],
   "source": [
    "## Digression on equality\n",
    "\n",
    "list1=[1,3,5,7]\n",
    "list2=[1,3,5,7]\n",
    "list3=list2\n",
    "\n",
    "x==y   ## Checks if  x and y have same value\n",
    "x is y  ## Checks if x and y refer to same object\n",
    "list3 is list2"
   ]
  },
  {
   "cell_type": "code",
   "execution_count": 32,
   "metadata": {},
   "outputs": [
    {
     "name": "stdout",
     "output_type": "stream",
     "text": [
      "new list1 [1, 2, 3, 4, 3]\n",
      "False\n"
     ]
    }
   ],
   "source": [
    "## How concat affects the list\n",
    "\n",
    "# + produces a new list\n",
    "\n",
    "list1=[1,2,3,4]\n",
    "list2=list1\n",
    "list1= list1+[3]\n",
    "print (\"new list1\",list1)\n",
    "print (list1==list2)"
   ]
  },
  {
   "cell_type": "code",
   "execution_count": 34,
   "metadata": {},
   "outputs": [
    {
     "data": {
      "text/plain": [
       "6"
      ]
     },
     "execution_count": 34,
     "metadata": {},
     "output_type": "execute_result"
    }
   ],
   "source": [
    "## Order of defining function\n",
    "#Although function cant be called before its definition but can be called in another function before and used later\n",
    "\n",
    "def f(x):\n",
    "    return g(x+1) #g called \n",
    "def g(y):    # Here g defined later\n",
    "    return y+3\n",
    "f(2)"
   ]
  },
  {
   "cell_type": "code",
   "execution_count": 41,
   "metadata": {},
   "outputs": [
    {
     "data": {
      "text/plain": [
       "120"
      ]
     },
     "execution_count": 41,
     "metadata": {},
     "output_type": "execute_result"
    }
   ],
   "source": [
    "## Recursive function example (Factorial)\n",
    "\n",
    "def factorial(n):\n",
    "    if n==0 or n==1:\n",
    "        return 1\n",
    "    else:\n",
    "        return n*fact(n-1)\n",
    "    \n",
    "factorial(5)        "
   ]
  },
  {
   "cell_type": "code",
   "execution_count": 40,
   "metadata": {},
   "outputs": [],
   "source": [
    "## Immutable values in a function will not be updated\n",
    "##Names within a function have local scope"
   ]
  },
  {
   "cell_type": "code",
   "execution_count": 1,
   "metadata": {},
   "outputs": [
    {
     "data": {
      "text/plain": [
       "[2, 3, 5]"
      ]
     },
     "execution_count": 1,
     "metadata": {},
     "output_type": "execute_result"
    }
   ],
   "source": [
    "## Function into function into function\n",
    "\n",
    "# Function to compute the factors- depth -1\n",
    "def factor(n):\n",
    "    fact_list=[]\n",
    "    for i in range(1,n+1):\n",
    "        if n%i==0:\n",
    "            fact_list.append(i)\n",
    "    return fact_list\n",
    "factor(3)\n",
    "\n",
    "# Function to check prime- depth -2\n",
    "def isprime(n):\n",
    "    return [1,n]==factor(n)\n",
    "isprime(1)\n",
    "\n",
    "\n",
    "# Function for list of primes upto n- depth -3\n",
    "def prime_upto_n(n):\n",
    "    primelist=[]\n",
    "    for i in range(0,n+1):\n",
    "       if isprime(i):\n",
    "            primelist.append(i)\n",
    "    return (primelist)\n",
    "                \n",
    "# Function to get the n prime numbers\n",
    "def n_prime(n):\n",
    "    primelist=[]\n",
    "    count=len(primelist)\n",
    "    i=0\n",
    "    while count<n:\n",
    "        if isprime(i):\n",
    "            primelist.append(i)\n",
    "            count=len(primelist)\n",
    "        i+=1\n",
    "    return (primelist)\n",
    "n_prime(3)"
   ]
  },
  {
   "cell_type": "code",
   "execution_count": 136,
   "metadata": {},
   "outputs": [
    {
     "name": "stdout",
     "output_type": "stream",
     "text": [
      "2\n",
      "3\n",
      "True\n",
      "8\n",
      "[1, 4, 8]\n"
     ]
    }
   ],
   "source": [
    "## Function with 2 return and z to give idea to user (means names within a function have local scope)\n",
    "\n",
    "# z didnt change even if v changed\n",
    "def update(l,i,v):\n",
    "    if i>0 and i<len(l):\n",
    "        print (i)\n",
    "        print (len(l))\n",
    "        l[i]=v\n",
    "        return (True)\n",
    "    else:\n",
    "        v=v+1\n",
    "        print (\"v\",v)\n",
    "        return (False)\n",
    "z=8\n",
    "l=[1,4,3]\n",
    "a=update(l,2,z)\n",
    "print (a)\n",
    "print (z)\n",
    "print (l)\n"
   ]
  },
  {
   "cell_type": "code",
   "execution_count": 165,
   "metadata": {},
   "outputs": [
    {
     "name": "stdout",
     "output_type": "stream",
     "text": [
      "v 9\n",
      "['aa', 'bb']\n",
      "False\n",
      "8\n",
      "['a', 'b']\n"
     ]
    }
   ],
   "source": [
    "##list2 not updated even though l2 updated (means names within a function have local scope)\n",
    "def update(l,i,v,l2):\n",
    "    if i>0 and i<len(l):\n",
    "        print (i)\n",
    "        print (len(l))\n",
    "        l[i]=v\n",
    "        return (True)\n",
    "    else:\n",
    "        v=v+1\n",
    "        print (\"v\",v)\n",
    "        l2=[\"aa\",\"bb\"]\n",
    "        print (l2)\n",
    "        return (False)\n",
    "z=8\n",
    "list2=['a','b']\n",
    "l=[1,4,3]\n",
    "a=update(l,4,z,list2)\n",
    "print (a)\n",
    "print (z)\n",
    "print (list2)"
   ]
  },
  {
   "cell_type": "markdown",
   "metadata": {},
   "source": [
    "## Quiz-Week2"
   ]
  },
  {
   "cell_type": "code",
   "execution_count": 155,
   "metadata": {},
   "outputs": [
    {
     "ename": "TypeError",
     "evalue": "'str' object does not support item assignment",
     "output_type": "error",
     "traceback": [
      "\u001b[1;31m---------------------------------------------------------------------------\u001b[0m",
      "\u001b[1;31mTypeError\u001b[0m                                 Traceback (most recent call last)",
      "\u001b[1;32m<ipython-input-155-7c7e4d937036>\u001b[0m in \u001b[0;36m<module>\u001b[1;34m\u001b[0m\n\u001b[0;32m      7\u001b[0m \u001b[0my\u001b[0m\u001b[1;33m[\u001b[0m\u001b[1;36m2\u001b[0m\u001b[1;33m]\u001b[0m \u001b[1;33m=\u001b[0m \u001b[1;36m4\u001b[0m                       \u001b[1;31m# Statement 6\u001b[0m\u001b[1;33m\u001b[0m\u001b[0m\n\u001b[0;32m      8\u001b[0m \u001b[0mz\u001b[0m\u001b[1;33m[\u001b[0m\u001b[1;36m0\u001b[0m\u001b[1;33m]\u001b[0m \u001b[1;33m=\u001b[0m \u001b[1;36m0\u001b[0m                       \u001b[1;31m# Statement 7\u001b[0m\u001b[1;33m\u001b[0m\u001b[0m\n\u001b[1;32m----> 9\u001b[1;33m \u001b[0mx\u001b[0m\u001b[1;33m[\u001b[0m\u001b[1;36m1\u001b[0m\u001b[1;33m]\u001b[0m\u001b[1;33m[\u001b[0m\u001b[1;36m1\u001b[0m\u001b[1;33m:\u001b[0m\u001b[1;36m2\u001b[0m\u001b[1;33m]\u001b[0m \u001b[1;33m=\u001b[0m \u001b[1;34m'yzw'\u001b[0m              \u001b[1;31m# Statement 8\u001b[0m\u001b[1;33m\u001b[0m\u001b[0m\n\u001b[0m\u001b[0;32m     10\u001b[0m \u001b[0mw\u001b[0m\u001b[1;33m[\u001b[0m\u001b[1;36m4\u001b[0m\u001b[1;33m]\u001b[0m\u001b[1;33m[\u001b[0m\u001b[1;36m0\u001b[0m\u001b[1;33m]\u001b[0m \u001b[1;33m=\u001b[0m \u001b[1;36m1000\u001b[0m                 \u001b[1;31m# Statement 9\u001b[0m\u001b[1;33m\u001b[0m\u001b[0m\n\u001b[0;32m     11\u001b[0m \u001b[0ma\u001b[0m \u001b[1;33m=\u001b[0m \u001b[1;33m(\u001b[0m\u001b[0mx\u001b[0m\u001b[1;33m[\u001b[0m\u001b[1;36m4\u001b[0m\u001b[1;33m]\u001b[0m\u001b[1;33m[\u001b[0m\u001b[1;36m1\u001b[0m\u001b[1;33m]\u001b[0m \u001b[1;33m==\u001b[0m \u001b[1;36m4\u001b[0m\u001b[1;33m)\u001b[0m             \u001b[1;31m# Statement 10\u001b[0m\u001b[1;33m\u001b[0m\u001b[0m\n",
      "\u001b[1;31mTypeError\u001b[0m: 'str' object does not support item assignment"
     ]
    }
   ],
   "source": [
    "#Important\n",
    "x = [1,\"abcd\",2,\"efgh\",[3,4]]  # Statement 1\n",
    "y = x[0:50]                    # Statement 2\n",
    "z = y                          # Statement 3\n",
    "w = x                          # Statement 4\n",
    "x[1] = x[1][0:3] + 'd'         # Statement 5\n",
    "y[2] = 4                       # Statement 6\n",
    "z[0] = 0                       # Statement 7\n",
    "x[1][1:2] = 'yzw'              # Statement 8\n",
    "w[4][0] = 1000                 # Statement 9\n",
    "a = (x[4][1] == 4)             # Statement 10"
   ]
  },
  {
   "cell_type": "code",
   "execution_count": 160,
   "metadata": {},
   "outputs": [
    {
     "name": "stdout",
     "output_type": "stream",
     "text": [
      "True True True True\n",
      "True True True False\n",
      "True False True False\n",
      "True False True False\n"
     ]
    }
   ],
   "source": [
    "x = ['a',42,'b',377]\n",
    "w = x[1:]\n",
    "y = x\n",
    "u = w\n",
    "w = w[0:]\n",
    "w[0] = 53\n",
    "x[1] = 47\n",
    "print (x[1] == 47, y[1] == 47, w[0] == 53, u[0] == 42)\n",
    "print (x[1] == 47, y[1] == 47, w[0] == 53, u[0] == 53)\n",
    "print (x[1] == 47, y[1] == 42, w[0] == 53, u[0] == 53)\n",
    "print (x[1] == 47, y[1] == 42, w[0] == 53, u[0] == 53)"
   ]
  },
  {
   "cell_type": "code",
   "execution_count": 162,
   "metadata": {},
   "outputs": [
    {
     "data": {
      "text/plain": [
       "'wombat'"
      ]
     },
     "execution_count": 162,
     "metadata": {},
     "output_type": "execute_result"
    }
   ],
   "source": [
    "first = \"wombat\"\n",
    "second = \"\"\n",
    "for i in range(len(first),0,-1):\n",
    "  second = first[i-1] + second\n",
    "second"
   ]
  },
  {
   "cell_type": "code",
   "execution_count": 167,
   "metadata": {},
   "outputs": [
    {
     "data": {
      "text/plain": [
       "()"
      ]
     },
     "execution_count": 167,
     "metadata": {},
     "output_type": "execute_result"
    }
   ],
   "source": [
    "def mystery(l):\n",
    "  l = l[2:5]\n",
    "  return()\n",
    "\n",
    "list1 = [7,82,44,23,11]\n",
    "mystery(list1)"
   ]
  },
  {
   "cell_type": "markdown",
   "metadata": {},
   "source": [
    "## Assignment Week-2"
   ]
  },
  {
   "cell_type": "code",
   "execution_count": 193,
   "metadata": {},
   "outputs": [
    {
     "data": {
      "text/plain": [
       "154345"
      ]
     },
     "execution_count": 193,
     "metadata": {},
     "output_type": "execute_result"
    }
   ],
   "source": [
    "'''Write a function intreverse(n) that takes as input a positive integer n and returns the integer obtained by reversing the digits in n.\n",
    "\n",
    "Here are some examples of how your function should work.\n",
    "\n",
    ">>> intreverse(783)\n",
    "387\n",
    "\n",
    ">>> intreverse(242789)\n",
    "987242\n",
    "\n",
    ">>> intreverse(3)\n",
    "3'''\n",
    "\n",
    "def intreverse(n):\n",
    "    vars=(str(n))\n",
    "    svar=\"\"\n",
    "    rev_var=[]\n",
    "    for i in range(len(vars)):\n",
    "        rev_var.append(vars[i])\n",
    "        rev_var.reverse()\n",
    "    for i in rev_var:\n",
    "        svar=svar+i\n",
    "    return int(svar)\n",
    "intreverse(344551)"
   ]
  },
  {
   "cell_type": "code",
   "execution_count": 212,
   "metadata": {},
   "outputs": [
    {
     "data": {
      "text/plain": [
       "True"
      ]
     },
     "execution_count": 212,
     "metadata": {},
     "output_type": "execute_result"
    }
   ],
   "source": [
    "'''Write a function matched(s) that takes as input a string s and checks if the brackets \"(\" and \")\" in s are matched: that is, every \"(\" has a matching \")\" after it and every \")\" has a matching \"(\" before it. Your function should ignore all other symbols that appear in s. Your function should return True if s has matched brackets and False if it does not.\n",
    "\n",
    "Hint: Keep track of the nesting depth of brackets. Initially the depth is 0. The depth increases with each opening bracket and decreases with each closing bracket. What are the constraints on the value of the nesting depth for all brackets to be matched?\n",
    "\n",
    "Here are some examples to show how your function should work.\n",
    "\n",
    " \n",
    ">>> matched(\"zb%78\")\n",
    "True\n",
    "\n",
    ">>> matched(\"(7)(a\")\n",
    "False\n",
    "\n",
    ">>> matched(\"a)*(?\")\n",
    "False\n",
    "\n",
    ">>> matched(\"((jkl)78(A)&l(8(dd(FJI:),):)?)\")\n",
    "True'''\n",
    "\n",
    "def matched(s):\n",
    "    brk=[]\n",
    "    for i in s:\n",
    "        brk.append(i)\n",
    "        \n",
    "    left=0;right=0\n",
    "    for var in brk:\n",
    "        if var==\"(\":\n",
    "            left+=1\n",
    "        elif var== \")\":\n",
    "            right+=1\n",
    "        if right>left:\n",
    "            return(False)\n",
    "    if left==right:\n",
    "        return (True)\n",
    "    else:\n",
    "        return (False)\n",
    "matched(\"((jkl)78(A)&l(8(dd(FJI:),):)?)\")"
   ]
  },
  {
   "cell_type": "code",
   "execution_count": 238,
   "metadata": {},
   "outputs": [
    {
     "name": "stdout",
     "output_type": "stream",
     "text": [
      "i 2\n",
      "i chk 2\n",
      "i 4\n",
      "i 6\n",
      "i 19\n"
     ]
    },
    {
     "data": {
      "text/plain": [
       "2"
      ]
     },
     "execution_count": 238,
     "metadata": {},
     "output_type": "execute_result"
    }
   ],
   "source": [
    "def sumprimes(l) :\n",
    "    add=0;k=0\n",
    "    for i in l:\n",
    "        print (\"i\",i)\n",
    "        for a in range(2,i):\n",
    "            \n",
    "            if i%a==0:\n",
    "                k=1\n",
    "        if k!=1 and i!=1:\n",
    "            print (\"i chk\",i)\n",
    "            add+=i\n",
    "    return (add)\n",
    "sumprimes([2,4,6,19])"
   ]
  },
  {
   "cell_type": "markdown",
   "metadata": {},
   "source": [
    "## Week_3"
   ]
  },
  {
   "cell_type": "code",
   "execution_count": 436,
   "metadata": {},
   "outputs": [
    {
     "name": "stdout",
     "output_type": "stream",
     "text": [
      "range(0, 10)\n"
     ]
    },
    {
     "data": {
      "text/plain": [
       "[0, 1, 2, 3, 4, 5, 6, 7, 8, 9]"
      ]
     },
     "execution_count": 436,
     "metadata": {},
     "output_type": "execute_result"
    }
   ],
   "source": [
    "## Range function\n",
    "\n",
    "#for i in range(0,10):\n",
    "    #print (i)\n",
    "#for i in range(0,10,2):\n",
    "    #print (i)\n",
    "## Range not equal to list\n",
    "#print (range(0,10)==[0,1,2,3,4,5,6,7,8,9])\n",
    "\n",
    "#Convert range to list\n",
    "# As per course using list(range(0,10)) but this giving error\n",
    "r=(range(0,10))\n",
    "print (r)\n",
    "l=[*r]\n",
    "l\n"
   ]
  },
  {
   "cell_type": "code",
   "execution_count": 133,
   "metadata": {},
   "outputs": [
    {
     "ename": "NameError",
     "evalue": "name 'lis1' is not defined",
     "output_type": "error",
     "traceback": [
      "\u001b[1;31m---------------------------------------------------------------------------\u001b[0m",
      "\u001b[1;31mNameError\u001b[0m                                 Traceback (most recent call last)",
      "\u001b[1;32mcell_name\u001b[0m in \u001b[0;36masync-def-wrapper\u001b[1;34m()\u001b[0m\n",
      "\u001b[1;31mNameError\u001b[0m: name 'lis1' is not defined"
     ]
    }
   ],
   "source": [
    "## Tried append and extend but they not working inside function only :indices is working\n",
    "def addlis(lis,a=[7]):\n",
    "    lis1=lis.extend(a)\n",
    "    return (lis1)\n",
    "list1=[1,2,4]\n",
    "d=addlis(list1)\n",
    "print (d)"
   ]
  },
  {
   "cell_type": "code",
   "execution_count": 129,
   "metadata": {},
   "outputs": [
    {
     "name": "stdout",
     "output_type": "stream",
     "text": [
      "[1, 2, 3, 7]\n",
      "[1, 2, 3, 7, 1, 2, 3, 7]\n",
      "[1, 2, 7, 1, 2, 3, 7]\n",
      "[7, 3, 2, 1, 7, 2, 1]\n",
      "[1, 1, 2, 2, 3, 7, 7]\n",
      "[7, 7, 3, 2, 2, 1, 1]\n",
      "5\n"
     ]
    }
   ],
   "source": [
    "## List functions\n",
    "list1=[1,2,3]\n",
    "list1.append(7)\n",
    "print (list1)\n",
    "list1.extend(list1)\n",
    "print (list1)\n",
    "list1.remove(3) #removed only 1st occurence of 3\n",
    "print (list1)\n",
    "\n",
    "list1.reverse()\n",
    "print (list1)\n",
    "list1.sort()\n",
    "print (list1)\n",
    "list1.sort(reverse=True) #if I am adding print directly with function then not working\n",
    "print (list1)\n",
    "print (list1.index(1))  # To print the first index\n",
    "\n",
    "#print (list1.rindex(7))  # Tried but not working"
   ]
  },
  {
   "cell_type": "code",
   "execution_count": 132,
   "metadata": {},
   "outputs": [
    {
     "name": "stdout",
     "output_type": "stream",
     "text": [
      "3\n"
     ]
    }
   ],
   "source": [
    "list1=[1,2,4,5]\n",
    "print (len(list1)-list1[-1::-1].index(4)-1) #printing the right index"
   ]
  },
  {
   "cell_type": "code",
   "execution_count": 111,
   "metadata": {},
   "outputs": [
    {
     "name": "stdout",
     "output_type": "stream",
     "text": [
      "[1, 5, 6, 7, 8]\n",
      "[1, 5, 6, 7, 8]\n",
      "[0, 6, 7, 8]\n"
     ]
    }
   ],
   "source": [
    "##List manipulation by using slicing\n",
    "\n",
    "list1=[1,2,3]\n",
    "list2=list1\n",
    "list1[1:]=[5,6,7,8]\n",
    "print (list1)\n",
    "print (list2)\n",
    "list1[:2]=[0]\n",
    "print (list1)\n",
    "\n"
   ]
  },
  {
   "cell_type": "code",
   "execution_count": 142,
   "metadata": {},
   "outputs": [
    {
     "data": {
      "text/plain": [
       "1"
      ]
     },
     "execution_count": 142,
     "metadata": {},
     "output_type": "execute_result"
    }
   ],
   "source": [
    "## Finding the position using break statement\n",
    "##else CAN ALSO BE USED WITH FOR AND WHILE LOOP\n",
    "def findpos(l,v):\n",
    "    (pos,i)=(l,v)\n",
    "    for i in range(len(l)):\n",
    "        if l[i]==v:\n",
    "            pos=i\n",
    "            return (pos)\n",
    "            break\n",
    "    else:\n",
    "        pos=-1\n",
    "        return (pos)\n",
    "findpos([1,3,4,5],3)"
   ]
  },
  {
   "cell_type": "code",
   "execution_count": 1,
   "metadata": {},
   "outputs": [
    {
     "data": {
      "text/plain": [
       "array([ 0,  3,  6,  9, 12, 15, 18, 21, 24])"
      ]
     },
     "execution_count": 1,
     "metadata": {},
     "output_type": "execute_result"
    }
   ],
   "source": [
    "## Array - Single block of memory - elements of uniform type- size given in advance\n",
    "import numpy as np\n",
    "a=np.array(range(0,9))\n",
    "a=a*3\n",
    "a"
   ]
  },
  {
   "cell_type": "code",
   "execution_count": 3,
   "metadata": {},
   "outputs": [],
   "source": [
    "## Array vs list\n",
    "\n",
    "#Array takes less time to reach to any of its element but inserting and deletion of element is difficult\n",
    "#Lists take more time to go to any element as previous item contains the value of the next item but insertion/deletion is easy\n",
    "#Plumbing- Inserting or deleting any element\n",
    "#Cost proportional to i in list"
   ]
  },
  {
   "cell_type": "code",
   "execution_count": 26,
   "metadata": {},
   "outputs": [
    {
     "name": "stdout",
     "output_type": "stream",
     "text": [
      "[19 18 17 16 15 14 13 12 11]\n",
      "3\n"
     ]
    }
   ],
   "source": [
    "## Binary search\n",
    "a=np.array(range(0,9))\n",
    "b=np.array(range(19,2,-2))\n",
    "c=a+b\n",
    "pos=0\n",
    "#search '16'\n",
    "print (c)\n",
    "\n",
    "##This below function takes a long time as each element has to be searched\n",
    "for i in c:\n",
    "    if i==16:\n",
    "        print (pos)\n",
    "        break\n",
    "    pos+=1"
   ]
  },
  {
   "cell_type": "code",
   "execution_count": 37,
   "metadata": {},
   "outputs": [
    {
     "name": "stdout",
     "output_type": "stream",
     "text": [
      "else\n"
     ]
    },
    {
     "data": {
      "text/plain": [
       "6"
      ]
     },
     "execution_count": 37,
     "metadata": {},
     "output_type": "execute_result"
    }
   ],
   "source": [
    "## Using binary search to search in a sequence\n",
    "\n",
    "def bsearch(seq,v,l,r):\n",
    "    if (r-l)==0:\n",
    "        if v==seq[r]:\n",
    "            return r\n",
    "        else:\n",
    "            return False\n",
    "    mid=(l+r)//2\n",
    "    if v==seq[mid]:\n",
    "        return mid\n",
    "    elif v<seq[mid]:\n",
    "        print (\"if\")\n",
    "        return bsearch(seq,v,l,mid)\n",
    "    else:\n",
    "        print (\"else\")\n",
    "        return bsearch (seq,v,mid+1,r)\n",
    "a=[2,3,5,5.5,6,8,10,11]\n",
    "bsearch(a,10,3,7)"
   ]
  },
  {
   "cell_type": "code",
   "execution_count": 67,
   "metadata": {},
   "outputs": [
    {
     "name": "stdout",
     "output_type": "stream",
     "text": [
      "1 3 minpos 0\n",
      "interchange 3 minpos 2 with 1 start 0\n",
      "NOw list [1, 6, 3, 0, 99, 1, 22]\n",
      "0 1 minpos 2\n",
      "interchange 1 minpos 3 with 0 start 0\n",
      "NOw list [0, 6, 3, 1, 99, 1, 22]\n",
      "3 6 minpos 1\n",
      "interchange 6 minpos 2 with 3 start 1\n",
      "NOw list [0, 3, 6, 1, 99, 1, 22]\n",
      "1 3 minpos 2\n",
      "interchange 3 minpos 3 with 1 start 1\n",
      "NOw list [0, 1, 6, 3, 99, 1, 22]\n",
      "3 6 minpos 2\n",
      "interchange 6 minpos 3 with 3 start 2\n",
      "NOw list [0, 1, 3, 6, 99, 1, 22]\n",
      "1 3 minpos 3\n",
      "interchange 3 minpos 5 with 1 start 2\n",
      "NOw list [0, 1, 1, 6, 99, 3, 22]\n",
      "3 6 minpos 3\n",
      "interchange 6 minpos 5 with 3 start 3\n",
      "NOw list [0, 1, 1, 3, 99, 6, 22]\n",
      "6 99 minpos 4\n",
      "interchange 99 minpos 5 with 6 start 4\n",
      "NOw list [0, 1, 1, 3, 6, 99, 22]\n",
      "22 99 minpos 5\n",
      "interchange 99 minpos 6 with 22 start 5\n",
      "NOw list [0, 1, 1, 3, 6, 22, 99]\n",
      "[0, 1, 1, 3, 6, 22, 99]\n"
     ]
    }
   ],
   "source": [
    "## Checking Selection Sort\n",
    "\n",
    "def selectionsort(l):\n",
    "    for start in range(len(l)):\n",
    "        minpos=start\n",
    "        for i in range(start,len(l)):\n",
    "            if l[i]<l[start]:\n",
    "                print (l[i],l[start], \"minpos\",minpos)\n",
    "                minpos=i\n",
    "                (l[start],l[minpos])=(l[minpos],l[start])\n",
    "                print (\"interchange\",l[minpos],\"minpos\",minpos,\"with\",l[start],\"start\",start)   \n",
    "        \n",
    "                print (\"NOw list\",l)\n",
    "a=[3,6,1,0,99,1,22]\n",
    "selectionsort(a)\n",
    "print (a)\n",
    "\n"
   ]
  },
  {
   "cell_type": "code",
   "execution_count": 94,
   "metadata": {},
   "outputs": [
    {
     "name": "stdout",
     "output_type": "stream",
     "text": [
      "3\n",
      "[1, 2, 3]\n"
     ]
    }
   ],
   "source": [
    "##Mutability and immutability cracked- My Jaadoo\n",
    "def change(a):\n",
    "    a=2\n",
    "b=3\n",
    "change(b)\n",
    "print (b)\n",
    "\n",
    "# But with list\n",
    "\n",
    "def changelist(l):\n",
    "    l[:]=[1,2,3]\n",
    "l1=[3,3,3]\n",
    "changelist(l1)\n",
    "print (l1)"
   ]
  },
  {
   "cell_type": "code",
   "execution_count": 288,
   "metadata": {},
   "outputs": [
    {
     "data": {
      "text/plain": [
       "[1, 5, 5]"
      ]
     },
     "execution_count": 288,
     "metadata": {},
     "output_type": "execute_result"
    }
   ],
   "source": [
    "## No Jadoo case\n",
    "\n",
    "def nochange(l):\n",
    "    l=[1,0,0]\n",
    "    return l\n",
    "a=[1,5,5]\n",
    "nochange(a)\n",
    "a"
   ]
  },
  {
   "cell_type": "code",
   "execution_count": null,
   "metadata": {},
   "outputs": [],
   "source": [
    "##Difference between insertion sort and selection sort is that while insertion sort checks elements like they \n",
    "##come in a stack , means new element that is added is checked with the rest of the elements \n",
    "##Selection sort checks each element with the remaining elements\n",
    "#So both are O(n**2) but insertion sort will take lesser time if elements are sorted"
   ]
  },
  {
   "cell_type": "code",
   "execution_count": 89,
   "metadata": {},
   "outputs": [
    {
     "name": "stdout",
     "output_type": "stream",
     "text": [
      "slicend 0\n",
      "slicend 1\n",
      "i 0\n",
      "slicend 2\n",
      "i 0\n",
      "i 1\n",
      "slicend 3\n",
      "i 0\n",
      "list after [0, 4, 8, 2, 1]\n",
      "i 1\n",
      "list after [0, 2, 8, 4, 1]\n",
      "i 2\n",
      "list after [0, 2, 4, 8, 1]\n",
      "slicend 4\n",
      "i 0\n",
      "i 1\n",
      "list after [0, 1, 4, 8, 2]\n",
      "i 2\n",
      "list after [0, 1, 2, 8, 4]\n",
      "i 3\n",
      "list after [0, 1, 2, 4, 8]\n"
     ]
    },
    {
     "data": {
      "text/plain": [
       "[0, 1, 2, 4, 8]"
      ]
     },
     "execution_count": 89,
     "metadata": {},
     "output_type": "execute_result"
    }
   ],
   "source": [
    "## Insertion sort by for loop\n",
    "\n",
    "def insertionsort(l):\n",
    "    for slicend in range(len(l)):\n",
    "        print (\"slicend\",slicend)\n",
    "        pos=slicend\n",
    "        if pos==0:\n",
    "            pass\n",
    "        else:\n",
    "            for i in range(pos):\n",
    "                print (\"i\",i)\n",
    "                if l[pos]<l[i]:\n",
    "                    l[pos],l[i]=l[i],l[pos]\n",
    "                    print (\"list after\",l)\n",
    "\n",
    "a=[2,4,8,0,1]\n",
    "insertionsort(a)\n",
    "a"
   ]
  },
  {
   "cell_type": "code",
   "execution_count": 98,
   "metadata": {},
   "outputs": [
    {
     "name": "stdout",
     "output_type": "stream",
     "text": [
      "pos 0\n",
      "pos 1\n",
      "list [1, 22, 0, 9, -1]\n",
      "pos 2\n",
      "list [0, 22, 1, 9, -1]\n",
      "list [0, 1, 22, 9, -1]\n",
      "pos 3\n",
      "list [0, 1, 22, 9, -1]\n",
      "list [0, 1, 22, 9, -1]\n",
      "list [0, 1, 9, 22, -1]\n",
      "pos 4\n",
      "list [-1, 1, 9, 22, 0]\n",
      "list [-1, 0, 9, 22, 1]\n",
      "list [-1, 0, 1, 22, 9]\n",
      "list [-1, 0, 1, 9, 22]\n"
     ]
    },
    {
     "data": {
      "text/plain": [
       "[-1, 0, 1, 9, 22]"
      ]
     },
     "execution_count": 98,
     "metadata": {},
     "output_type": "execute_result"
    }
   ],
   "source": [
    "## Insertion sort by while loop\n",
    "def insertionsort2(l):\n",
    "    for sliceend in range(len(l)):\n",
    "        pos=sliceend\n",
    "        i=0\n",
    "        print (\"pos\",pos)\n",
    "        while pos>0 and i<pos:\n",
    "            if l[i]>l[pos]:\n",
    "                l[pos],l[i]=l[i],l[pos]\n",
    "                \n",
    "            i+=1\n",
    "            print (\"list\",l)\n",
    "a=[22,1,0,9,-1]\n",
    "insertionsort2(a)\n",
    "a"
   ]
  },
  {
   "cell_type": "code",
   "execution_count": 3,
   "metadata": {},
   "outputs": [
    {
     "data": {
      "text/plain": [
       "24"
      ]
     },
     "execution_count": 3,
     "metadata": {},
     "output_type": "execute_result"
    }
   ],
   "source": [
    "##Inductive cases\n",
    "def fact(n):\n",
    "    if n==0:\n",
    "        return 1\n",
    "    else:\n",
    "        return (n*fact(n-1))\n",
    "fact(4)"
   ]
  },
  {
   "cell_type": "code",
   "execution_count": 8,
   "metadata": {},
   "outputs": [
    {
     "data": {
      "text/plain": [
       "18"
      ]
     },
     "execution_count": 8,
     "metadata": {},
     "output_type": "execute_result"
    }
   ],
   "source": [
    "#multiply inductively\n",
    "def mult(m,n):\n",
    "    if n==1:\n",
    "        return m\n",
    "    else:\n",
    "        return m+mult(m,n-1)\n",
    "mult(9,2)"
   ]
  },
  {
   "cell_type": "code",
   "execution_count": 12,
   "metadata": {},
   "outputs": [
    {
     "data": {
      "text/plain": [
       "3"
      ]
     },
     "execution_count": 12,
     "metadata": {},
     "output_type": "execute_result"
    }
   ],
   "source": [
    "##Length of a list\n",
    "def length(l):\n",
    "    if l==[]:\n",
    "        return 0\n",
    "    else:\n",
    "        return 1+length(l[1:])\n",
    "length([1,4,5])"
   ]
  },
  {
   "cell_type": "code",
   "execution_count": 15,
   "metadata": {},
   "outputs": [
    {
     "data": {
      "text/plain": [
       "97"
      ]
     },
     "execution_count": 15,
     "metadata": {},
     "output_type": "execute_result"
    }
   ],
   "source": [
    "##Sum of a list\n",
    "def sumlist(l):\n",
    "    if l==[]:\n",
    "        return 0\n",
    "    else:\n",
    "        return l[0]+sumlist(l[1:])\n",
    "sumlist([1,6,90])"
   ]
  },
  {
   "cell_type": "code",
   "execution_count": 108,
   "metadata": {},
   "outputs": [
    {
     "name": "stdout",
     "output_type": "stream",
     "text": [
      "k 4\n",
      "k 3\n",
      "k 2\n",
      "k 1\n",
      "pos-out 1\n",
      "pos-in 0\n",
      "list [1, 23, 0, 9]\n",
      "end\n",
      "pos-out 2\n",
      "pos-in 1\n",
      "list [1, 0, 23, 9]\n",
      "pos-in 0\n",
      "list [0, 1, 23, 9]\n",
      "end\n",
      "pos-out 3\n",
      "pos-in 2\n",
      "list [0, 1, 9, 23]\n",
      "end\n"
     ]
    },
    {
     "data": {
      "text/plain": [
       "[0, 1, 9, 23]"
      ]
     },
     "execution_count": 108,
     "metadata": {},
     "output_type": "execute_result"
    }
   ],
   "source": [
    "## Recursion - Doing things inductively\n",
    "def Insertionsort(seq):\n",
    "    isort(seq,len(seq))\n",
    "def isort(seq,k):\n",
    "    print (\"k\",k)\n",
    "    if k>1:\n",
    "        isort(seq,k-1)\n",
    "        insertsort(seq,k-1)\n",
    "        print (\"end\")\n",
    "def insertsort(seq,k):\n",
    "    pos=k\n",
    "    print (\"pos-out\",pos)\n",
    "    while pos>0 and seq[pos]<seq[pos-1]:\n",
    "        seq[pos],seq[pos-1]=seq[pos-1],seq[pos]\n",
    "        pos=pos-1\n",
    "        print (\"pos-in\",pos)\n",
    "        print (\"list\",seq)\n",
    "a=[23,1,0,9]\n",
    "Insertionsort(a)\n",
    "a\n",
    "##There is a limit to how many functions you can suspend this way-997\n",
    "##But setting recursion limit can get you around this"
   ]
  },
  {
   "cell_type": "code",
   "execution_count": 116,
   "metadata": {},
   "outputs": [
    {
     "name": "stdout",
     "output_type": "stream",
     "text": [
      "a 3\n",
      "a 1\n",
      "b 1\n",
      "b 3\n"
     ]
    }
   ],
   "source": [
    "## See how double function run\n",
    "def fun(a):\n",
    "    if a>0:\n",
    "        print (\"a\",a)\n",
    "        fun(a-2)\n",
    "        out(a)\n",
    "def out(b):\n",
    "    print (\"b\",b)\n",
    "    b+=4\n",
    "fun(3)"
   ]
  },
  {
   "cell_type": "code",
   "execution_count": 144,
   "metadata": {},
   "outputs": [],
   "source": [
    "##Setting the recursion depth\n",
    "\n",
    "def fun(a):\n",
    "    if a>0:\n",
    "        fun(a-1)\n",
    "        out(a)\n",
    "def out(b):\n",
    "    b+=4\n",
    "fun(2960) # I found the recursion limit to be 2960 \n"
   ]
  },
  {
   "cell_type": "code",
   "execution_count": 16,
   "metadata": {},
   "outputs": [
    {
     "ename": "RecursionError",
     "evalue": "maximum recursion depth exceeded in comparison",
     "output_type": "error",
     "traceback": [
      "\u001b[1;31m---------------------------------------------------------------------------\u001b[0m",
      "\u001b[1;31mRecursionError\u001b[0m                            Traceback (most recent call last)",
      "\u001b[1;32m<ipython-input-16-bef97d1931a0>\u001b[0m in \u001b[0;36m<module>\u001b[1;34m\u001b[0m\n\u001b[0;32m      8\u001b[0m \u001b[1;32mdef\u001b[0m \u001b[0mout\u001b[0m\u001b[1;33m(\u001b[0m\u001b[0mb\u001b[0m\u001b[1;33m)\u001b[0m\u001b[1;33m:\u001b[0m\u001b[1;33m\u001b[0m\u001b[0m\n\u001b[0;32m      9\u001b[0m     \u001b[0mb\u001b[0m\u001b[1;33m+=\u001b[0m\u001b[1;36m4\u001b[0m\u001b[1;33m\u001b[0m\u001b[0m\n\u001b[1;32m---> 10\u001b[1;33m \u001b[0mfun\u001b[0m\u001b[1;33m(\u001b[0m\u001b[1;36m2999\u001b[0m\u001b[1;33m)\u001b[0m \u001b[1;31m# I found the recursion limit to be 2960\u001b[0m\u001b[1;33m\u001b[0m\u001b[0m\n\u001b[0m",
      "\u001b[1;32m<ipython-input-16-bef97d1931a0>\u001b[0m in \u001b[0;36mfun\u001b[1;34m(a)\u001b[0m\n\u001b[0;32m      4\u001b[0m \u001b[1;32mdef\u001b[0m \u001b[0mfun\u001b[0m\u001b[1;33m(\u001b[0m\u001b[0ma\u001b[0m\u001b[1;33m)\u001b[0m\u001b[1;33m:\u001b[0m\u001b[1;33m\u001b[0m\u001b[0m\n\u001b[0;32m      5\u001b[0m     \u001b[1;32mif\u001b[0m \u001b[0ma\u001b[0m\u001b[1;33m>\u001b[0m\u001b[1;36m0\u001b[0m\u001b[1;33m:\u001b[0m\u001b[1;33m\u001b[0m\u001b[0m\n\u001b[1;32m----> 6\u001b[1;33m         \u001b[0mfun\u001b[0m\u001b[1;33m(\u001b[0m\u001b[0ma\u001b[0m\u001b[1;33m-\u001b[0m\u001b[1;36m1\u001b[0m\u001b[1;33m)\u001b[0m\u001b[1;33m\u001b[0m\u001b[0m\n\u001b[0m\u001b[0;32m      7\u001b[0m         \u001b[0mout\u001b[0m\u001b[1;33m(\u001b[0m\u001b[0ma\u001b[0m\u001b[1;33m)\u001b[0m\u001b[1;33m\u001b[0m\u001b[0m\n\u001b[0;32m      8\u001b[0m \u001b[1;32mdef\u001b[0m \u001b[0mout\u001b[0m\u001b[1;33m(\u001b[0m\u001b[0mb\u001b[0m\u001b[1;33m)\u001b[0m\u001b[1;33m:\u001b[0m\u001b[1;33m\u001b[0m\u001b[0m\n",
      "... last 1 frames repeated, from the frame below ...\n",
      "\u001b[1;32m<ipython-input-16-bef97d1931a0>\u001b[0m in \u001b[0;36mfun\u001b[1;34m(a)\u001b[0m\n\u001b[0;32m      4\u001b[0m \u001b[1;32mdef\u001b[0m \u001b[0mfun\u001b[0m\u001b[1;33m(\u001b[0m\u001b[0ma\u001b[0m\u001b[1;33m)\u001b[0m\u001b[1;33m:\u001b[0m\u001b[1;33m\u001b[0m\u001b[0m\n\u001b[0;32m      5\u001b[0m     \u001b[1;32mif\u001b[0m \u001b[0ma\u001b[0m\u001b[1;33m>\u001b[0m\u001b[1;36m0\u001b[0m\u001b[1;33m:\u001b[0m\u001b[1;33m\u001b[0m\u001b[0m\n\u001b[1;32m----> 6\u001b[1;33m         \u001b[0mfun\u001b[0m\u001b[1;33m(\u001b[0m\u001b[0ma\u001b[0m\u001b[1;33m-\u001b[0m\u001b[1;36m1\u001b[0m\u001b[1;33m)\u001b[0m\u001b[1;33m\u001b[0m\u001b[0m\n\u001b[0m\u001b[0;32m      7\u001b[0m         \u001b[0mout\u001b[0m\u001b[1;33m(\u001b[0m\u001b[0ma\u001b[0m\u001b[1;33m)\u001b[0m\u001b[1;33m\u001b[0m\u001b[0m\n\u001b[0;32m      8\u001b[0m \u001b[1;32mdef\u001b[0m \u001b[0mout\u001b[0m\u001b[1;33m(\u001b[0m\u001b[0mb\u001b[0m\u001b[1;33m)\u001b[0m\u001b[1;33m:\u001b[0m\u001b[1;33m\u001b[0m\u001b[0m\n",
      "\u001b[1;31mRecursionError\u001b[0m: maximum recursion depth exceeded in comparison"
     ]
    }
   ],
   "source": [
    "##Setting the recursion depth\n",
    "import sys\n",
    "sys.setrecursionlimit(3000) # Tried setting recursion depth but failed\n",
    "def fun(a):\n",
    "    if a>0:\n",
    "        fun(a-1)\n",
    "        out(a)\n",
    "def out(b):\n",
    "    b+=4\n",
    "fun(2999) # I found the recursion limit to be 2960 "
   ]
  },
  {
   "cell_type": "markdown",
   "metadata": {},
   "source": [
    "## Week-3 Assignment"
   ]
  },
  {
   "cell_type": "code",
   "execution_count": 29,
   "metadata": {},
   "outputs": [
    {
     "data": {
      "text/plain": [
       "False"
      ]
     },
     "execution_count": 29,
     "metadata": {},
     "output_type": "execute_result"
    }
   ],
   "source": [
    "'''Define a Python function descending(l) that returns True if each element in its input list is at most as big as the one before it. For instance:\n",
    "\n",
    "  >>> descending([])\n",
    "  True\n",
    "\n",
    "  >>> descending([4,4,3])\n",
    "  True\n",
    "\n",
    "  >>> descending([19,17,18,7])\n",
    "  False'''\n",
    "def descending(l):\n",
    "    if l==[]:\n",
    "        return True\n",
    "    for i in range(len(l)):\n",
    "        try:\n",
    "            if l[i]==l[i+1]:\n",
    "                return True\n",
    "        except:\n",
    "            if i==len(l)-1:\n",
    "                return False\n",
    "descending([19,17,18,7])"
   ]
  },
  {
   "cell_type": "code",
   "execution_count": 112,
   "metadata": {},
   "outputs": [
    {
     "name": "stdout",
     "output_type": "stream",
     "text": [
      "min 1 pos 3\n",
      "4\n",
      "2\n",
      "Hi2\n"
     ]
    },
    {
     "data": {
      "text/plain": [
       "False"
      ]
     },
     "execution_count": 112,
     "metadata": {},
     "output_type": "execute_result"
    }
   ],
   "source": [
    "'''A list of integers is said to be a valley if it consists of a sequence of strictly decreasing values followed by a sequence of strictly increasing values. The decreasing and increasing sequences must be of length at least 2. The last value of the decreasing sequence is the first value of the increasing sequence.\n",
    "\n",
    "Write a Python function valley(l) that takes a list of integers and returns True if l is a valley and False otherwise.\n",
    "\n",
    "Here are some examples to show how your function should work.\n",
    "\n",
    "  >>> valley([3,2,1,2,3])\n",
    "  True\n",
    "\n",
    "  >>> valley([3,2,1])\n",
    "  False\n",
    "\n",
    "  >>> valley([3,3,2,1,2])\n",
    "  False'''\n",
    "def valley(l):\n",
    "    ok1=0\n",
    "    min,pos=findmin(l)\n",
    "    print (\"min\",min,\"pos\",pos)\n",
    "    print (len(l[:pos+1]))\n",
    "    print (len(l[pos:]))\n",
    "    if len(l[:pos+1])==len(l[pos:]):\n",
    "        print (\"Hi1\")\n",
    "        for i in range(pos):\n",
    "            print (\"Hi3\")\n",
    "            pos1=pos+1+i\n",
    "            if l[i]<l[i+1] or l[pos+i]>l[pos1]: \n",
    "                print (\"Hi4\")\n",
    "                ok1=1 \n",
    "        if ok1==1:\n",
    "            print (\"Hi5\")\n",
    "            return False\n",
    "        else:\n",
    "            return True\n",
    "                \n",
    "    else:\n",
    "        print (\"Hi2\")\n",
    "        return False\n",
    "def findmin(l1):\n",
    "    #print (len(l1))\n",
    "    min=l1[0];pos=0\n",
    "    for i in range(len(l1)):\n",
    "        #print (\"up\",\"min\",min,\"l1[i]\",l1[i])\n",
    "        if min>l1[i]:\n",
    "            #print (\"min\",min,\"l1[i]\",l1[i])\n",
    "            min=l1[i]\n",
    "            pos=i\n",
    "    return (min,pos)\n",
    "\n",
    "\n",
    "valley([3,3,2,1,2])"
   ]
  },
  {
   "cell_type": "code",
   "execution_count": 59,
   "metadata": {},
   "outputs": [
    {
     "ename": "SyntaxError",
     "evalue": "unexpected EOF while parsing (<ipython-input-59-880d901e4dd0>, line 2)",
     "output_type": "error",
     "traceback": [
      "\u001b[1;36m  File \u001b[1;32m\"<ipython-input-59-880d901e4dd0>\"\u001b[1;36m, line \u001b[1;32m2\u001b[0m\n\u001b[1;33m    \u001b[0m\n\u001b[1;37m    ^\u001b[0m\n\u001b[1;31mSyntaxError\u001b[0m\u001b[1;31m:\u001b[0m unexpected EOF while parsing\n"
     ]
    }
   ],
   "source": [
    "def transpose(m):\n",
    "    if len(m)==1:\n",
    "    elif len(m)==2:\n",
    "        "
   ]
  },
  {
   "cell_type": "code",
   "execution_count": 152,
   "metadata": {},
   "outputs": [
    {
     "name": "stdout",
     "output_type": "stream",
     "text": [
      "[[1 1 1]\n",
      " [2 2 2]\n",
      " [3 3 3]]\n"
     ]
    }
   ],
   "source": [
    "'''A two dimensional matrix can be represented in Python row-wise, as a list of lists: each inner list represents one row of the matrix. For instance, the matrix\n",
    "\n",
    "  1  2  3\n",
    "  4  5  6 \n",
    "would be represented as [[1, 2, 3], [4, 5, 6]].\n",
    "\n",
    "The transpose of a matrix makes each row into a column. For instance, the transpose of the matrix above is\n",
    "\n",
    "  1  4  \n",
    "  2  5\n",
    "  3  6\n",
    "Write a Python function transpose(m) that takes as input a two dimensional matrix using this row-wise representation and returns the transpose of the matrix using the same representation.\n",
    "\n",
    "Here are some examples to show how your function should work. You may assume that the input to the function is always a non-empty matrix.\n",
    "\n",
    "  >>> transpose([[1,4,9]])\n",
    "  [[1], [4], [9]]\n",
    "\n",
    "  >>> transpose([[1,3,5],[2,4,6]])\n",
    "  [[1, 2], [3, 4], [5, 6]]\n",
    "\n",
    "  >>> transpose([[1,1,1],[2,2,2],[3,3,3]])\n",
    "  [[1, 2, 3], [1, 2, 3], [1, 2, 3]]'''\n",
    "a=[[1,2,3],[-2,-3,-4]]\n",
    "def transpose(m):\n",
    "    import numpy as np\n",
    "    m1=np.array(m)\n",
    "    a=(list([*m1.transpose()]))\n",
    "    for i in range(len(a)):\n",
    "        list([*m1[i]])\n",
    "    print (m1)\n",
    "transpose([[1,1,1],[2,2,2],[3,3,3]])\n",
    "\n",
    "           \n",
    "  \n",
    " \n"
   ]
  },
  {
   "cell_type": "code",
   "execution_count": 153,
   "metadata": {},
   "outputs": [
    {
     "ename": "SyntaxError",
     "evalue": "invalid syntax (<ipython-input-153-8df76a6d4897>, line 4)",
     "output_type": "error",
     "traceback": [
      "\u001b[1;36m  File \u001b[1;32m\"<ipython-input-153-8df76a6d4897>\"\u001b[1;36m, line \u001b[1;32m4\u001b[0m\n\u001b[1;33m    for j in\u001b[0m\n\u001b[1;37m             ^\u001b[0m\n\u001b[1;31mSyntaxError\u001b[0m\u001b[1;31m:\u001b[0m invalid syntax\n"
     ]
    }
   ],
   "source": [
    "a=[[1,2,3],[-2,-3,-4]]\n",
    "b=[]\n",
    "for i in range(len(a)):\n",
    "    for j in \n",
    "    range(len(a[i])):\n",
    "        print (i,j)\n",
    "        b.append(a[i][j])\n",
    "    b=[b]\n",
    "for i in range(len(a)):\n",
    "    for j in range(len(a[i])):\n",
    "        print (i,j)\n",
    "        b[j][i]=(a[i][j])\n",
    "    b=[b]    \n",
    "print (b)\n",
    "    "
   ]
  },
  {
   "cell_type": "code",
   "execution_count": 162,
   "metadata": {},
   "outputs": [],
   "source": [
    "'''Define a Python function progression(l) that takes a nonempty list of integers l and returns True if the integers in l form an arithmetic progression: that is, l is of the form [a,a+d,a+2d,…,a+kd].\n",
    "\n",
    ">>> progression([3])\n",
    "True\n",
    "\n",
    ">>> progression([7,3,-1,-5])\n",
    "True\n",
    "\n",
    ">>> progression([3,5,7,9,10])\n",
    "False'''\n",
    "def progression(l):\n",
    "    if len(l)==1:\n",
    "        return True\n",
    "    k=l[1]-l[0]\n",
    "    for i in range(len(l)-1):\n",
    "        if l[i+1]-l[i]!=k:\n",
    "            return False\n",
    "    return True"
   ]
  },
  {
   "cell_type": "code",
   "execution_count": 293,
   "metadata": {},
   "outputs": [
    {
     "data": {
      "text/plain": [
       "True"
      ]
     },
     "execution_count": 293,
     "metadata": {},
     "output_type": "execute_result"
    }
   ],
   "source": [
    "'''Write a Python function squareprime(l) that takes a nonempty list of integers and returns True if the elements of l alternate between perfect squares and prime numbers, and returns False otherwise. Note that the alternating sequence of squares and primes may begin with a square or with a prime.\n",
    "\n",
    "Here are some examples to show how your function should work.\n",
    "\n",
    ">>> primesquare([4])\n",
    "True\n",
    "\n",
    ">>> primesquare([4,5,16,101,64])\n",
    "True\n",
    "\n",
    ">>> primesquare([5,16,101,36,27])\n",
    "False'''\n",
    "def primesquare(l):\n",
    "    k=0\n",
    "    if len(l)==1:\n",
    "        if (chkprime(l[0])==True)or (chksquare(l[0])==True):\n",
    "            #print (\"hi1\")\n",
    "            return True\n",
    "            \n",
    "    if len(l)%2==0:\n",
    "        if len(l)==2:\n",
    "            if (chkprime(l[0])==True)and (chksquare(l[1])==True):   ##See it is asking for brackets here\n",
    "                #print (\"hi2\")\n",
    "                return True\n",
    "            elif (chksquare(l[0])==True)and (chkprime(l[1])==True):\n",
    "                #print (\"hi2.5\")\n",
    "                return True\n",
    "            else:\n",
    "                return False\n",
    "                 \n",
    "        else:\n",
    "            for i in range(2,len(l)-1):\n",
    "                if (chkprime(l[i])==True) and (chksquare(l[i+1])==True):\n",
    "                    #print (\"Kk\",l[i],l[i+1])\n",
    "                    k=0\n",
    "                elif (chksquare(l[i])==True) and (chkprime(l[i+1])==True):\n",
    "                    #print (\"jj\",l[i],l[i+1])\n",
    "                    k=0\n",
    "                else:\n",
    "                    k=1\n",
    "               \n",
    "            if k==1:\n",
    "                #print (\"hi3\")\n",
    "                return False\n",
    "                 \n",
    "            else:\n",
    "                #print (\"hi4\")\n",
    "                return True\n",
    "                \n",
    "             \n",
    "    if len(l)%2==1:\n",
    "        for i in range(len(l)-2):\n",
    "            if (chkprime(l[i])==True)and (chksquare(l[i+1])==True) and (chkprime(l[i+2])==True):   ##See it is asking for brackets here\n",
    "                    k=0\n",
    "            if (chksquare(l[i])==True)and (chkprime(l[i+1])==True) and (chksquare(l[i+2])==True):   ##See it is asking for brackets here\n",
    "                    k=0\n",
    "            else:\n",
    "                k=1\n",
    "            if k==1:\n",
    "                #print (\"hi8\")\n",
    "                return False\n",
    "                 \n",
    "            else:\n",
    "                #print (\"hi9\")\n",
    "                return True\n",
    "           \n",
    "    \n",
    "def chkprime(n):\n",
    "    if n==0 or n==1:\n",
    "        return False\n",
    "    for i in range(2,n):\n",
    "        if (n%i==0):\n",
    "            return False\n",
    "        else:\n",
    "            return True\n",
    "def chksquare(n): \n",
    "    if ((n**0.5)//1)**2==float(n):\n",
    "        return True\n",
    "    else:\n",
    "        return False\n",
    "\n",
    "primesquare([5,4])"
   ]
  },
  {
   "cell_type": "code",
   "execution_count": null,
   "metadata": {},
   "outputs": [],
   "source": [
    "##Imp note - Deep copy copies everything structures , substructures but new list is made \n",
    "#Shallow copy copies the reference of list A so change in copy affects the new list"
   ]
  },
  {
   "cell_type": "code",
   "execution_count": 328,
   "metadata": {},
   "outputs": [
    {
     "name": "stdout",
     "output_type": "stream",
     "text": [
      "[[3, 4], [1, 2]]\n",
      "[[1, 2], [3, 4]]\n"
     ]
    }
   ],
   "source": [
    "'''Write a Python function matrixflip(m,d) that takes as input a two dimensional matrix m and a direction d, where d is either 'h' or 'v'. If d == 'h', the function should return the matrix flipped horizontally. If d == 'v', the function should retun the matrix flipped vertically. For any other value of d, the function should return m unchanged. In all cases, the argument m should remain undisturbed by the function.\n",
    "\n",
    "Here are some examples to show how your function should work. You may assume that the input to the function is always a non-empty matrix.\n",
    "\n",
    ">>> myl = [[1,2],[3,4]]\n",
    "\n",
    ">>> myl\n",
    "[[1, 2], [3, 4]]  \n",
    "\n",
    ">>> matrixflip(myl,'h')\n",
    "[[2, 1], [4, 3]]\n",
    "\n",
    ">>> myl\n",
    "[[1, 2], [3, 4]]  \n",
    "\n",
    ">>> matrixflip(myl,'v')\n",
    "[[3, 4], [1, 2]]  \n",
    "\n",
    ">>> myl\n",
    "[[1, 2], [3, 4]]  '''\n",
    "def matrixflip(m,d):\n",
    "    a=len(m)\n",
    "    b=len(m[0])\n",
    "    if d==\"v\":\n",
    "        return flipvert(m,a,b)\n",
    "    elif d==\"h\":\n",
    "        return fliphort(m,a,b)\n",
    "def flipvert(m0,m1,m2):\n",
    "    n0=[[0 for x in range(m2)] for x in range(m1)]\n",
    "    for i in range(m2):\n",
    "        n0[1][i]=m0[0][i]\n",
    "        n0[0][i]=m0[1][i]\n",
    "    return n0\n",
    "def fliphort(m0,m1,m2):\n",
    "    n0=[[0 for x in range(m2)] for x in range(m1)]\n",
    "    for i in range(m2):\n",
    "        n0[i][1]=m0[i][0]\n",
    "        n0[i][0]=m0[i][1]\n",
    "    return (n0)\n",
    "myl = [[1,2],[3,4]]\n",
    "out=matrixflip(myl,'v')\n",
    "print (out)\n",
    "print (myl)"
   ]
  },
  {
   "cell_type": "code",
   "execution_count": 331,
   "metadata": {},
   "outputs": [
    {
     "data": {
      "text/plain": [
       "[[9, 5, 6], [1, 2, 3]]"
      ]
     },
     "execution_count": 331,
     "metadata": {},
     "output_type": "execute_result"
    }
   ],
   "source": [
    "def flipvert(m0,m1,m2):\n",
    "    n0=[[0 for x in range(m2)] for x in range(m1)]\n",
    "    for i in range(m2):\n",
    "        n0[1][i]=m0[0][i]\n",
    "        n0[0][i]=m0[1][i]\n",
    "    return n0\n",
    "flipvert([[1,2,3],[9,5,6]],2,3)\n",
    "\n"
   ]
  },
  {
   "cell_type": "code",
   "execution_count": 330,
   "metadata": {},
   "outputs": [
    {
     "data": {
      "text/plain": [
       "[[2, 1], [5, 9]]"
      ]
     },
     "execution_count": 330,
     "metadata": {},
     "output_type": "execute_result"
    }
   ],
   "source": [
    "def fliphort(m0,m1,m2):\n",
    "    n0=[[0 for x in range(m2)] for x in range(m1)]\n",
    "    for i in range(m2):\n",
    "        n0[i][1]=m0[i][0]\n",
    "        n0[i][0]=m0[i][1]\n",
    "    return (n0)\n",
    "fliphort([[1,2],[9,5]],2,2)"
   ]
  },
  {
   "cell_type": "markdown",
   "metadata": {},
   "source": [
    "# Week 4"
   ]
  },
  {
   "cell_type": "code",
   "execution_count": 391,
   "metadata": {},
   "outputs": [
    {
     "data": {
      "text/plain": [
       "[1, 2, 4, 6, 7, 9, 9, 19]"
      ]
     },
     "execution_count": 391,
     "metadata": {},
     "output_type": "execute_result"
    }
   ],
   "source": [
    "##Merge sort- First breaks up list into smaller parts until 1 is left and then \n",
    "##combines them to the top by checking and arranging the smaller one first and so on\n",
    "##Divide and conquer\n",
    "def merge(A,B):\n",
    "    (C,m,n)=([],len(A),len(B))\n",
    "    i=0;j=0\n",
    "    \n",
    "    while i+j<n+m:\n",
    "\n",
    "        if j==n:          #If B is empty\n",
    "            #print (\"hi1\")            \n",
    "            C.append(A[i])\n",
    "\n",
    "            i+=1\n",
    "        elif i==m:         #If A is empty\n",
    "            \n",
    "            C.append(B[j])\n",
    "            #print (\"hi2\")\n",
    "            j+=1\n",
    "        elif A[i]<B[j]:\n",
    "            #print (\"hi3\")\n",
    "            C.append(A[i])\n",
    "            i+=1\n",
    "        \n",
    "        elif A[i]>=B[j]:\n",
    "            #print (\"hi4\")\n",
    "            C.append(B[j])\n",
    "            j+=1            \n",
    "\n",
    "    return C\n",
    "merge([1,7,9,19],[2,4,6,9])"
   ]
  },
  {
   "cell_type": "code",
   "execution_count": 398,
   "metadata": {},
   "outputs": [
    {
     "name": "stdout",
     "output_type": "stream",
     "text": [
      "\n",
      "\n",
      "L part\n",
      "left,mid,right,Hi2 0 3 6\n",
      "in L [9, 1, 3]\n",
      "\n",
      "\n",
      "L part\n",
      "left,mid,right,Hi2 0 1 3\n",
      "in L [9]\n",
      "Hi1\n",
      "\n",
      "\n",
      "start\n",
      "Left 0\n",
      "Right 1\n",
      "except\n",
      "\n",
      "\n",
      "R part\n",
      "in R [1, 3]\n",
      "\n",
      "\n",
      "L part\n",
      "left,mid,right,Hi2 1 2 3\n",
      "in L [1]\n",
      "Hi1\n",
      "\n",
      "\n",
      "start\n",
      "Left 1\n",
      "Right 2\n",
      "except\n",
      "\n",
      "\n",
      "R part\n",
      "in R [3]\n",
      "Hi1\n",
      "\n",
      "\n",
      "start\n",
      "Left 2\n",
      "Right 3\n",
      "except\n",
      "\n",
      "\n",
      "final\n",
      "A[left:mid] [1]\n",
      "A[mid:right] [3]\n",
      "\n",
      "\n",
      "final\n",
      "A[left:mid] [9]\n",
      "A[mid:right] [1, 3]\n",
      "\n",
      "\n",
      "R part\n",
      "in R [6, 98, 0]\n",
      "\n",
      "\n",
      "L part\n",
      "left,mid,right,Hi2 3 4 6\n",
      "in L [6]\n",
      "Hi1\n",
      "\n",
      "\n",
      "start\n",
      "Left 3\n",
      "Right 4\n",
      "except\n",
      "\n",
      "\n",
      "R part\n",
      "in R [98, 0]\n",
      "\n",
      "\n",
      "L part\n",
      "left,mid,right,Hi2 4 5 6\n",
      "in L [98]\n",
      "Hi1\n",
      "\n",
      "\n",
      "start\n",
      "Left 4\n",
      "Right 5\n",
      "except\n",
      "\n",
      "\n",
      "R part\n",
      "in R [0]\n",
      "Hi1\n",
      "\n",
      "\n",
      "start\n",
      "Left 5\n",
      "Right 6\n",
      "except\n",
      "\n",
      "\n",
      "final\n",
      "A[left:mid] [98]\n",
      "A[mid:right] [0]\n",
      "\n",
      "\n",
      "final\n",
      "A[left:mid] [6]\n",
      "A[mid:right] [98, 0]\n",
      "\n",
      "\n",
      "final\n",
      "A[left:mid] [9, 1, 3]\n",
      "A[mid:right] [6, 98, 0]\n"
     ]
    },
    {
     "data": {
      "text/plain": [
       "[0, 1, 3, 6, 9, 98]"
      ]
     },
     "execution_count": 398,
     "metadata": {},
     "output_type": "execute_result"
    }
   ],
   "source": [
    "def mergesort(A,left,right): ##This code functioning i didnt understand ( this is nlogn algo)\n",
    "    if right-left<=1:\n",
    "        print (\"Hi1\")\n",
    "        print (\"\\n\\nstart\")\n",
    "        try:\n",
    "            print (\"Left\",left)\n",
    "            print (\"Right\",right)\n",
    "            print (\"A[left:mid]\",A[left:mid])\n",
    "            print (\"A[mid:right]\",A[mid:right])            \n",
    "\n",
    "            #print (\"A\",A)\n",
    "            #print (\"A[left:right]\",A[left:right])\n",
    "            print (\"mid\",mid)\n",
    "        except:\n",
    "            print (\"except\")\n",
    "            pass\n",
    "        return A[left:right]\n",
    "    else:\n",
    "        mid=(left+right)//2 \n",
    "        print (\"\\n\\nL part\")\n",
    "        print (\"left,mid,right,Hi2\",left,mid,right)\n",
    "        print (\"in L\",A[left:mid])\n",
    "        L=mergesort(A,left,mid)\n",
    "        #print (\"Hi3\")\n",
    "        print (\"\\n\\nR part\")\n",
    "        print (\"in R\",A[mid:right])\n",
    "        R=mergesort(A,mid,right)\n",
    "        #print (\"Hi4\")\n",
    "        #print (\"A[left:right]\",A[left:right])\n",
    "        print (\"\\n\\nfinal\")\n",
    "        print (\"A[left:mid]\",A[left:mid])\n",
    "        print (\"A[mid:right]\",A[mid:right]) \n",
    "        ot=(merge(L,R))\n",
    "        return ot\n",
    "b=[9,1,3,6,98,0]\n",
    "mergesort(b,0,len(b)) #Here I have been able to track the no of counts/times these 3 functions will run but order of \n",
    "#final function is still not clear; Its running between calls to L and R\n",
    "##Why even though being recursive its not getting stuck?\n",
    "#The recursion runs by parting the list and hence no of recursions are low"
   ]
  },
  {
   "cell_type": "code",
   "execution_count": 387,
   "metadata": {},
   "outputs": [
    {
     "name": "stdout",
     "output_type": "stream",
     "text": [
      "i-j 0 0\n",
      "hi4\n",
      "i-j 0 1\n",
      "hi3\n",
      "i-j 1 1\n",
      "hi4\n",
      "i-j 1 2\n",
      "hi3\n",
      "i-j 2 2\n",
      "hi4\n",
      "i-j 2 3\n",
      "hi3\n"
     ]
    },
    {
     "data": {
      "text/plain": [
       "[1, 2, 3, 4, 5, 6]"
      ]
     },
     "execution_count": 387,
     "metadata": {},
     "output_type": "execute_result"
    }
   ],
   "source": [
    "def merge(A,B):\n",
    "    (C,m,n)=([],len(A),len(B))\n",
    "    i=0;j=0\n",
    "    \n",
    "    while i+j<n+m:\n",
    "\n",
    "        print (\"i-j\",i,j)\n",
    "        if j==n or A[i]<=B[j]:\n",
    "            print (\"hi3\")\n",
    "            C.append(A[i])\n",
    "            i+=1\n",
    "        \n",
    "        elif  i==m or A[i]>B[j]:\n",
    "            print (\"hi4\")\n",
    "            C.append(B[j])\n",
    "            j+=1            \n",
    "\n",
    "    return C\n",
    "merge([2,4,6],[1,3,5])  ##This gives index error in some cases"
   ]
  },
  {
   "cell_type": "code",
   "execution_count": 399,
   "metadata": {},
   "outputs": [
    {
     "data": {
      "text/plain": [
       "[]"
      ]
     },
     "execution_count": 399,
     "metadata": {},
     "output_type": "execute_result"
    }
   ],
   "source": [
    "##See this ; its important\n",
    "a=[1,2,4,5]\n",
    "a[1:1]"
   ]
  },
  {
   "cell_type": "code",
   "execution_count": 400,
   "metadata": {},
   "outputs": [],
   "source": [
    "##Analysis of mergesort\n",
    "#Merge take time equivalent to the no of elements ie O(n)\n",
    "#on combining for merge and mergesort we get O(n log n)"
   ]
  },
  {
   "cell_type": "code",
   "execution_count": 401,
   "metadata": {},
   "outputs": [],
   "source": [
    "#By merge sort you can do Union , Intersection and difference of lists (see snip)\n",
    "#Merge sort is nlog n but shortcomings are it makes recursive call so function gets and \n",
    "#a new array C is created which consumes space"
   ]
  },
  {
   "cell_type": "code",
   "execution_count": 2,
   "metadata": {},
   "outputs": [
    {
     "name": "stdout",
     "output_type": "stream",
     "text": [
      "pivot 9\n",
      "\n",
      "\n",
      "A[s:yellow] [7, 4, 6, 9]\n",
      "pivot 7\n",
      "\n",
      "\n",
      "A[s:yellow] [6, 4, 7]\n",
      "pivot 6\n",
      "\n",
      "\n",
      "A[s:yellow] [4, 6]\n",
      "pivot 4\n",
      "\n",
      "\n",
      "A[s:yellow] [4]\n",
      "pivot 4\n",
      "\n",
      "\n",
      "A[yellow:e] [6]\n",
      "pivot 6\n",
      "\n",
      "\n",
      "A[yellow:e] [7]\n",
      "pivot 7\n",
      "\n",
      "\n",
      "A[yellow:e] [9]\n",
      "pivot 9\n",
      "\n",
      "\n",
      "A[yellow:e] [11, 13]\n",
      "pivot 11\n",
      "\n",
      "\n",
      "A[s:yellow] [11]\n",
      "pivot 11\n",
      "\n",
      "\n",
      "A[yellow:e] [13]\n",
      "[4, 6, 7, 9, 11, 13]\n"
     ]
    }
   ],
   "source": [
    "## Quicksort- O (n log n)--Worst case- O(n**2) but this is usually not the case\n",
    "##For recursion limit- \n",
    "import sys\n",
    "sys.setrecursionlimit(10000)\n",
    "def Quicksort(A,s,e):#Here lso recursive part difficult to understand\n",
    "\n",
    "    if e-s<=1:\n",
    "        return()\n",
    "    yellow=s+1   #arrow is at s-start\n",
    "\n",
    "    for green in range(s+1,e):\n",
    "\n",
    "        if A[green] <=A[s]:\n",
    "            (A[yellow],A[green])=(A[green],A[yellow])\n",
    "            yellow=yellow+1\n",
    "    print (\"pivot\",A[s])\n",
    "    (A[s],A[yellow-1])=(A[yellow-1],A[s])\n",
    "    \n",
    "    print (\"\\n\\nA[s:yellow]\",A[s:yellow])\n",
    "    \n",
    "    Quicksort(A,s,yellow)\n",
    "    print (\"pivot\",A[yellow-1])\n",
    "    print (\"\\n\\nA[yellow:e]\",A[yellow:e])\n",
    "    Quicksort(A,yellow,e)\n",
    "a=[9,4,6,7,11,13]\n",
    "\n",
    "Quicksort(a,0,len(a))\n",
    "print (a)\n",
    "            "
   ]
  },
  {
   "cell_type": "code",
   "execution_count": 1,
   "metadata": {},
   "outputs": [
    {
     "data": {
      "text/plain": [
       "[3, 5, 4, 1, 2, 6]"
      ]
     },
     "execution_count": 1,
     "metadata": {},
     "output_type": "execute_result"
    }
   ],
   "source": [
    "#Randomization done to avoid worst case scenario of a sorted list\n",
    "import random\n",
    "def randomi(l):\n",
    "    for i in range(len(l)//2):\n",
    "        f=random.randrange(0,len(l),1)\n",
    "        r=random.randrange(0,len(l),1)\n",
    "        l[f],l[r]=l[r],l[f]\n",
    "k=[1,2,3,4,5,6]\n",
    "randomi(k)\n",
    "k\n",
    "#Quicksort in itself is not stable although merge and insertion sort are\n",
    "#Stable sort means if A column already sorted alphabetically and B-column to be sorted marks wise\n",
    "#then for same marks alphabetical order should remain"
   ]
  },
  {
   "cell_type": "code",
   "execution_count": 4,
   "metadata": {},
   "outputs": [
    {
     "ename": "TypeError",
     "evalue": "'tuple' object does not support item assignment",
     "output_type": "error",
     "traceback": [
      "\u001b[1;31m---------------------------------------------------------------------------\u001b[0m",
      "\u001b[1;31mTypeError\u001b[0m                                 Traceback (most recent call last)",
      "\u001b[1;32m<ipython-input-4-4c951583aa90>\u001b[0m in \u001b[0;36m<module>\u001b[1;34m\u001b[0m\n\u001b[0;32m      7\u001b[0m \u001b[1;33m\u001b[0m\u001b[0m\n\u001b[0;32m      8\u001b[0m \u001b[1;31m#Tuple Immutable\u001b[0m\u001b[1;33m\u001b[0m\u001b[1;33m\u001b[0m\u001b[0m\n\u001b[1;32m----> 9\u001b[1;33m \u001b[0mdate\u001b[0m\u001b[1;33m[\u001b[0m\u001b[1;36m1\u001b[0m\u001b[1;33m]\u001b[0m\u001b[1;33m=\u001b[0m\u001b[1;36m8\u001b[0m \u001b[1;31m#gives error as tuple is immutable\u001b[0m\u001b[1;33m\u001b[0m\u001b[0m\n\u001b[0m",
      "\u001b[1;31mTypeError\u001b[0m: 'tuple' object does not support item assignment"
     ]
    }
   ],
   "source": [
    "##Tuples\n",
    "(age,name,primes)=(23,\"Singh\",[3,5,7])\n",
    "point=(3.1,4.5)\n",
    "date=(17,7,2019)\n",
    "xcordinate=point[0]\n",
    "monthyear=date[1:]\n",
    "\n",
    "#Tuple Immutable\n",
    "date[1]=8 #gives error as tuple is immutable"
   ]
  },
  {
   "cell_type": "code",
   "execution_count": 23,
   "metadata": {},
   "outputs": [
    {
     "name": "stdout",
     "output_type": "stream",
     "text": [
      "score 2 {'test2': {'Raj': 8}}\n",
      "score before {'test1': {'Dhawan': 5, 'Prahsant': 44}}\n",
      "{'Dhawan': 5, 'Prahsant': 44}\n",
      "dict_keys(['test1'])\n"
     ]
    }
   ],
   "source": [
    "#Dictinary, can be accessed with keys-has values\n",
    "#initialise\n",
    "\n",
    "score={}\n",
    "score[\"test2\"]={}\n",
    "#nested dictionaries\n",
    "\n",
    "score[\"test2\"][\"Raj\"]=8\n",
    "print (\"score 2\",score)\n",
    "score={\"test1\":{\"Dhawan\":5}}\n",
    "score[\"test1\"][\"Prahsant\"]=44\n",
    "\n",
    "print (\"score before\",score )\n",
    "print (score[\"test1\"])\n",
    "print (score.keys())"
   ]
  },
  {
   "cell_type": "code",
   "execution_count": 25,
   "metadata": {},
   "outputs": [
    {
     "name": "stdout",
     "output_type": "stream",
     "text": [
      "{'Dhawan': 5, 'Prahsant': 44}\n"
     ]
    }
   ],
   "source": [
    "#Iterating over dictionary\n",
    "for key in score.keys():\n",
    "    print (score[key]) #Order of keys is not a series but random"
   ]
  },
  {
   "cell_type": "code",
   "execution_count": 29,
   "metadata": {},
   "outputs": [
    {
     "name": "stdout",
     "output_type": "stream",
     "text": [
      "{'test1': {'Dhawan': 5, 'Prahsant': 44}, 'test2': {}, 'add': {}}\n",
      "['add', 'test1', 'test2']\n",
      "score add {'test1': {'Dhawan': 5, 'Prahsant': 44}, 'test2': {}, 'add': {}}\n",
      "['add', 'test1', 'test2']\n"
     ]
    }
   ],
   "source": [
    "score[\"test2\"]={}\n",
    "print (score)\n",
    "print (sorted(score))\n",
    "score[\"add\"]={}\n",
    "print (\"score add\",score)\n",
    "print (sorted(score))     #Sorting a dicitonary"
   ]
  },
  {
   "cell_type": "code",
   "execution_count": 38,
   "metadata": {},
   "outputs": [
    {
     "name": "stdout",
     "output_type": "stream",
     "text": [
      "dict_keys(['a', 'b', 'c', 'd', 'e', 'f', 'g', 'h', 'i'])\n",
      "dict_keys(['a', 'b', 'c', 'd', 'e', 'f', 'g', 'h', 'i'])\n",
      "a\n",
      "dict_keys(['a', 'b', 'c', 'd', 'e', 'f', 'g', 'h', 'i'])\n"
     ]
    }
   ],
   "source": [
    "#Checking randomness of keys ---Sorry not getting random\n",
    "d={}\n",
    "for l in \"abcdefghi\":\n",
    "    d[l]=l\n",
    "print (d.keys())\n",
    "print (d.keys())\n",
    "print (d[\"a\"])\n",
    "print (d.keys())"
   ]
  },
  {
   "cell_type": "code",
   "execution_count": 40,
   "metadata": {},
   "outputs": [
    {
     "name": "stdout",
     "output_type": "stream",
     "text": [
      "dict_values(['a', 'b', 'c', 'd', 'e', 'f', 'g', 'h', 'i'])\n"
     ]
    }
   ],
   "source": [
    "print (d.values()) #Print values in dict"
   ]
  },
  {
   "cell_type": "code",
   "execution_count": 51,
   "metadata": {},
   "outputs": [
    {
     "name": "stdout",
     "output_type": "stream",
     "text": [
      "dict_keys(['Dhawan', 'Prahsant'])\n",
      "n test1\n",
      "dict_keys(['Dhawan', 'Prahsant'])\n",
      "n test2\n",
      "dict_keys(['Dhawan', 'Prahsant'])\n",
      "n add\n",
      "dict_keys(['Dhawan', 'Prahsant'])\n",
      "{'test1': {'Dhawan': 5, 'Prahsant': 68}, 'test2': {}, 'add': {}}\n"
     ]
    }
   ],
   "source": [
    "#Using -in\n",
    "print (score[\"test1\"].keys())\n",
    "for n in score.keys():\n",
    "    print (\"n\",n)\n",
    "    if \"Prahsant\" in score[\"test1\"].keys():\n",
    "        score[\"test1\"][\"Prahsant\"]+=2\n",
    "        print (score[\"test1\"].keys())\n",
    "print (score)\n",
    "#Dictionary advantage- \n",
    "d={}\n",
    "d[0]=7 #list will give error here"
   ]
  },
  {
   "cell_type": "code",
   "execution_count": 54,
   "metadata": {},
   "outputs": [
    {
     "name": "stdout",
     "output_type": "stream",
     "text": [
      "8\n",
      "8\n"
     ]
    }
   ],
   "source": [
    "##Passing values to a function\n",
    "def power(x,n):\n",
    "    return x**n\n",
    "print (power(2,3))\n",
    "print (power(n=3,x=2)) #See how order did not matter here"
   ]
  },
  {
   "cell_type": "code",
   "execution_count": 60,
   "metadata": {},
   "outputs": [
    {
     "name": "stdout",
     "output_type": "stream",
     "text": [
      "17\n",
      "3\n"
     ]
    }
   ],
   "source": [
    "#Default values\n",
    "print (int(\"11\",16))\n",
    "print (int(\"3\"))  #See here base not given yet it takes default 10"
   ]
  },
  {
   "cell_type": "code",
   "execution_count": 63,
   "metadata": {},
   "outputs": [
    {
     "ename": "NameError",
     "evalue": "name 'A' is not defined",
     "output_type": "error",
     "traceback": [
      "\u001b[1;31m---------------------------------------------------------------------------\u001b[0m",
      "\u001b[1;31mNameError\u001b[0m                                 Traceback (most recent call last)",
      "\u001b[1;32m<ipython-input-63-f9823eadbd09>\u001b[0m in \u001b[0;36m<module>\u001b[1;34m\u001b[0m\n\u001b[0;32m      1\u001b[0m \u001b[1;31m#Although dynamic allocation like in this case doesnt work\u001b[0m\u001b[1;33m\u001b[0m\u001b[1;33m\u001b[0m\u001b[0m\n\u001b[1;32m----> 2\u001b[1;33m \u001b[1;32mdef\u001b[0m \u001b[0mQuicksort\u001b[0m\u001b[1;33m(\u001b[0m\u001b[0mA\u001b[0m\u001b[1;33m,\u001b[0m\u001b[0ms\u001b[0m\u001b[1;33m=\u001b[0m\u001b[1;36m0\u001b[0m\u001b[1;33m,\u001b[0m\u001b[0me\u001b[0m\u001b[1;33m=\u001b[0m\u001b[0mlen\u001b[0m\u001b[1;33m(\u001b[0m\u001b[0mA\u001b[0m\u001b[1;33m)\u001b[0m\u001b[1;33m)\u001b[0m\u001b[1;33m:\u001b[0m \u001b[1;31m#since len(A) may or may not be available to the function hence this gives error\u001b[0m\u001b[1;33m\u001b[0m\u001b[0m\n\u001b[0m\u001b[0;32m      3\u001b[0m     \u001b[1;32mreturn\u001b[0m \u001b[0mA\u001b[0m\u001b[1;33m\u001b[0m\u001b[0m\n",
      "\u001b[1;31mNameError\u001b[0m: name 'A' is not defined"
     ]
    }
   ],
   "source": [
    "#Although dynamic allocation like in this case doesnt work\n",
    "def Quicksort(A,s=0,e=len(A)): #since len(A) may or may not be available to the function hence this gives error\n",
    "    return A"
   ]
  },
  {
   "cell_type": "code",
   "execution_count": 65,
   "metadata": {},
   "outputs": [
    {
     "name": "stdout",
     "output_type": "stream",
     "text": [
      "1\n"
     ]
    }
   ],
   "source": [
    "#Copying a function\n",
    "def copy1(a):\n",
    "    return 1\n",
    "copy2=copy1\n",
    "print (copy2(99)) #Gives the same output as copy1"
   ]
  },
  {
   "cell_type": "code",
   "execution_count": 79,
   "metadata": {},
   "outputs": [],
   "source": [
    "#Another example of copy\n",
    "def test(f,x,n): #Think f as copy of apply\n",
    "    res=x\n",
    "    for i in range(n):\n",
    "        res=f(res)   #This part not sure why argument not given to copy function\n",
    "    return res"
   ]
  },
  {
   "cell_type": "code",
   "execution_count": 85,
   "metadata": {},
   "outputs": [
    {
     "name": "stdout",
     "output_type": "stream",
     "text": [
      "16\n",
      "16\n",
      "81\n"
     ]
    }
   ],
   "source": [
    "#Used in square\n",
    "def square(x):\n",
    "    return (x*x)\n",
    "\n",
    "print (apply(square(2)))  #Both giv same output  #apply is not a func here-it will give error if apply=square not given\n",
    "print (square(square(2)))\n",
    "copy=square\n",
    "print (copy(square(3)))"
   ]
  },
  {
   "cell_type": "code",
   "execution_count": 90,
   "metadata": {},
   "outputs": [
    {
     "name": "stdout",
     "output_type": "stream",
     "text": [
      "[4, 9, 16, 9]\n",
      "4\n",
      "9\n",
      "16\n",
      "9\n"
     ]
    }
   ],
   "source": [
    "#map function\n",
    "#-applies map to each element of a list\n",
    "l=[2,3,4,3]\n",
    "print (list(map(square,l))) #Output converted to the list\n",
    "\n",
    "for i in map(square,l):\n",
    "    print (i)"
   ]
  },
  {
   "cell_type": "code",
   "execution_count": 96,
   "metadata": {},
   "outputs": [
    {
     "name": "stdout",
     "output_type": "stream",
     "text": [
      "[3, 3]\n"
     ]
    }
   ],
   "source": [
    "#filter function\n",
    "def odd(n):\n",
    "    if n%2!=0:\n",
    "        return True\n",
    "\n",
    "print (list(filter(odd,l))) #See how it checks each element and makes the sublist"
   ]
  },
  {
   "cell_type": "code",
   "execution_count": 98,
   "metadata": {},
   "outputs": [
    {
     "name": "stdout",
     "output_type": "stream",
     "text": [
      "[9, 9]\n"
     ]
    }
   ],
   "source": [
    "print (list(map(square,(filter(odd,l)))))  #Map and filter combined"
   ]
  },
  {
   "cell_type": "code",
   "execution_count": 101,
   "metadata": {},
   "outputs": [
    {
     "data": {
      "text/plain": [
       "[9, 9]"
      ]
     },
     "execution_count": 101,
     "metadata": {},
     "output_type": "execute_result"
    }
   ],
   "source": [
    "#This is another way of writing the same thing-lets call it shorthand\n",
    "[square(i) for i in l if odd(i)]"
   ]
  },
  {
   "cell_type": "code",
   "execution_count": 104,
   "metadata": {},
   "outputs": [
    {
     "data": {
      "text/plain": [
       "[(0, 0, 0),\n",
       " (0, 1, 1),\n",
       " (0, 2, 2),\n",
       " (0, 3, 3),\n",
       " (0, 4, 4),\n",
       " (0, 5, 5),\n",
       " (0, 6, 6),\n",
       " (0, 7, 7),\n",
       " (0, 8, 8),\n",
       " (0, 9, 9),\n",
       " (1, 0, 1),\n",
       " (2, 0, 2),\n",
       " (3, 0, 3),\n",
       " (3, 4, 5),\n",
       " (4, 0, 4),\n",
       " (4, 3, 5),\n",
       " (5, 0, 5),\n",
       " (6, 0, 6),\n",
       " (7, 0, 7),\n",
       " (8, 0, 8),\n",
       " (9, 0, 9)]"
      ]
     },
     "execution_count": 104,
     "metadata": {},
     "output_type": "execute_result"
    }
   ],
   "source": [
    "#Generating pythagorean triplets using the same way\n",
    "[(x,y,z) for x in range(10) for y in range(10) for z in range(10) if x**2+y**2==z**2]"
   ]
  },
  {
   "cell_type": "code",
   "execution_count": 108,
   "metadata": {},
   "outputs": [
    {
     "data": {
      "text/plain": [
       "[(3, 4, 5)]"
      ]
     },
     "execution_count": 108,
     "metadata": {},
     "output_type": "execute_result"
    }
   ],
   "source": [
    "#Eliminate duplicates in above series\n",
    "[(x,y,z) for x in range(1,10) for y in range(x,10) for z in range(y,10) if x**2+y**2==z**2]"
   ]
  },
  {
   "cell_type": "code",
   "execution_count": 117,
   "metadata": {},
   "outputs": [
    {
     "name": "stdout",
     "output_type": "stream",
     "text": [
      "[[0, 0, 0], [0, 0, 0], [0, 0, 0]]\n",
      "[[0, 0, 0], [0, 7, 0], [0, 0, 0]]\n"
     ]
    }
   ],
   "source": [
    "#Using this notation to intialise a matrix\n",
    "z=[]\n",
    "z=[ [0 for i in range(3)] for j in range(3)]\n",
    "print(z)\n",
    "z[1][1]=7\n",
    "print (z)"
   ]
  },
  {
   "cell_type": "code",
   "execution_count": 1,
   "metadata": {},
   "outputs": [
    {
     "name": "stdout",
     "output_type": "stream",
     "text": [
      "[[0, 0, 0], [0, 0, 0], [0, 0, 0]]\n",
      "[[0, 7, 0], [0, 7, 0], [0, 7, 0]]\n"
     ]
    }
   ],
   "source": [
    "#The warning case\n",
    "row= [0 for x in range(3)]\n",
    "l=[row for j in range(3)]\n",
    "print (l)\n",
    "l[1][1]=7\n",
    "print (l)   #See since we essentially copied same copy of a list thrice "
   ]
  },
  {
   "cell_type": "code",
   "execution_count": 3,
   "metadata": {},
   "outputs": [
    {
     "data": {
      "text/plain": [
       "[55, 28, 66, 71, 13, 23]"
      ]
     },
     "execution_count": 3,
     "metadata": {},
     "output_type": "execute_result"
    }
   ],
   "source": [
    "##Assignment\n",
    "def mystery(l):\n",
    "  if len(l) < 2:\n",
    "    return (l)\n",
    "  else:\n",
    "    return ([l[-1]] + mystery(l[1:-1]) + [l[0]])\n",
    "mystery([23,13,71,66,28,55])"
   ]
  },
  {
   "cell_type": "code",
   "execution_count": 5,
   "metadata": {},
   "outputs": [
    {
     "name": "stdout",
     "output_type": "stream",
     "text": [
      "[2]\n"
     ]
    }
   ],
   "source": [
    "a=[1,2,3]\n",
    "print (a[1:-1])   #See important"
   ]
  },
  {
   "cell_type": "code",
   "execution_count": 7,
   "metadata": {},
   "outputs": [
    {
     "data": {
      "text/plain": [
       "[(2, 4, 5), (3, 3, 5), (3, 4, 5), (3, 4, 6)]"
      ]
     },
     "execution_count": 7,
     "metadata": {},
     "output_type": "execute_result"
    }
   ],
   "source": [
    "triples = [ (x,y,z) for x in range(1,4) for y in range(2,5) for z in range(5,8) if x+y > z ]\n",
    "triples"
   ]
  },
  {
   "cell_type": "code",
   "execution_count": 19,
   "metadata": {},
   "outputs": [
    {
     "ename": "KeyError",
     "evalue": "'Pujara'",
     "output_type": "error",
     "traceback": [
      "\u001b[1;31m---------------------------------------------------------------------------\u001b[0m",
      "\u001b[1;31mKeyError\u001b[0m                                  Traceback (most recent call last)",
      "\u001b[1;32m<ipython-input-19-4dab3f736cbc>\u001b[0m in \u001b[0;36m<module>\u001b[1;34m\u001b[0m\n\u001b[0;32m      1\u001b[0m \u001b[0mruns\u001b[0m \u001b[1;33m=\u001b[0m \u001b[1;33m{\u001b[0m\u001b[1;34m\"Test\"\u001b[0m\u001b[1;33m:\u001b[0m\u001b[1;33m{\u001b[0m\u001b[1;34m\"Dhawan\"\u001b[0m\u001b[1;33m:\u001b[0m\u001b[1;33m[\u001b[0m\u001b[1;36m190\u001b[0m\u001b[1;33m,\u001b[0m\u001b[1;36m14\u001b[0m\u001b[1;33m,\u001b[0m\u001b[1;36m35\u001b[0m\u001b[1;33m,\u001b[0m\u001b[1;36m119\u001b[0m\u001b[1;33m]\u001b[0m\u001b[1;33m,\u001b[0m\u001b[1;34m\"Kohli\"\u001b[0m\u001b[1;33m:\u001b[0m\u001b[1;33m[\u001b[0m\u001b[1;36m3\u001b[0m\u001b[1;33m,\u001b[0m\u001b[1;36m103\u001b[0m\u001b[1;33m,\u001b[0m\u001b[1;36m13\u001b[0m\u001b[1;33m,\u001b[0m\u001b[1;36m42\u001b[0m\u001b[1;33m]\u001b[0m\u001b[1;33m,\u001b[0m\u001b[1;34m\"Pujara\"\u001b[0m\u001b[1;33m:\u001b[0m\u001b[1;33m[\u001b[0m\u001b[1;36m153\u001b[0m\u001b[1;33m,\u001b[0m\u001b[1;36m15\u001b[0m\u001b[1;33m,\u001b[0m\u001b[1;36m133\u001b[0m\u001b[1;33m,\u001b[0m\u001b[1;36m8\u001b[0m\u001b[1;33m]\u001b[0m\u001b[1;33m}\u001b[0m\u001b[1;33m,\u001b[0m\u001b[1;34m\"ODI\"\u001b[0m\u001b[1;33m:\u001b[0m\u001b[1;33m{\u001b[0m\u001b[1;34m\"Dhawan\"\u001b[0m\u001b[1;33m:\u001b[0m\u001b[1;33m[\u001b[0m\u001b[1;36m37\u001b[0m\u001b[1;33m]\u001b[0m\u001b[1;33m,\u001b[0m\u001b[1;34m\"Kohli\"\u001b[0m\u001b[1;33m:\u001b[0m\u001b[1;33m[\u001b[0m\u001b[1;36m63\u001b[0m\u001b[1;33m]\u001b[0m\u001b[1;33m}\u001b[0m\u001b[1;33m}\u001b[0m\u001b[1;33m\u001b[0m\u001b[0m\n\u001b[0;32m      2\u001b[0m \u001b[1;31m#runs[\"ODI\"][\"Pujara\"]=[44]  #No error\u001b[0m\u001b[1;33m\u001b[0m\u001b[1;33m\u001b[0m\u001b[0m\n\u001b[1;32m----> 3\u001b[1;33m \u001b[0mruns\u001b[0m\u001b[1;33m[\u001b[0m\u001b[1;34m\"ODI\"\u001b[0m\u001b[1;33m]\u001b[0m\u001b[1;33m[\u001b[0m\u001b[1;34m\"Pujara\"\u001b[0m\u001b[1;33m]\u001b[0m\u001b[1;33m[\u001b[0m\u001b[1;36m0\u001b[0m\u001b[1;33m]\u001b[0m\u001b[1;33m=\u001b[0m\u001b[1;36m44\u001b[0m\u001b[1;33m\u001b[0m\u001b[0m\n\u001b[0m\u001b[0;32m      4\u001b[0m \u001b[0mruns\u001b[0m\u001b[1;33m[\u001b[0m\u001b[1;34m\"ODI\"\u001b[0m\u001b[1;33m]\u001b[0m\u001b[1;33m[\u001b[0m\u001b[1;34m\"Pujara\"\u001b[0m\u001b[1;33m]\u001b[0m\u001b[1;33m.\u001b[0m\u001b[0mextend\u001b[0m\u001b[1;33m(\u001b[0m\u001b[1;33m[\u001b[0m\u001b[1;36m44\u001b[0m\u001b[1;33m]\u001b[0m\u001b[1;33m)\u001b[0m\u001b[1;33m\u001b[0m\u001b[0m\n\u001b[0;32m      5\u001b[0m \u001b[0mruns\u001b[0m\u001b[1;33m[\u001b[0m\u001b[1;34m\"ODI\"\u001b[0m\u001b[1;33m]\u001b[0m\u001b[1;33m[\u001b[0m\u001b[1;34m\"Pujara\"\u001b[0m\u001b[1;33m]\u001b[0m\u001b[1;33m.\u001b[0m\u001b[0mappend\u001b[0m\u001b[1;33m(\u001b[0m\u001b[1;33m[\u001b[0m\u001b[1;36m44\u001b[0m\u001b[1;33m]\u001b[0m\u001b[1;33m)\u001b[0m\u001b[1;33m\u001b[0m\u001b[0m\n",
      "\u001b[1;31mKeyError\u001b[0m: 'Pujara'"
     ]
    }
   ],
   "source": [
    "runs = {\"Test\":{\"Dhawan\":[190,14,35,119],\"Kohli\":[3,103,13,42],\"Pujara\":[153,15,133,8]},\"ODI\":{\"Dhawan\":[37],\"Kohli\":[63]}}\n",
    "#runs[\"ODI\"][\"Pujara\"]=[44]  #No error\n",
    "runs[\"ODI\"][\"Pujara\"][0]=44\n",
    "runs[\"ODI\"][\"Pujara\"].extend([44])\n",
    "runs[\"ODI\"][\"Pujara\"].append([44])"
   ]
  },
  {
   "cell_type": "code",
   "execution_count": 23,
   "metadata": {},
   "outputs": [
    {
     "name": "stdout",
     "output_type": "stream",
     "text": [
      "{}\n"
     ]
    }
   ],
   "source": [
    "inventory = {}\n",
    "#inventory[\"Amul\"] = [\"Mystic Mocha\",55]\n",
    "#inventory[\"Amul, Mystic Mocha\"] = 55\n",
    "#inventory[[\"Amul\",\"Mystic Mocha\"]] = 55  #error\n",
    "#inventory[(\"Amul\",\"Mystic Mocha\")] = 55\n",
    "print (inventory)"
   ]
  },
  {
   "cell_type": "code",
   "execution_count": 40,
   "metadata": {},
   "outputs": [
    {
     "ename": "TypeError",
     "evalue": "mean() takes 1 positional argument but 2 were given",
     "output_type": "error",
     "traceback": [
      "\u001b[1;31m---------------------------------------------------------------------------\u001b[0m",
      "\u001b[1;31mTypeError\u001b[0m                                 Traceback (most recent call last)",
      "\u001b[1;32m<ipython-input-40-84c8cc449bba>\u001b[0m in \u001b[0;36m<module>\u001b[1;34m\u001b[0m\n\u001b[0;32m      1\u001b[0m \u001b[1;32mfrom\u001b[0m \u001b[0mstatistics\u001b[0m \u001b[1;32mimport\u001b[0m \u001b[0mmean\u001b[0m\u001b[1;33m\u001b[0m\u001b[0m\n\u001b[1;32m----> 2\u001b[1;33m \u001b[0mmean\u001b[0m\u001b[1;33m(\u001b[0m\u001b[1;36m2\u001b[0m\u001b[1;33m,\u001b[0m\u001b[1;36m3\u001b[0m\u001b[1;33m)\u001b[0m\u001b[1;33m\u001b[0m\u001b[0m\n\u001b[0m",
      "\u001b[1;31mTypeError\u001b[0m: mean() takes 1 positional argument but 2 were given"
     ]
    }
   ],
   "source": [
    "from statistics import mean\n",
    "mean(2,3)"
   ]
  },
  {
   "cell_type": "code",
   "execution_count": null,
   "metadata": {},
   "outputs": [],
   "source": [
    "##Practice Programs\n",
    "'''\n",
    "We represent scores of batsmen across a sequence of matches in a two level dictionary as follows:\n",
    "\n",
    "   {'match1':{'player1':57, 'player2':38}, 'match2':{'player3':9, 'player1':42}, 'match3':{'player2':41, 'player4':63, 'player3':91}\n",
    "Each match is identified by a string, as is each player. The scores are all integers. The names associated with the matches are not fixed (here they are 'match1','match2','match3'), nor are the names of the players. A player need not have a score recorded in all matches.\n",
    "\n",
    "Define a Python function orangecap(d) that reads a dictionary d of this form and identifies the player with the highest total score. Your function should return a pair (playername,topscore) where playername is a string, the name of the player with the highest score, and topscore is an integer, the total score of playername.\n",
    "\n",
    "The input will be such that there are never any ties for highest total score.\n",
    "\n",
    "For instance:\n",
    "\n",
    "  >>> orangecap({'match1':{'player1':57, 'player2':38}, 'match2':{'player3':9, 'player1':42}, 'match3':{'player2':41, 'player4':63, 'player3':91}})\n",
    "('player3', 100)\n",
    "\n",
    "  >>> orangecap({'test1':{'Ashwin':84, 'Kohli':120}, 'test2':{'ashwin':59, 'Pujara':42}})\n",
    "('Kohli', 120)\n",
    "'''   \n",
    "'''\n",
    "Let us consider polynomials in a single variable x with integer coefficients: for instance, 3x4 - 17x2 - 3x + 5. Each term of the polynomial can be represented as a pair of integers (coefficient,exponent). The polynomial itself is then a list of such pairs.\n",
    "\n",
    "We have the following constraints to guarantee that each polynomial has a unique representation:\n",
    "\n",
    "Terms are sorted in descending order of exponent\n",
    "No term has a zero cofficient\n",
    "No two terms have the same exponent\n",
    "Exponents are always nonnegative\n",
    "For example, the polynomial introduced earlier is represented as\n",
    "\n",
    "  [(3,4),(-17,2),(-3,1),(5,0)]\n",
    "The zero polynomial, 0, is represented as the empty list [], since it has no terms with nonzero coefficients.\n",
    "\n",
    "Write Python functions for the following operations:\n",
    "\n",
    "  \n",
    "  addpoly(p1,p2)\n",
    "  multpoly(p1,p2)\n",
    "that add and multiply two polynomials, respectively.\n",
    "\n",
    "You may assume that the inputs to these functions follow the representation given above. Correspondingly, the outputs from these functions should also obey the same constraints.\n",
    "\n",
    "Hint: You are not restricted to writing just the two functions asked for. You can write auxiliary functions to \"clean up\" polynomials – e.g., remove zero coefficient terms, combine like terms, sort by exponent etc. Build a library of functions that can be combined to achieve the desired format.\n",
    "\n",
    "You may also want to convert the list representation to a dictionary representation and manipulate the dictionary representation, and then convert back.\n",
    "\n",
    "Some examples:\n",
    "\n",
    "  >>> addpoly([(4,3),(3,0)],[(-4,3),(2,1)])\n",
    "  [(2, 1),(3, 0)]\n",
    "Explanation: (4x3 + 3) + (-4x3 + 2x) = 2x + 3\n",
    "\n",
    "  >>> addpoly([(2,1)],[(-2,1)])\n",
    "  []\n",
    "Explanation: 2x + (-2x) = 0\n",
    "\n",
    "  >>> multpoly([(1,1),(-1,0)],[(1,2),(1,1),(1,0)])\n",
    "  [(1, 3),(-1, 0)]\n",
    "Explanation: (x - 1) * (x2 + x + 1) = x3 - 1\n",
    "'''\n",
    "def orangecap(d):\n",
    "  total = {}\n",
    "  for k in d.keys():\n",
    "    for n in d[k].keys():\n",
    "      if n in total.keys():\n",
    "        total[n] = total[n] + d[k][n]\n",
    "      else:\n",
    "        total[n] = d[k][n]\n",
    "\n",
    "  maxtotal = -1\n",
    "  for n in total.keys():\n",
    "    if total[n] > maxtotal:\n",
    "      maxname = n\n",
    "      maxtotal = total[n]\n",
    "\n",
    "  return(maxname,maxtotal)\n",
    "\n",
    "def listtodict(poly):\n",
    "  dpoly = {}\n",
    "  for term in poly:\n",
    "    coeff = term[0]\n",
    "    exp = term[1]\n",
    "    dpoly[exp] = coeff\n",
    "  return(dpoly)\n",
    "\n",
    "def dicttolist(dpoly):\n",
    "  lpoly = []\n",
    "  for exp in sorted(dpoly.keys()):\n",
    "    lpoly.append((dpoly[exp],exp))\n",
    "  lpoly.reverse()\n",
    "  return(lpoly)\n",
    "\n",
    "def dpolyadd (dpoly1,dpoly2):\n",
    "  sumpoly = {}\n",
    "  for exp in dpoly1.keys():\n",
    "    sumpoly[exp] = dpoly1[exp]\n",
    "\n",
    "  for exp in dpoly2.keys():\n",
    "    if exp in sumpoly.keys():\n",
    "      sumpoly[exp] = sumpoly[exp] + dpoly2[exp]\n",
    "    else:\n",
    "      sumpoly[exp] = dpoly2[exp]\n",
    "\n",
    "  return(sumpoly)\n",
    "\n",
    "def dpolymult (dpoly1,dpoly2):\n",
    "  multpoly = {}\n",
    "  for exp1 in dpoly1.keys():\n",
    "    for exp2 in dpoly2.keys():\n",
    "      newexp = exp1 + exp2\n",
    "      newcoeff = dpoly1[exp1] * dpoly2[exp2]\n",
    "      if newexp in multpoly.keys():\n",
    "        multpoly[newexp] = multpoly[newexp] + newcoeff\n",
    "      else:\n",
    "        multpoly[newexp] = newcoeff\n",
    "  return(multpoly)\n",
    "\n",
    "def cleanup(dpoly):\n",
    "  dpolyclean = {}\n",
    "  for exp in dpoly.keys():\n",
    "    if dpoly[exp] != 0:\n",
    "      dpolyclean[exp] = dpoly[exp]\n",
    "  return(dpolyclean)\n",
    "\n",
    "def addpoly(p1,p2):\n",
    "  d1 = listtodict(p1)\n",
    "  d2 = listtodict(p2)\n",
    "  res = dpolyadd(d1,d2)\n",
    "  return(dicttolist(cleanup(res)))\n",
    "\n",
    "def multpoly(p1,p2):\n",
    "  d1 = listtodict(p1)\n",
    "  d2 = listtodict(p2)\n",
    "  res = dpolymult(d1,d2)\n",
    "  return(dicttolist(cleanup(res)))\n",
    "import ast\n",
    "\n",
    "def todict(inp):\n",
    "    inp = ast.literal_eval(inp)\n",
    "    return (inp)\n",
    "\n",
    "def topairoflists(inp):\n",
    "    inp = \"[\"+inp+\"]\"\n",
    "    inp = ast.literal_eval(inp)\n",
    "    return (inp[0],inp[1])\n",
    "\n",
    "fncall = input()\n",
    "lparen = fncall.find(\"(\")\n",
    "rparen = fncall.rfind(\")\")\n",
    "fname = fncall[:lparen]\n",
    "farg = fncall[lparen+1:rparen]\n",
    "\n",
    "if fname == \"orangecap\":\n",
    "   arg = todict(farg)\n",
    "   print(orangecap(arg))\n",
    "elif fname == \"addpoly\":\n",
    "   (arg1,arg2) = topairoflists(farg)\n",
    "   print(addpoly(arg1,arg2))\n",
    "elif fname == \"multpoly\":\n",
    "   (arg1,arg2) = topairoflists(farg)\n",
    "   print(multpoly(arg1,arg2))\n",
    "else:\n",
    "   print(\"Function\", fname, \"unknown\")\n",
    "  \n",
    "\n"
   ]
  },
  {
   "cell_type": "code",
   "execution_count": 116,
   "metadata": {},
   "outputs": [
    {
     "data": {
      "text/plain": [
       "[(1, 2.0), (2, 3.0), (3, 8.0)]"
      ]
     },
     "execution_count": 116,
     "metadata": {},
     "output_type": "execute_result"
    }
   ],
   "source": [
    "##Week-4 Assignment\n",
    "\n",
    "'''\n",
    "We have a list of annual rainfall recordings of cities. Each element in the list is of the form (c,r) where c is the city and r is the annual rainfall for a particular year. The list may have multiple entries for the same city, corresponding to rainfall recordings in different years.\n",
    "\n",
    "Write a Python function rainaverage(l) that takes as input a list of rainfall recordings and computes the avarage rainfall for each city. The output should be a list of pairs (c,ar) where c is the city and ar is the average rainfall for this city among the recordings in the input list. Note that ar should be of type float. The output should be sorted in dictionary order with respect to the city name.\n",
    "\n",
    "Here are some examples to show how rainaverage(l) should work.\n",
    "\n",
    ">>> rainaverage([(1,2),(1,3),(2,3),(1,1),(3,8)])\n",
    "[(1, 2.0), (2, 3.0), (3, 8.0)]\n",
    "\n",
    ">>> rainaverage([('Bombay',848),('Madras',103),('Bombay',923),('Bangalore',201),('Madras',128)])\n",
    "[('Bangalore', 201.0), ('Bombay', 885.5), ('Madras', 115.5)]\n",
    "'''\n",
    "def rainaverage(m):\n",
    "    l=m\n",
    "    l1=[]\n",
    "    k=[]\n",
    "    for i in range(len(l)):\n",
    "        for j in range(i+1,len(l)):\n",
    "\n",
    "            if l[i][0]==l[j][0]:\n",
    "                k.append(i)\n",
    "                k.append(j)\n",
    "                \n",
    "\n",
    "\n",
    "        k=set(k)  \n",
    "        k=list(k)\n",
    "        avg=0\n",
    "        for i in k:\n",
    "            \n",
    "            avg=avg+int(m[i][1])\n",
    "        avg=avg/len(k)\n",
    "    for i in range(len(l)):\n",
    "        if i in k:\n",
    "            continue\n",
    "        else:\n",
    "            #print (\"l[i]\",l[i])\n",
    "            l1.append((l[i][0],float(l[i][1])))\n",
    "    l1.append(((l[k[0]][0]),avg))\n",
    "    \n",
    "    #print (\"k\",k)\n",
    "    #print (\"average\",avg)\n",
    "    l1.sort()\n",
    "    return l1\n",
    "rainaverage([(1,2),(1,3),(2,3),(1,1),(3,8)])"
   ]
  },
  {
   "cell_type": "code",
   "execution_count": 112,
   "metadata": {},
   "outputs": [
    {
     "data": {
      "text/plain": [
       "[1, 3]"
      ]
     },
     "execution_count": 112,
     "metadata": {},
     "output_type": "execute_result"
    }
   ],
   "source": [
    "l=[1,2,3]     #removing from a list\n",
    "l.remove(l[1])\n",
    "l"
   ]
  },
  {
   "cell_type": "code",
   "execution_count": 114,
   "metadata": {},
   "outputs": [
    {
     "name": "stdout",
     "output_type": "stream",
     "text": [
      "[0, 1, 1, 2, 2, 3, 4]\n"
     ]
    }
   ],
   "source": [
    "l=[1,2,3,4,0,1,2]   #sorting a list\n",
    "l.sort()\n",
    "\n",
    "print (l)"
   ]
  },
  {
   "cell_type": "code",
   "execution_count": 73,
   "metadata": {},
   "outputs": [
    {
     "data": {
      "text/plain": [
       "[1, 2, 4, 7]"
      ]
     },
     "execution_count": 73,
     "metadata": {},
     "output_type": "execute_result"
    }
   ],
   "source": [
    "l=[1,2,2,4,7]  #Set to list conversion\n",
    "l=set(l)\n",
    "\n",
    "l=list(setl)\n",
    "l"
   ]
  },
  {
   "cell_type": "code",
   "execution_count": 61,
   "metadata": {},
   "outputs": [
    {
     "name": "stdout",
     "output_type": "stream",
     "text": [
      "[(1, 2.0), (2, 3.0), (3, 8.0)]\n"
     ]
    }
   ],
   "source": [
    "import pandas as pd\n",
    "l=([(1,2),(1,3),(2,3),(1,1),(3,8)])\n",
    "df = pd.DataFrame(l, columns=['city', 'rainfall'])\n",
    "\n",
    "output = []\n",
    "for c in df['city'].unique():\n",
    "    output += [(c, df[df['city'] == c]['rainfall'].mean())]\n",
    "\n",
    "print(output)"
   ]
  },
  {
   "cell_type": "code",
   "execution_count": 66,
   "metadata": {},
   "outputs": [
    {
     "name": "stdout",
     "output_type": "stream",
     "text": [
      "[1, 2, 3, 'hello', True, 4, 5, 6]\n"
     ]
    }
   ],
   "source": [
    "'''\n",
    "A list in Python can contain nested lists. The degree of nesting need not be uniform. For instance [1,2,[3,4,[5,6]]] is a valid Python list. Write a Python function flatten(l) that takes a nonempty list of lists and returns a simple list of all the elements in the nested lists, flattened out. You can make use of the following function that returns True if its input is of type list.\n",
    "\n",
    "def listtype(l):\n",
    "  return(type(l) == type([]))\n",
    "Here are some examples to show how flatten(l) should work.\n",
    "\n",
    ">>> flatten([1,2,[3],[4,[5,6]]])\n",
    "[1, 2, 3, 4, 5, 6]\n",
    "\n",
    ">>> flatten([1,2,3,(4,5,6)])\n",
    "[1, 2, 3, (4, 5, 6)]\n",
    "'''\n",
    "def listtype(l):\n",
    "  return(type(l) == type([]))\n",
    "def flatten(l):\n",
    "    l1=[]\n",
    "    for i in l:\n",
    "        if listtype(i)==True:\n",
    "            for j in i:\n",
    "                if listtype(j)==True:\n",
    "                    for k in j:\n",
    "                        l1.append(k)\n",
    "                else:\n",
    "                    l1.append(j)\n",
    "        \n",
    "        else:\n",
    "            l1.append(i)\n",
    "    return l1\n",
    "flatten([1,2,[3,[\"hello\",True]],[4,[5,6]]])"
   ]
  }
 ],
 "metadata": {
  "kernelspec": {
   "display_name": "Python 3",
   "language": "python",
   "name": "python3"
  },
  "language_info": {
   "codemirror_mode": {
    "name": "ipython",
    "version": 3
   },
   "file_extension": ".py",
   "mimetype": "text/x-python",
   "name": "python",
   "nbconvert_exporter": "python",
   "pygments_lexer": "ipython3",
   "version": "3.6.0"
  }
 },
 "nbformat": 4,
 "nbformat_minor": 2
}
