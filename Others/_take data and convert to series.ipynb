{
 "cells": [
  {
   "cell_type": "code",
   "execution_count": null,
   "metadata": {},
   "outputs": [],
   "source": [
    "# ch \n",
    "\n",
    "import pandas as pd\n",
    "import numpy as np\n",
    "df=pd.read_csv(\"C:\\panda\\Python_new_data.csv\")\n",
    "df.columns \n",
    "df1 = pd.DataFrame()\n",
    "print (df1)\n",
    "a=[]"
   ]
  },
  {
   "cell_type": "code",
   "execution_count": 2,
   "metadata": {},
   "outputs": [],
   "source": [
    "\n",
    "l2=list(df['IP OAM (vid 6)']) \n",
    "for i in l2:\n",
    "    \n",
    "    \n",
    "    \n",
    "    a.append([i]+[\"amos\"])\n",
    "    \n",
    "    a.append([\"lt all\"])\n",
    "    a.append([\"rbs\"])\n",
    "    a.append([\"rbs\"])\n",
    "    a.append([\"st cell\"])\n",
    "    a.append([\"get CXC4011055 featureState\"])\n",
    "    a.append([\"q\"]) \n",
    "\n",
    "d2=pd.DataFrame(a) \n",
    "d2.to_csv('C:\\\\panda\\\\d3.csv', sep=',',index=False,header=None) \n",
    "\n"
   ]
  },
  {
   "cell_type": "code",
   "execution_count": null,
   "metadata": {},
   "outputs": [],
   "source": []
  }
 ],
 "metadata": {
  "kernelspec": {
   "display_name": "Python 3",
   "language": "python",
   "name": "python3"
  },
  "language_info": {
   "codemirror_mode": {
    "name": "ipython",
    "version": 3
   },
   "file_extension": ".py",
   "mimetype": "text/x-python",
   "name": "python",
   "nbconvert_exporter": "python",
   "pygments_lexer": "ipython3",
   "version": "3.6.4"
  }
 },
 "nbformat": 4,
 "nbformat_minor": 2
}
