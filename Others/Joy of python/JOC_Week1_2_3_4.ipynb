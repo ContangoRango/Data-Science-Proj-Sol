{
 "cells": [
  {
   "cell_type": "markdown",
   "metadata": {},
   "source": [
    "## Week 1_2"
   ]
  },
  {
   "cell_type": "code",
   "execution_count": 2,
   "metadata": {},
   "outputs": [],
   "source": [
    "##Sequence of instructions\n",
    "a=1;print (a);a=a+1;print (a);a=a+1;print (a);a=a+1;print (a);a=a+1;print (a)"
   ]
  },
  {
   "cell_type": "code",
   "execution_count": 3,
   "metadata": {},
   "outputs": [
    {
     "name": "stdout",
     "output_type": "stream",
     "text": [
      "name3\n",
      "3\n"
     ]
    }
   ],
   "source": [
    "## Assigning raw inputs by accepting data\n",
    "a=input (\"name\")\n",
    "print (a)\n"
   ]
  },
  {
   "cell_type": "code",
   "execution_count": 4,
   "metadata": {},
   "outputs": [
    {
     "name": "stdout",
     "output_type": "stream",
     "text": [
      "Enter the data for square4\n",
      "16\n"
     ]
    }
   ],
   "source": [
    "##Assigning raw input and changing their data types\n",
    "a=(input (\"Enter the data for square\"))\n",
    "aint=int(a)\n",
    "print (aint**2)"
   ]
  },
  {
   "cell_type": "code",
   "execution_count": 5,
   "metadata": {},
   "outputs": [
    {
     "name": "stdout",
     "output_type": "stream",
     "text": [
      "4\n"
     ]
    }
   ],
   "source": [
    "##if -else - if\n",
    "a=4\n",
    "if a==3:\n",
    "    print (\"3\")\n",
    "if a==4:\n",
    "    print (\"4\")\n",
    "else:\n",
    "    print (\"False\")"
   ]
  },
  {
   "cell_type": "code",
   "execution_count": 6,
   "metadata": {},
   "outputs": [
    {
     "name": "stdout",
     "output_type": "stream",
     "text": [
      "3\n"
     ]
    }
   ],
   "source": [
    "## Prgramming Assignment Week-2\n",
    "#Checking largest by inputting from user\n",
    "a=input()\n",
    "for i in range(len(a)):\n",
    "  if a[i] ==\" \":\n",
    "    if int(a[:i])>int(a[i+1:]):\n",
    "        print (a[:i])\n",
    "    else:\n",
    "        print (a[i+1:])\n",
    "    "
   ]
  },
  {
   "cell_type": "code",
   "execution_count": 7,
   "metadata": {},
   "outputs": [
    {
     "name": "stdout",
     "output_type": "stream",
     "text": [
      "4\n",
      "5\n"
     ]
    },
    {
     "ename": "IndexError",
     "evalue": "string index out of range",
     "output_type": "error",
     "traceback": [
      "\u001b[1;31m---------------------------------------------------------------------------\u001b[0m",
      "\u001b[1;31mIndexError\u001b[0m                                Traceback (most recent call last)",
      "\u001b[1;32m<ipython-input-7-47bbb1a90a17>\u001b[0m in \u001b[0;36m<module>\u001b[1;34m\u001b[0m\n\u001b[0;32m      6\u001b[0m \u001b[1;32mfor\u001b[0m \u001b[0mi\u001b[0m \u001b[1;32min\u001b[0m \u001b[0mrange\u001b[0m\u001b[1;33m(\u001b[0m\u001b[0mlen1\u001b[0m\u001b[1;33m)\u001b[0m\u001b[1;33m:\u001b[0m\u001b[1;33m\u001b[0m\u001b[0m\n\u001b[0;32m      7\u001b[0m     \u001b[1;32mif\u001b[0m \u001b[0mi\u001b[0m\u001b[1;33m%\u001b[0m\u001b[1;36m2\u001b[0m\u001b[1;33m==\u001b[0m\u001b[1;36m0\u001b[0m\u001b[1;33m:\u001b[0m\u001b[1;33m\u001b[0m\u001b[0m\n\u001b[1;32m----> 8\u001b[1;33m         \u001b[0mout\u001b[0m\u001b[1;33m=\u001b[0m\u001b[0mout\u001b[0m\u001b[1;33m+\u001b[0m\u001b[0mstr\u001b[0m\u001b[1;33m(\u001b[0m\u001b[0mint\u001b[0m\u001b[1;33m(\u001b[0m\u001b[0marr\u001b[0m\u001b[1;33m[\u001b[0m\u001b[0mi\u001b[0m\u001b[1;33m]\u001b[0m\u001b[1;33m)\u001b[0m\u001b[1;33m+\u001b[0m\u001b[0mint\u001b[0m\u001b[1;33m(\u001b[0m\u001b[0marr\u001b[0m\u001b[1;33m[\u001b[0m\u001b[0mlen1\u001b[0m\u001b[1;33m-\u001b[0m\u001b[1;36m1\u001b[0m\u001b[1;33m-\u001b[0m\u001b[0mi\u001b[0m\u001b[1;33m]\u001b[0m\u001b[1;33m)\u001b[0m\u001b[1;33m)\u001b[0m\u001b[1;33m+\u001b[0m\u001b[1;34m\" \"\u001b[0m\u001b[1;33m\u001b[0m\u001b[0m\n\u001b[0m\u001b[0;32m      9\u001b[0m \u001b[0mprint\u001b[0m \u001b[1;33m(\u001b[0m\u001b[0mout\u001b[0m\u001b[1;33m.\u001b[0m\u001b[0mrstrip\u001b[0m\u001b[1;33m(\u001b[0m\u001b[1;33m)\u001b[0m\u001b[1;33m)\u001b[0m\u001b[1;33m\u001b[0m\u001b[0m\n",
      "\u001b[1;31mIndexError\u001b[0m: string index out of range"
     ]
    }
   ],
   "source": [
    "#Inputting array and summing with reverse\n",
    "size=input()\n",
    "arr=input()\n",
    "len1=int(size)*2-1\n",
    "out=\"\"\n",
    "for i in range(len1):\n",
    "    if i%2==0:\n",
    "        out=out+str(int(arr[i])+int(arr[len1-1-i]))+\" \"\n",
    "print (out.rstrip())"
   ]
  },
  {
   "cell_type": "markdown",
   "metadata": {},
   "source": [
    "## Assignment-1"
   ]
  },
  {
   "cell_type": "code",
   "execution_count": null,
   "metadata": {},
   "outputs": [],
   "source": [
    "x=0\n",
    "for i in range(10):\n",
    "    x=x+1\n",
    "print (x)\n",
    "      "
   ]
  },
  {
   "cell_type": "code",
   "execution_count": null,
   "metadata": {},
   "outputs": [],
   "source": [
    "a=0\n",
    "while(a<10):\n",
    "    a=a+1\n",
    "a"
   ]
  },
  {
   "cell_type": "code",
   "execution_count": null,
   "metadata": {},
   "outputs": [],
   "source": [
    "#Important\n",
    "c=input(\"Enter a number\")\n",
    "print(c*3)"
   ]
  },
  {
   "cell_type": "code",
   "execution_count": null,
   "metadata": {},
   "outputs": [],
   "source": [
    "k=20\n",
    "x=9\n",
    "x=x*3\n",
    "k=x+5\n",
    "print (k)"
   ]
  },
  {
   "cell_type": "code",
   "execution_count": null,
   "metadata": {},
   "outputs": [],
   "source": [
    "#important\n",
    "a=5\n",
    "for i in range(10)\n",
    "    a=a+1\n",
    "a"
   ]
  },
  {
   "cell_type": "code",
   "execution_count": null,
   "metadata": {},
   "outputs": [],
   "source": [
    "#Important \n",
    "n=5\n",
    "if(n>1):\n",
    "print(\"Hello\")"
   ]
  },
  {
   "cell_type": "code",
   "execution_count": null,
   "metadata": {},
   "outputs": [],
   "source": [
    "s=0\n",
    "for s in range(5):\n",
    "\tprint(s)"
   ]
  },
  {
   "cell_type": "code",
   "execution_count": null,
   "metadata": {},
   "outputs": [],
   "source": [
    "answer=1\n",
    "n=0\n",
    "while(n<3):\n",
    "\tanswer=answer*3\n",
    "\tn=n+1\n",
    "answer"
   ]
  },
  {
   "cell_type": "code",
   "execution_count": null,
   "metadata": {},
   "outputs": [],
   "source": [
    "n=5\n",
    "if(n%5==0):\n",
    "\tprint(\"Hello\")"
   ]
  },
  {
   "cell_type": "markdown",
   "metadata": {},
   "source": [
    "## Practice Questions-1"
   ]
  },
  {
   "cell_type": "code",
   "execution_count": null,
   "metadata": {},
   "outputs": [],
   "source": [
    "a = True\n",
    "b = False\n",
    "c = False\n",
    "  \n",
    "if not a or b: \n",
    "    print (\"1\")\n",
    "elif not a or not b and c: \n",
    "    print (\"2\")\n",
    "elif not a or b or not b and a: \n",
    "    print (\"3\")\n",
    "else: \n",
    "    print (\"4\")"
   ]
  },
  {
   "cell_type": "code",
   "execution_count": null,
   "metadata": {},
   "outputs": [],
   "source": [
    "for i in  range(2): \n",
    "    print (i)\n",
    "  \n",
    "for i in range(4,6): \n",
    "    print (i)"
   ]
  },
  {
   "cell_type": "code",
   "execution_count": null,
   "metadata": {},
   "outputs": [],
   "source": [
    "nameList = ['Harsh', 'Pratik', 'Bob', 'Dhruv'] \n",
    "  \n",
    "print (nameList[1][-1])"
   ]
  },
  {
   "cell_type": "code",
   "execution_count": null,
   "metadata": {},
   "outputs": [],
   "source": [
    "nameList = ['Harsh', 'Pratik', 'Bob', 'Dhruv'] \n",
    "  \n",
    "pos = nameList.index(\"GeeksforGeeks\") \n",
    "  \n",
    "print (pos * 5)"
   ]
  },
  {
   "cell_type": "code",
   "execution_count": null,
   "metadata": {},
   "outputs": [],
   "source": [
    "geekCodes = [1, 2, 3, 4] \n",
    "  \n",
    "geekCodes.append([5,6,7,8]) ## See whats happening here\n",
    "  \n",
    "print (len(geekCodes))\n",
    "print (geekCodes)"
   ]
  },
  {
   "cell_type": "code",
   "execution_count": null,
   "metadata": {},
   "outputs": [],
   "source": [
    "check1 = ['Learn', 'Quiz', 'Practice', 'Contribute'] \n",
    "check2 = check1 \n",
    "check3 = check1[:] \n",
    "  \n",
    "check2[0] = 'Code'\n",
    "check3[1] = 'Mcq'\n",
    "count=0\n",
    "for c in (check1, check2, check3): \n",
    "    if c[0] == 'Code': \n",
    "        count += 1\n",
    "    if c[1] == 'Mcq': \n",
    "        count += 10\n",
    "print (count)"
   ]
  },
  {
   "cell_type": "code",
   "execution_count": null,
   "metadata": {},
   "outputs": [],
   "source": [
    "i = 1\n",
    "while True: \n",
    "    if i%3 == 0: \n",
    "        break\n",
    "    print(i)\n",
    "    i+=1"
   ]
  },
  {
   "cell_type": "code",
   "execution_count": null,
   "metadata": {},
   "outputs": [],
   "source": [
    "x = 123\n",
    "for i in x: \n",
    "    print(i)"
   ]
  },
  {
   "cell_type": "code",
   "execution_count": null,
   "metadata": {},
   "outputs": [],
   "source": [
    "for i in [1, 2, 3, 4][::-1]: \n",
    "    print (i) "
   ]
  },
  {
   "cell_type": "markdown",
   "metadata": {},
   "source": [
    "## Week 3"
   ]
  },
  {
   "cell_type": "code",
   "execution_count": null,
   "metadata": {},
   "outputs": [],
   "source": [
    "##Insert elements in a list\n",
    "list1=[1,3,4,9]\n",
    "list1.insert(0,99)  #Insert 99 at position 0\n",
    "list1\n",
    "list1.extend(list1)\n",
    "list1\n",
    "list1.count(4) #Count the element in  list\n",
    "list1.sort()\n",
    "list1\n",
    "list1.reverse()\n",
    "list1"
   ]
  },
  {
   "cell_type": "code",
   "execution_count": null,
   "metadata": {},
   "outputs": [],
   "source": [
    "from statistics import mean        #import mean from statistics\n",
    "print (mean([6,9,10,11,67]))\n",
    "\n",
    "from scipy import stats\n",
    "print (stats.trim_mean([6,9,10,11,67],0.2)) #Trim 10% above and bottom of the list"
   ]
  },
  {
   "cell_type": "code",
   "execution_count": null,
   "metadata": {},
   "outputs": [],
   "source": [
    "## Using matplotlib for plotting\n",
    "%matplotlib inline\n",
    "import matplotlib.pyplot as plt\n",
    "plt.plot([1,2,3,4],[1,4,9,16],'r--') #for dash use 'r--', 'bs'-blue squares,'g^'-green triangle\n",
    "plt.ylabel(\"y data\")\n",
    "plt.xlabel(\"x data\")"
   ]
  },
  {
   "cell_type": "code",
   "execution_count": 8,
   "metadata": {},
   "outputs": [
    {
     "name": "stdout",
     "output_type": "stream",
     "text": [
      "Enter no4\n",
      "FizzBuzz\n",
      "1\n",
      "2\n",
      "Fizz\n"
     ]
    }
   ],
   "source": [
    "## Fizz Buzz\n",
    "\n",
    "a=input(\"Enter no\")\n",
    "a=int(a)\n",
    "for i in range(a):\n",
    "    if i%3==0 and i%5==0:\n",
    "        print (\"FizzBuzz\")\n",
    "    elif i%3==0:\n",
    "        print (\"Fizz\")\n",
    "    elif i%5==0:\n",
    "        print (\"Buzz\")\n",
    "    else:\n",
    "        print (i)"
   ]
  },
  {
   "cell_type": "code",
   "execution_count": null,
   "metadata": {},
   "outputs": [],
   "source": [
    "##Estimate\n",
    "statistics.mean()\n",
    "statistics.median()\n",
    "scipy.trim_mean()"
   ]
  },
  {
   "cell_type": "code",
   "execution_count": 1,
   "metadata": {},
   "outputs": [
    {
     "name": "stdout",
     "output_type": "stream",
     "text": [
      "Do you want hint-y-yes,n-noy\n",
      "len2 2\n",
      "The word starts as bo\n",
      "type-picked <class 'str'>\n",
      "Jumbled word ybobb\n",
      "Enter your wordbobby\n",
      "Correct answer\n",
      "Play (y),Stop(n)y\n",
      "Do you want hint-y-yes,n-noy\n",
      "len2 3\n",
      "The word starts as rob\n",
      "type-picked <class 'str'>\n",
      "Jumbled word obebyrr\n",
      "Enter your wordrobbery\n",
      "Correct answer\n",
      "Play (y),Stop(n)y\n",
      "Do you want hint-y-yes,n-noy\n",
      "len2 2\n",
      "The word starts as sh\n",
      "type-picked <class 'str'>\n",
      "Jumbled word kscah\n",
      "Enter your wordshcak\n",
      "Sorry, wrong answer shack\n",
      "Play (y),Stop(n)n\n",
      "Your score 20\n"
     ]
    }
   ],
   "source": [
    "# Jumbled word game\n",
    "import random\n",
    "import requests\n",
    "\n",
    "def jumble(word):\n",
    "    return \"\".join(random.sample(word,len(word)))\n",
    "def choose():\n",
    "    word_site = \"http://svnweb.freebsd.org/csrg/share/dict/words?view=co&content-type=text/plain\"\n",
    "    response = requests.get(word_site)\n",
    "    words = response.content.splitlines()\n",
    "    pick= random.choice(words)\n",
    "    pick=str(pick)\n",
    "    #print (\"pick\",pick)\n",
    "    l= (pick.split(\"'\"))\n",
    "    l=str(l[1])\n",
    "    \n",
    "    hint=input(\"Do you want hint-y-yes,n-no\")\n",
    "    while (hint=='y'):\n",
    "        len2=len(l)//2\n",
    "        print (\"len2\",len2)\n",
    "        print (\"The word starts as\",l[:len2])\n",
    "        hint=\"n\"\n",
    "    \n",
    "    picked= \"\".join(random.sample(l,len(l)))\n",
    "    print (\"type-picked\",type(picked))\n",
    "    print (\"Jumbled word\",picked)\n",
    "    return l\n",
    "   \n",
    "def play():\n",
    "    \n",
    "    score=0\n",
    "    r=\"y\"\n",
    "    while(r):\n",
    "        chk=choose()\n",
    "        inp=input(\"Enter your word\")\n",
    "        if inp==chk:\n",
    "            print (\"Correct answer\")\n",
    "            score+=10\n",
    "        else:\n",
    "            print (\"Sorry, wrong answer\",chk)\n",
    "            pass\n",
    "        r=input(\"Play (y),Stop(n)\")\n",
    "        if r==\"y\":\n",
    "            pass\n",
    "        else:\n",
    "            print (\"Your score\",score)\n",
    "            break\n",
    "play()    "
   ]
  },
  {
   "cell_type": "code",
   "execution_count": 90,
   "metadata": {},
   "outputs": [
    {
     "name": "stdout",
     "output_type": "stream",
     "text": [
      "hhhhhhhhhhhh\n",
      "ddhdhd\n",
      "\n",
      "\n",
      "\n",
      "print\n"
     ]
    }
   ],
   "source": [
    "### Theory of evolution\n",
    "\n",
    "with open(\"updt.txt\",'r+') as myfile: #r+ is for read/write, w-write,r-read,a-append\n",
    "    print (myfile.read())\n",
    "    myfile.write(\"I am fine\")\n",
    "    \n",
    "myfile.close()\n",
    "with open(\"updt.txt\",\"a\") as myfile: #writing in append mode\n",
    "    myfile.write(\"Not deleting previous data\")\n",
    "myfile.close()"
   ]
  },
  {
   "cell_type": "code",
   "execution_count": 2,
   "metadata": {},
   "outputs": [
    {
     "name": "stdout",
     "output_type": "stream",
     "text": [
      "4\n"
     ]
    },
    {
     "data": {
      "text/plain": [
       "4"
      ]
     },
     "execution_count": 2,
     "metadata": {},
     "output_type": "execute_result"
    }
   ],
   "source": [
    "##More Random \n",
    "import random\n",
    "random.randint(1,5) #will generate random no.s from 1 to 5 \n",
    "print(random.randrange(1,5)) #will generate no from 1 to 5-1 ie 4\n",
    "random.random() #will generate random no.s from 0 to 1\n",
    "random.randrange(1,11,2) #will generate random nos from 1 to 10 but in steps of 2\n",
    "random.choice([4,6,-7,99]) #will only generate nos from a given list"
   ]
  },
  {
   "cell_type": "code",
   "execution_count": 25,
   "metadata": {},
   "outputs": [
    {
     "name": "stdout",
     "output_type": "stream",
     "text": [
      "11110100000010100001011111111111111111111111110000000000000100011111111111011111111000000000000010\n",
      "11110100001010100101011111111111111111111111100000000000000000111111111111111111111000000000000000\n"
     ]
    }
   ],
   "source": [
    "#Program for theory of evolution\n",
    "def evolve(x):\n",
    "    ind=random.randint(0,len(x)-1)\n",
    "    p=random.randint(1,10)\n",
    "    if p==1:\n",
    "        if x[ind]=='0':\n",
    "            x[ind]='1'\n",
    "        else:\n",
    "            x[ind]='0'\n",
    "with open(\"dnadata.txt\",'r+') as dna:\n",
    "    l=dna.read()\n",
    "    l=list(str(l))\n",
    "    l1=l[:]\n",
    "    for i in range(0,100):\n",
    "        evolve(l)\n",
    "   \n",
    "\n",
    "l1=list(l1)\n",
    "l1=\"\".join(l1)\n",
    "l=\"\".join(l)\n",
    "print (l)\n",
    "print (l1)    "
   ]
  },
  {
   "cell_type": "code",
   "execution_count": 32,
   "metadata": {},
   "outputs": [
    {
     "name": "stdout",
     "output_type": "stream",
     "text": [
      "Enter the nos4 5\n"
     ]
    },
    {
     "data": {
      "text/plain": [
       "'5 4'"
      ]
     },
     "execution_count": 32,
     "metadata": {},
     "output_type": "execute_result"
    }
   ],
   "source": [
    "'''Given a list of numbers, find maximum and minimum in this list.\n",
    "\n",
    "Input Format:\n",
    "\n",
    "The first line contains numbers separated by a space.\n",
    "\n",
    "Output Format:\n",
    "\n",
    "Print maximum and minimum separated by a space\n",
    "\n",
    "Example:\n",
    "\n",
    "Input:\n",
    "\n",
    "1 2 3 4 5\n",
    "\n",
    "Output:\n",
    "\n",
    "5 1'''\n",
    "def maxmin(n):\n",
    "    zmax=int(n[0])\n",
    "    zmin=int(n[0])\n",
    "    for i in n:\n",
    "        z=int(i)\n",
    "        if zmax<z:\n",
    "            zmax=z\n",
    "        if zmin>z:\n",
    "            zmin=z\n",
    "    return (str(zmax)+\" \"+str(zmin))\n",
    "a=input(\"Enter the nos\")\n",
    "a=a.split(\" \")\n",
    "maxmin(a)"
   ]
  },
  {
   "cell_type": "code",
   "execution_count": 46,
   "metadata": {},
   "outputs": [
    {
     "name": "stdout",
     "output_type": "stream",
     "text": [
      "4 7\n",
      "4 7\n"
     ]
    }
   ],
   "source": [
    "def mult3(n):\n",
    "    num=\"\"\n",
    "    for i in n:\n",
    "        if int(i)%3!=0:\n",
    "            num=num+i+\" \"\n",
    "    print (num.rstrip())\n",
    "\n",
    "a=input()\n",
    "a=a.split(\" \")\n",
    "mult3(a)"
   ]
  },
  {
   "cell_type": "code",
   "execution_count": 2,
   "metadata": {},
   "outputs": [
    {
     "name": "stdout",
     "output_type": "stream",
     "text": [
      "r\n",
      "YES\n"
     ]
    }
   ],
   "source": [
    "def same(n):\n",
    "    count0=0\n",
    "    count1=0\n",
    "    if len(n)==0:\n",
    "        print (\"NO\")\n",
    "    if len(n)==1:\n",
    "        print (\"YES\")\n",
    "    if len(n)>2:    \n",
    "        for i in range(len(n)):\n",
    "            if n[i] is '1':\n",
    "                print (n[i])\n",
    "                count1+=1\n",
    "            else:\n",
    "                count0+=1\n",
    "        if (count1==1) or (count0==1):\n",
    "            print\n",
    "        if (count1-count0==-1) or (count1-count0==1):\n",
    "            print (\"YES\")\n",
    "        \n",
    "        elif (count1==1) or (count0==1):\n",
    "            print (\"YES\")\n",
    "        else:\n",
    "            print (\"NO\")\n",
    "    if len(n)==2:\n",
    "        if n[0]!=n[1]:\n",
    "            print (\"YES\")\n",
    "a=input()\n",
    "same(a)               "
   ]
  },
  {
   "cell_type": "markdown",
   "metadata": {},
   "source": [
    "# Week 4"
   ]
  },
  {
   "cell_type": "code",
   "execution_count": 7,
   "metadata": {},
   "outputs": [
    {
     "name": "stdout",
     "output_type": "stream",
     "text": [
      "count 1\n",
      "i-j 1 2\n",
      "hi5\n",
      "assigned 1 2 = 1\n",
      "down i-j 0 3\n",
      "count 2\n",
      "i-j 0 3\n",
      "hi2\n",
      "hi5\n",
      "assigned 0 0 = 2\n",
      "down i-j -1 1\n",
      "count 3\n",
      "i-j -1 1\n",
      "hi3\n",
      "hi5\n",
      "assigned 2 1 = 3\n",
      "down i-j 1 2\n",
      "count 4\n",
      "i-j 1 2\n",
      "hi4\n",
      "count 4\n",
      "i-j 2 0\n",
      "hi5\n",
      "assigned 2 0 = 4\n",
      "down i-j 1 1\n",
      "count 5\n",
      "i-j 1 1\n",
      "hi5\n",
      "assigned 1 1 = 5\n",
      "down i-j 0 2\n",
      "count 6\n",
      "i-j 0 2\n",
      "hi5\n",
      "assigned 0 2 = 6\n",
      "down i-j -1 3\n",
      "count 7\n",
      "i-j -1 3\n",
      "hi1\n",
      "hi5\n",
      "assigned 0 1 = 7\n",
      "down i-j -1 2\n",
      "count 8\n",
      "i-j -1 2\n",
      "hi3\n",
      "hi5\n",
      "assigned 2 2 = 8\n",
      "down i-j 1 3\n",
      "count 9\n",
      "i-j 1 3\n",
      "hi2\n",
      "hi5\n",
      "assigned 1 0 = 9\n",
      "down i-j 0 1\n",
      "2 7 6 \n",
      "9 5 1 \n",
      "4 3 8 \n",
      "Magic sum 15\n"
     ]
    }
   ],
   "source": [
    "#Magic Square\n",
    "#Some things to know the formula M=n(n^{2}+1)/2 -where n is the order like for 3x3 , n=3\n",
    "def magic_square(n):\n",
    "    magicSquare=[[0 for i in range(n)] for j in range(n)]\n",
    "    tot=n*n\n",
    "    count=1\n",
    "    i=n//2\n",
    "    j=n-1\n",
    "    \n",
    "    \n",
    "    p=i\n",
    "    q=j\n",
    "    while count<=tot:\n",
    "        print (\"count\",count)\n",
    "        print (\"i-j\",i,j)\n",
    "        if i==-1 and j==n:\n",
    "            i=0\n",
    "            j=n-2\n",
    "            print (\"hi1\")\n",
    "\n",
    "        elif j==n:\n",
    "            j=0\n",
    "            print (\"hi2\")\n",
    "\n",
    "            \n",
    "        elif i<0:\n",
    "            i=n-1\n",
    "            print (\"hi3\")\n",
    "        if magicSquare[i][j]!=0:\n",
    "            j=j-2\n",
    "            i=i+1\n",
    "            print (\"hi4\")\n",
    "            continue\n",
    "        else:\n",
    "            print (\"hi5\")\n",
    "            magicSquare[i][j]=count\n",
    "            print (\"assigned\",i,j,\"=\",magicSquare[i][j])\n",
    "            count+=1\n",
    "            \n",
    "\n",
    "        i=i-1\n",
    "        j=j+1\n",
    "        print (\"down i-j\",i,j)\n",
    "    for i in range(n):\n",
    "        for j in range(n):\n",
    "            print (magicSquare[i][j],end=\" \") #See this - for printing in same line\n",
    "        print ()\n",
    "    print (\"Magic sum\",n*(n**2+1)//2)\n",
    "magic_square(3)"
   ]
  },
  {
   "cell_type": "code",
   "execution_count": 89,
   "metadata": {},
   "outputs": [
    {
     "name": "stdout",
     "output_type": "stream",
     "text": [
      "s- E\n",
      "i= 0\n",
      "sym1,sym2,sym3,sym4 k n u r\n",
      "i= 1\n",
      "i= 2\n",
      "i= 3\n",
      "sym1,sym2,sym3,sym4 W m u n\n",
      "i= 4\n",
      "pos1,pos2 0 3\n",
      "card1 ['E', 'B', 'W', 'n', 'J']\n",
      "card2 ['u', 'O', 'm', 'E', 'M']\n"
     ]
    }
   ],
   "source": [
    "##Dobble game\n",
    "import random\n",
    "import string\n",
    "card1=[0 for i in range(5)]\n",
    "card2=[0 for i in range(5)]\n",
    "symbols=list(string.ascii_letters)  #See use of string library\n",
    "pos1=random.randint(0,4)\n",
    "pos2=random.randint(0,4)\n",
    "samesymbol=random.choice(symbols)\n",
    "symbols.remove(samesymbol)\n",
    "card1[pos1]=samesymbol\n",
    "card2[pos2]=samesymbol\n",
    "print (\"s-\",samesymbol)\n",
    "i=0\n",
    "while(i<5):\n",
    "    print (\"i=\",i)\n",
    "    if i==pos1 and i==pos2:\n",
    "        pass\n",
    "    elif i==pos1:\n",
    "        sym3=random.choice(symbols)\n",
    "        symbols.remove(sym3)\n",
    "        card2[i]=sym3\n",
    "    elif i==pos2:\n",
    "        sym4=random.choice(symbols)\n",
    "        symbols.remove(sym4)        \n",
    "        card1[i]=sym4\n",
    "    else:\n",
    "        sym1=random.choice(symbols)\n",
    "        sym2=random.choice(symbols)\n",
    "        symbols.remove(sym1)  \n",
    "        symbols.remove(sym2) \n",
    "        card1[i]=sym1\n",
    "        card2[i]=sym2\n",
    "    if i==pos1 or i==pos2:\n",
    "        print (\"sym1,sym2,sym3,sym4\",sym1,sym2,sym3,sym4)    \n",
    "    i+=1\n",
    "print (\"pos1,pos2\",pos1,pos2)\n",
    "print (\"card1\",card1)\n",
    "print (\"card2\",card2)"
   ]
  },
  {
   "cell_type": "code",
   "execution_count": 2,
   "metadata": {},
   "outputs": [
    {
     "name": "stdout",
     "output_type": "stream",
     "text": [
      "2019-03-03\n",
      "2019\n",
      "March\n",
      "03/03/19\n",
      "03\n",
      "08\n",
      "0\n",
      "062\n",
      "Sunday\n",
      "Sun\n",
      "2019-03-03 03:00:53.170665\n"
     ]
    }
   ],
   "source": [
    "#Datetime - Leap Year(Non century-by 4 while century should be divisibe by 400)\n",
    "import datetime\n",
    "print (datetime.date.today())\n",
    "print (datetime.date.today().strftime(\"%Y\"))\n",
    "print (datetime.date.today().strftime(\"%B\"))\n",
    "print (datetime.date.today().strftime(\"%D\"))\n",
    "print (datetime.date.today().strftime(\"%d\"))\n",
    "print (datetime.date.today().strftime(\"%W\"))  #Weeknumber of the year\n",
    "print (datetime.date.today().strftime(\"%w\"))  #weekday of the week\n",
    "print (datetime.date.today().strftime(\"%j\"))  #Day of the year\n",
    "print (datetime.date.today().strftime(\"%A\"))  #Day of the week\n",
    "print (datetime.date.today().strftime(\"%a\"))\n",
    "print (datetime.datetime.now())                   #Current date and time"
   ]
  },
  {
   "cell_type": "code",
   "execution_count": 1,
   "metadata": {},
   "outputs": [
    {
     "name": "stdout",
     "output_type": "stream",
     "text": [
      "------\n",
      "Guess your letter a\n",
      "hi2 -a----\n",
      "your guess -a----\n",
      "continue-y or n y\n",
      "Guess your letter n\n",
      "input is n an matrix\n",
      "len=prev-guess 2 letter in prev-guess a\n",
      "k= 1\n",
      "hi1\n",
      "search in out -a----\n",
      "len=prev-guess 2 letter in prev-guess n\n",
      "k= 2\n",
      "hi1\n",
      "search in out ------\n",
      "your guess -a----\n",
      "continue-y or n y\n",
      "Guess your letter m\n",
      "input is m anm matrix\n",
      "len=prev-guess 3 letter in prev-guess a\n",
      "k= 1\n",
      "hi1\n",
      "search in out -a----\n",
      "len=prev-guess 3 letter in prev-guess n\n",
      "k= 2\n",
      "hi1\n",
      "search in out ------\n",
      "len=prev-guess 3 letter in prev-guess m\n",
      "k= 3\n",
      "hi1\n",
      "search in out m-----\n",
      "your guess ma----\n",
      "continue-y or n y\n",
      "Guess your letter t\n",
      "input is t anmt matrix\n",
      "len=prev-guess 4 letter in prev-guess a\n",
      "k= 1\n",
      "hi1\n",
      "search in out -a----\n",
      "len=prev-guess 4 letter in prev-guess n\n",
      "k= 2\n",
      "hi1\n",
      "search in out ------\n",
      "len=prev-guess 4 letter in prev-guess m\n",
      "k= 3\n",
      "hi1\n",
      "search in out m-----\n",
      "len=prev-guess 4 letter in prev-guess t\n",
      "k= 4\n",
      "hi1\n",
      "search in out --t---\n",
      "your guess mat---\n",
      "continue-y or n y\n",
      "Guess your letter e\n",
      "input is e anmte matrix\n",
      "len=prev-guess 5 letter in prev-guess a\n",
      "k= 1\n",
      "hi1\n",
      "search in out -a----\n",
      "len=prev-guess 5 letter in prev-guess n\n",
      "k= 2\n",
      "hi1\n",
      "search in out ------\n",
      "len=prev-guess 5 letter in prev-guess m\n",
      "k= 3\n",
      "hi1\n",
      "search in out m-----\n",
      "len=prev-guess 5 letter in prev-guess t\n",
      "k= 4\n",
      "hi1\n",
      "search in out --t---\n",
      "len=prev-guess 5 letter in prev-guess e\n",
      "k= 5\n",
      "hi1\n",
      "search in out ------\n",
      "your guess mat---\n",
      "continue-y or n y\n",
      "Guess your letter r\n",
      "input is r anmter matrix\n",
      "len=prev-guess 6 letter in prev-guess a\n",
      "k= 1\n",
      "hi1\n",
      "search in out -a----\n",
      "len=prev-guess 6 letter in prev-guess n\n",
      "k= 2\n",
      "hi1\n",
      "search in out ------\n",
      "len=prev-guess 6 letter in prev-guess m\n",
      "k= 3\n",
      "hi1\n",
      "search in out m-----\n",
      "len=prev-guess 6 letter in prev-guess t\n",
      "k= 4\n",
      "hi1\n",
      "search in out --t---\n",
      "len=prev-guess 6 letter in prev-guess e\n",
      "k= 5\n",
      "hi1\n",
      "search in out ------\n",
      "len=prev-guess 6 letter in prev-guess r\n",
      "k= 6\n",
      "hi1\n",
      "search in out ---r--\n",
      "your guess matr--\n",
      "continue-y or n y\n",
      "Guess your letter i\n",
      "input is i anmteri matrix\n",
      "len=prev-guess 7 letter in prev-guess a\n",
      "k= 1\n",
      "hi1\n",
      "search in out -a----\n",
      "len=prev-guess 7 letter in prev-guess n\n",
      "k= 2\n",
      "hi1\n",
      "search in out ------\n",
      "len=prev-guess 7 letter in prev-guess m\n",
      "k= 3\n",
      "hi1\n",
      "search in out m-----\n",
      "len=prev-guess 7 letter in prev-guess t\n",
      "k= 4\n",
      "hi1\n",
      "search in out --t---\n",
      "len=prev-guess 7 letter in prev-guess e\n",
      "k= 5\n",
      "hi1\n",
      "search in out ------\n",
      "len=prev-guess 7 letter in prev-guess r\n",
      "k= 6\n",
      "hi1\n",
      "search in out ---r--\n",
      "len=prev-guess 7 letter in prev-guess i\n",
      "k= 7\n",
      "hi1\n",
      "search in out ----i-\n",
      "your guess matri-\n",
      "continue-y or n y\n",
      "Guess your letter x\n",
      "input is x anmterix matrix\n",
      "len=prev-guess 8 letter in prev-guess a\n",
      "k= 1\n",
      "hi1\n",
      "search in out -a----\n",
      "len=prev-guess 8 letter in prev-guess n\n",
      "k= 2\n",
      "hi1\n",
      "search in out ------\n",
      "len=prev-guess 8 letter in prev-guess m\n",
      "k= 3\n",
      "hi1\n",
      "search in out m-----\n",
      "len=prev-guess 8 letter in prev-guess t\n",
      "k= 4\n",
      "hi1\n",
      "search in out --t---\n",
      "len=prev-guess 8 letter in prev-guess e\n",
      "k= 5\n",
      "hi1\n",
      "search in out ------\n",
      "len=prev-guess 8 letter in prev-guess r\n",
      "k= 6\n",
      "hi1\n",
      "search in out ---r--\n",
      "len=prev-guess 8 letter in prev-guess i\n",
      "k= 7\n",
      "hi1\n",
      "search in out ----i-\n",
      "len=prev-guess 8 letter in prev-guess x\n",
      "k= 8\n",
      "hi1\n",
      "search in out -----x\n",
      "your guess matrix\n",
      "Win\n"
     ]
    }
   ],
   "source": [
    "#Program- Guess the movie name\n",
    "import random\n",
    "movie=['anand','drishyam','kabhi khushi kabhi gam','dilwale','matrix','honey i shrunk the kids','johnny mnemonic']\n",
    "def play():\n",
    "    a=random.randrange(0,len(movie))\n",
    "    b=movie[a]\n",
    "    movie_name=\"\".join(b)\n",
    "    b1=[]\n",
    "\n",
    "    for i in b:\n",
    "        if i==\" \":\n",
    "            b1.append(\" \")\n",
    "        else:\n",
    "            b1.append(\"-\")\n",
    "    b1=''.join(b1)\n",
    "    print (b1)\n",
    "    guess_letter=input(\"Guess your letter \")\n",
    "    prev_guess=\"\"\n",
    "    print (\"your guess\",enter_choice(guess_letter,prev_guess,movie_name))\n",
    "    prev_guess=guess_letter\n",
    "    cont=input(\"continue-y or n \")\n",
    "    st=[]\n",
    "    stnew=[]\n",
    "    stpos=[]\n",
    "    while(cont==\"y\"):\n",
    "       \n",
    "        guess_letter=input(\"Guess your letter \")\n",
    "        prev_guess=prev_guess+guess_letter\n",
    "        print (\"input is\",guess_letter,prev_guess,movie_name)\n",
    "        k=0\n",
    "        for i in range(len(prev_guess)):\n",
    "            print (\"len=prev-guess\",len(prev_guess),\"letter in prev-guess\",prev_guess[i])\n",
    "            k+=1\n",
    "            print (\"k=\",k)\n",
    "            out=enter_choice(guess_letter,prev_guess[i],movie_name)\n",
    "            i1=-1\n",
    "            print (\"search in out\",out)\n",
    "            for j in out:\n",
    "                i1=i1+1\n",
    "                if j.isalpha:\n",
    "                    stnew.append(j)\n",
    "                    stpos.append(i1)\n",
    "    \n",
    "        #print (\"stnew\",\"\".join(stnew))\n",
    "        for i in movie_name:\n",
    "            if i in stnew:\n",
    "                st.append(i)\n",
    "            elif i==\" \":\n",
    "                st.append(\" \")\n",
    "            else:\n",
    "                st.append(\"-\")\n",
    "             \n",
    "        st1=\"\".join(st)\n",
    "        print (\"your guess\",st1)\n",
    "        \n",
    "        if st1==movie_name:\n",
    "            print (\"Win\")\n",
    "            break\n",
    "        else:\n",
    "            cont=input(\"continue-y or n \")\n",
    "        st=[]\n",
    "\n",
    "def enter_choice(g,p,m):\n",
    "    if p==\"\":\n",
    "        pass\n",
    "    if p!=\"\":\n",
    "        l=[]\n",
    "        for i in range(len(m)):\n",
    "            if m[i]==p or i==g :\n",
    "\n",
    "                l.append(m[i])\n",
    "            elif m[i]==\" \":\n",
    "                l.append(\" \")\n",
    "            else:\n",
    "                l.append(\"-\")\n",
    "\n",
    "        print (\"hi1\")\n",
    "        return \"\".join(l)\n",
    "    l=[]\n",
    "    if g in m:\n",
    "        l=[]\n",
    "        for i in m:\n",
    "            if i==g :\n",
    "                l.append(g)\n",
    "            elif i==\" \":\n",
    "                l.append(\" \")\n",
    "            else:\n",
    "                l.append(\"-\")\n",
    "        print (\"hi2\",\"\".join(l))\n",
    "        \n",
    "        return \"\".join(l)\n",
    "    else:\n",
    "        print (\"hi3\")\n",
    "        return l\n",
    "                \n",
    "play()    "
   ]
  },
  {
   "cell_type": "code",
   "execution_count": 14,
   "metadata": {},
   "outputs": [
    {
     "name": "stdout",
     "output_type": "stream",
     "text": [
      "ast"
     ]
    }
   ],
   "source": [
    "l=[]\n",
    "a=\"as---t7\"\n",
    "for i in a:\n",
    "    if i.isalpha():\n",
    "        print (i,end=\"\")"
   ]
  },
  {
   "cell_type": "code",
   "execution_count": 16,
   "metadata": {},
   "outputs": [
    {
     "name": "stdout",
     "output_type": "stream",
     "text": [
      "3\n",
      "6\n"
     ]
    }
   ],
   "source": [
    "##PROGRAMS\n",
    "'''Given a number n, you have to print the factorial of this number. To know about factorial please click on this link.\n",
    "\n",
    "Input Format:\n",
    "\n",
    "A number n.\n",
    "\n",
    "Output Format:\n",
    "\n",
    "Print the factorial of n.\n",
    "\n",
    "Example:\n",
    "\n",
    "Input:\n",
    "4\n",
    "\n",
    "Output:\n",
    "24'''\n",
    "n=input()\n",
    "n=int(n)\n",
    "if n ==1 or n==0:\n",
    "    print (\"1\")\n",
    "\n",
    "else:\n",
    "    a=n\n",
    "    while(n>1):\n",
    "        a=a*(n-1)\n",
    "        n-=1\n",
    "    print (a)"
   ]
  },
  {
   "cell_type": "code",
   "execution_count": 24,
   "metadata": {},
   "outputs": [
    {
     "name": "stdout",
     "output_type": "stream",
     "text": [
      "2 3\n",
      "1 2 3\n",
      "4 5 6"
     ]
    }
   ],
   "source": [
    "'''\n",
    "You are provided with the number of rows (R) and columns (C). Your task is to generate the matrix having R rows and C columns such that all the numbers are in increasing order starting from 1 in row wise manner.\n",
    "\n",
    "Input Format:\n",
    "The first line contain two numbers R and C separated by a space.\n",
    "\n",
    "Output Format:\n",
    "Print the elements of the matrix with each row in a new line and elements of each row are separated by a space.\n",
    "\n",
    "NOTE: There should not be any space after the last element of each row and no new line after the last row.\n",
    "\n",
    "Example:\n",
    "\n",
    "Input:\n",
    "3 3\n",
    "\n",
    "Output:\n",
    "1 2 3\n",
    "4 5 6\n",
    "7 8 9\n",
    "\n",
    "Explanation: \n",
    "Starting from the first row, the numbers are present in the increasing order. Since it's a 3X3 matrix, the numbers are from 1 to 9.\n",
    "Sample Test Cases\n",
    "Input\tOutput\n",
    "Test Case 1\t\n",
    "2 3\n",
    "1 2 3\n",
    "4 5 6\n",
    "Test Case 2\t\n",
    "3 2\n",
    "1 2\n",
    "3 4\n",
    "5 6\n",
    "Test Case 3\t\n",
    "3 4\n",
    "1 2 3 4\n",
    "5 6 7 8\n",
    "9 10 11 12\n",
    "Test Case 4\t\n",
    "4 4\n",
    "1 2 3 4\n",
    "5 6 7 8\n",
    "9 10 11 12\n",
    "13 14 15 16\n",
    "Test Case 5\t\n",
    "5 5\n",
    "1 2 3 4 5\n",
    "6 7 8 9 10\n",
    "11 12 13 14 15\n",
    "16 17 18 19 20\n",
    "21 22 23 24 25\n",
    "Test Case 6\t\n",
    "10 10\n",
    "1 2 3 4 5 6 7 8 9 10\n",
    "11 12 13 14 15 16 17 18 19 20\n",
    "21 22 23 24 25 26 27 28 29 30\n",
    "31 32 33 34 35 36 37 38 39 40\n",
    "41 42 43 44 45 46 47 48 49 50\n",
    "51 52 53 54 55 56 57 58 59 60\n",
    "61 62 63 64 65 66 67 68 69 70\n",
    "71 72 73 74 75 76 77 78 79 80\n",
    "81 82 83 84 85 86 87 88 89 90\n",
    "91 92 93 94 95 96 97 98 99 100\n",
    "'''\n",
    "n=input()\n",
    "n=n.split(\" \")\n",
    "def prnt(n):\n",
    "    n1=int(n[0])\n",
    "    n2=int(n[1])\n",
    "    \n",
    "    k=1\n",
    "    for i in range(n1):\n",
    "        for j in range(n2):\n",
    "            if j==n2-1:\n",
    "                print (k,end=\"\")\n",
    "                k+=1\n",
    "            else:\n",
    "                print (k,end=\" \")\n",
    "                k+=1\n",
    "        \n",
    "        if i==n1-1:\n",
    "            print (end=\"\")\n",
    "        else:\n",
    "            print ()\n",
    "prnt(n)"
   ]
  },
  {
   "cell_type": "code",
   "execution_count": 5,
   "metadata": {},
   "outputs": [
    {
     "name": "stdout",
     "output_type": "stream",
     "text": [
      "4\n",
      "4\n",
      "9\n",
      "1\n",
      "0\n",
      "0 1 4 9"
     ]
    }
   ],
   "source": [
    "'''\n",
    "You all have used the random library of python. You have seen in the screen-cast of how powerful it is.\n",
    "In this assignment, you will sort a list let's say list_1 of numbers in increasing order using the random library.\n",
    "\n",
    "Following are the steps to sort the numbers using the random library.\n",
    "\n",
    "Step 1: Import the randint definition of the random library of python. Check this page if you want some help.\n",
    "\n",
    "Step 2: Take the elements of the list_1 as input.\n",
    "\n",
    "Step 3: randomly choose two indexes i and j within the range of the size of list_1.\n",
    "\n",
    "Step 4: Swap the elements present at the indexes i and j. After doing this, check whether the list_1 is sorted or not.\n",
    "\n",
    "Step 5: Repeat step 3 and 4 until the array is not sorted.\n",
    "\n",
    "Input Format:\n",
    "The first line contains a single number n which signifies the number of elements in the list_1.\n",
    "From the second line, the elements of the list_1 are given with each number in a new line.\n",
    "\n",
    "Output Format:\n",
    "Print the elements of the list_1 in a single line with each element separated by a space. \n",
    "NOTE 1: There should not be any space after the last element.\n",
    "\n",
    "Example:\n",
    "\n",
    "Input:\n",
    "4\n",
    "3\n",
    "1\n",
    "2\n",
    "5\n",
    "\n",
    "Output:\n",
    "1 2 3 5\n",
    "\n",
    "Explanation: \n",
    "The first line of the input is 4. Which means that n is 4, or the number of elements in list_1 is 4. The elements of list_1 are 3, 1, 2, 5 in this order.\n",
    "The sorted version of this list is 1 2 3 5, which is the output.\n",
    "\n",
    "NOTE 2: There are many ways to sort the elements of a list. The purpose of this assignment is to show the power of randomness, and obviously it's fun.\n",
    "Sample Test Cases\n",
    "Input\tOutput\n",
    "Test Case 1\t\n",
    "5\n",
    "3\n",
    "1\n",
    "6\n",
    "2\n",
    "7\n",
    "1 2 3 6 7\n",
    "Test Case 2\t\n",
    "3\n",
    "3\n",
    "2\n",
    "1\n",
    "1 2 3\n",
    "Test Case 3\t\n",
    "5\n",
    "8\n",
    "1\n",
    "4\n",
    "3\n",
    "6\n",
    "1 3 4 6 8\n",
    "Test Case 4\t\n",
    "6\n",
    "6\n",
    "4\n",
    "3\n",
    "2\n",
    "1\n",
    "1\n",
    "1 1 2 3 4 6\n",
    "Test Case 5\t\n",
    "5\n",
    "5\n",
    "4\n",
    "3\n",
    "2\n",
    "1\n",
    "1 2 3 4 5\n",
    "Test Case 6\t\n",
    "3\n",
    "5\n",
    "1\n",
    "6\n",
    "1 5 6\n",
    "'''\n",
    "import random\n",
    "l1=input()\n",
    "l1=int(l1)\n",
    "l1=l1\n",
    "n=[0 for i in range(l1)]\n",
    "for i in range(l1):\n",
    "    #print (\"i\",i)\n",
    "    n[i]=input()\n",
    "for j in range(l1):\n",
    "    #print (\"j\",j)\n",
    "    n[j]=int(n[j])\n",
    "def sorted(l):\n",
    "    k=0\n",
    "    for i in range(0,len(l)-1):\n",
    "        if l[i]>l[i+1]:\n",
    "            k=k+1\n",
    "    if k>0:\n",
    "        #print (\"if\")\n",
    "        return 1\n",
    "    else:\n",
    "        #print (\"else\")\n",
    "        return 0\n",
    "    \n",
    "while(sorted(n)):\n",
    "    a=random.randint(0,len(n)-1)\n",
    "    b=random.randint(0,len(n)-1)\n",
    "    n[a],n[b]=n[b],n[a]\n",
    "    #print (\"Hi\")\n",
    "for i in range(len(n)):\n",
    "    if i==len(n)-1:\n",
    "        print (n[i],end=\"\")\n",
    "    else:   \n",
    "        print (n[i],end=\" \")"
   ]
  },
  {
   "cell_type": "code",
   "execution_count": 16,
   "metadata": {},
   "outputs": [
    {
     "ename": "SyntaxError",
     "evalue": "invalid syntax (<ipython-input-16-70b6cf88975f>, line 2)",
     "output_type": "error",
     "traceback": [
      "\u001b[1;36m  File \u001b[1;32m\"<ipython-input-16-70b6cf88975f>\"\u001b[1;36m, line \u001b[1;32m2\u001b[0m\n\u001b[1;33m    print (!a)\u001b[0m\n\u001b[1;37m           ^\u001b[0m\n\u001b[1;31mSyntaxError\u001b[0m\u001b[1;31m:\u001b[0m invalid syntax\n"
     ]
    }
   ],
   "source": [
    "a=0\n",
    "print (!a)"
   ]
  },
  {
   "cell_type": "code",
   "execution_count": 18,
   "metadata": {},
   "outputs": [
    {
     "name": "stdout",
     "output_type": "stream",
     "text": [
      "True\n",
      "a\n",
      "t\n",
      "m\n",
      "a\n"
     ]
    }
   ],
   "source": [
    "print (\"a\" in \"atma\")\n",
    "for i in \"atma\":\n",
    "    print (i)"
   ]
  }
 ],
 "metadata": {
  "kernelspec": {
   "display_name": "Python 3",
   "language": "python",
   "name": "python3"
  },
  "language_info": {
   "codemirror_mode": {
    "name": "ipython",
    "version": 3
   },
   "file_extension": ".py",
   "mimetype": "text/x-python",
   "name": "python",
   "nbconvert_exporter": "python",
   "pygments_lexer": "ipython3",
   "version": "3.6.0"
  }
 },
 "nbformat": 4,
 "nbformat_minor": 2
}
