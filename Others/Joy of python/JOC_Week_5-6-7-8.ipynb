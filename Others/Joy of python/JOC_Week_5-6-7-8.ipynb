{
 "cells": [
  {
   "cell_type": "markdown",
   "metadata": {},
   "source": [
    "# Week 5"
   ]
  },
  {
   "cell_type": "code",
   "execution_count": 14,
   "metadata": {},
   "outputs": [
    {
     "name": "stdout",
     "output_type": "stream",
     "text": [
      "['dollar', 'euro']\n",
      "dict_values([60, 80])\n",
      "60\n",
      "dict_items([('dollar', 60), ('euro', 80)])\n",
      "{'dollar': 60, 'euro': 80}\n"
     ]
    }
   ],
   "source": [
    "#Dictionaries\n",
    "d={}\n",
    "d={\"dollar\":60,\"euro\":80}\n",
    "print (list(d.keys()))   #Using list at beginning so it doesnt show name before\n",
    "print (d.values())\n",
    "print (d['dollar'])\n",
    "print (d.items())\n",
    "#print (d.clear())\n",
    "print (d)\n",
    "#print (d['yen'])  #This gives key error"
   ]
  },
  {
   "cell_type": "code",
   "execution_count": 21,
   "metadata": {},
   "outputs": [
    {
     "name": "stdout",
     "output_type": "stream",
     "text": [
      "{'euro': 80, 'yen': 54, 'dollar': 65}\n",
      "{'euro': 80, 'yen': 54}\n",
      "2400\n"
     ]
    }
   ],
   "source": [
    "#Updating dict values\n",
    "d['dollar']=65\n",
    "print (d)   #See dollar value got updated\n",
    "#Deleting a value\n",
    "del d['dollar']\n",
    "d['yen']=54\n",
    "print (d)  #See value got updated here\n",
    "#Using the value\n",
    "e=30\n",
    "print (e*d[\"euro\"])"
   ]
  },
  {
   "cell_type": "code",
   "execution_count": 24,
   "metadata": {},
   "outputs": [
    {
     "name": "stdout",
     "output_type": "stream",
     "text": [
      "Google Speech could not understand audio\n"
     ]
    }
   ],
   "source": [
    "#Speech Recognition - pip3 install SpeechRecognition\n",
    "import speech_recognition as sr\n",
    "aud_file=(\"AppliedAICourse.wav\" )  #import the file\n",
    "r=sr.Recognizer()              #Initialise the speech recogniser\n",
    "with sr.AudioFile(aud_file) as src:  #read the file\n",
    "    audio=r.record(src)\n",
    "try:\n",
    "    print (\"audio file contains\"+r.recognize_google(audio))\n",
    "except sr.UnknownValueError:\n",
    "    print (\"Google Speech could not understand audio\")\n",
    "except sr.RequestError:\n",
    "    print (\"Couldnt get results from Google Speech Recognition\")\n",
    "    \n",
    "\n"
   ]
  },
  {
   "cell_type": "code",
   "execution_count": 37,
   "metadata": {},
   "outputs": [
    {
     "name": "stdout",
     "output_type": "stream",
     "text": [
      "Enter your guess-1/2/3 1\n",
      "Do you want to swipe-y/n y\n",
      "New options are  1 2\n",
      "Correct is  2\n",
      "Enter your guess-1/2/3 1\n",
      "Do you want to swipe-y/n y\n",
      "New options are  1 3\n",
      "Correct was  1\n",
      "Win-choice 1 win-no-choice 0\n"
     ]
    }
   ],
   "source": [
    "#Monte Hall-3 Doors and a Twist\n",
    "import random\n",
    "def select():\n",
    "    win_s=0\n",
    "    win_n=0\n",
    "    for i1 in range(0,2):\n",
    "\n",
    "        cho=input(\"Enter your guess-1/2/3 \")\n",
    "        cho=int(cho)\n",
    "        i=cho\n",
    "        while (i==cho):\n",
    "            r=random.randint(1,3)\n",
    "            i=r\n",
    "        r=i\n",
    "        l=[r,cho]\n",
    "        s=input(\"Do you want to swipe-y/n \")\n",
    "        correct=random.choice(l)\n",
    "        if s==\"y\":\n",
    "            print(\"New options are \",cho,r)\n",
    "            if correct==r:\n",
    "                print (\"Correct is \",r)\n",
    "                win_s+=1\n",
    "            else:\n",
    "                print (\"Correct was \",cho)\n",
    "        elif s=='n':\n",
    "            if correct==cho:\n",
    "                print (\"Correct is \",cho)\n",
    "                win_n+=1\n",
    "            else:\n",
    "                print (\"Correct was \",r)\n",
    "    print (\"Win-choice\",win_s,\"win-no-choice\",win_n)\n",
    "select()"
   ]
  },
  {
   "cell_type": "code",
   "execution_count": 40,
   "metadata": {},
   "outputs": [
    {
     "data": {
      "text/plain": [
       "1"
      ]
     },
     "execution_count": 40,
     "metadata": {},
     "output_type": "execute_result"
    }
   ],
   "source": [
    "list=[1,3]\n",
    "random.choice(list)   #See how choice works"
   ]
  },
  {
   "cell_type": "code",
   "execution_count": 43,
   "metadata": {},
   "outputs": [
    {
     "data": {
      "text/plain": [
       "2"
      ]
     },
     "execution_count": 43,
     "metadata": {},
     "output_type": "execute_result"
    }
   ],
   "source": [
    "int(\"567\"[0])%3   #This is the logic applied below"
   ]
  },
  {
   "cell_type": "code",
   "execution_count": 65,
   "metadata": {},
   "outputs": [
    {
     "name": "stdout",
     "output_type": "stream",
     "text": [
      "Player 1-Enter any number- 1000010210\n",
      "Player 1-Enter a number 1/2/3-the secret code 0\n",
      "Player 2-Enter any number- 1012010211\n",
      "Player 2-Enter a number 1/2/3-the secret code 2\n",
      "Player 1 chose  PAPER\n",
      "Player 2 chose  PAPER\n",
      "Results\n",
      "Draw\n"
     ]
    }
   ],
   "source": [
    "#Rock-Paper-Scissor with code\n",
    "def RPS():\n",
    "    code1=(input(\"Player 1-Enter any number- \"))\n",
    "    code2=int(input(\"Player 1-Enter a number 1/2/3-the secret code \"))\n",
    "    code3=(input(\"Player 2-Enter any number- \"))\n",
    "    code4=int(input(\"Player 2-Enter a number 1/2/3-the secret code \"))\n",
    "    p1=int(code1[code2])%3\n",
    "    p2=int(code3[code4])%3\n",
    "    d={}  #1-0/1/2  2-0/1/2 3-0/1/2\n",
    "    player={0:\"ROCK\",1:\"PAPER\",2:\"SCISSOR\"}\n",
    "    \n",
    "    print (\"Player 1 chose \",player[p1])\n",
    "    print (\"Player 2 chose \",player[p2])\n",
    "    print (\"Results\")\n",
    "    if player[p1]==player[p2]:\n",
    "        print (\"Draw\")\n",
    "    if player[p1]==\"ROCK\" and player[p2]==\"PAPER\":\n",
    "        print (\"Player 2 WINS\")\n",
    "    elif player[p1]==\"ROCK\" and player[p2]==\"SCISSOR\":\n",
    "        print (\"Player 1 WINS\")\n",
    "    elif player[p1]==\"PAPER\" and player[p2]==\"ROCK\":\n",
    "        print (\"Player 1 WINS\")\n",
    "    elif player[p1]==\"PAPER\" and player[p2]==\"SCISSOR\":\n",
    "        print (\"Player 2 WINS\")\n",
    "    elif player[p1]==\"SCISSOR\" and player[p2]==\"PAPER\":\n",
    "        print (\"Player 1 WINS\")\n",
    "    elif player[p1]==\"SCISSOR\" and player[p2]==\"ROCK\":\n",
    "        print (\"Player 2 WINS\")\n",
    "RPS()"
   ]
  },
  {
   "cell_type": "code",
   "execution_count": 63,
   "metadata": {},
   "outputs": [
    {
     "name": "stdout",
     "output_type": "stream",
     "text": [
      "14\n"
     ]
    },
    {
     "data": {
      "text/plain": [
       "[5, 7, 8, 9, 13, 19, 22, 31]"
      ]
     },
     "execution_count": 63,
     "metadata": {},
     "output_type": "execute_result"
    }
   ],
   "source": [
    "##Bubble sort\n",
    "def bubble(a):\n",
    "    count=0\n",
    "    for i in range(len(a)):\n",
    "        for j in range(len(a)-i-1):\n",
    "            if a[j]>a[j+1]:\n",
    "                a[j],a[j+1]=a[j+1],a[j]\n",
    "                count+=1\n",
    "    print (count)\n",
    "                \n",
    "l=[8, 22, 7, 9, 31, 19, 5, 13]\n",
    "bubble(l)\n",
    " \n",
    "l"
   ]
  },
  {
   "cell_type": "code",
   "execution_count": 53,
   "metadata": {},
   "outputs": [
    {
     "name": "stdout",
     "output_type": "stream",
     "text": [
      "Found  0 at position  3\n"
     ]
    }
   ],
   "source": [
    "##linear search\n",
    "def lsearch(l,n):\n",
    "    count=-1\n",
    "    for i in l:\n",
    "        count+=1\n",
    "        if i ==n:\n",
    "            print (\"Found \",n, \"at position \",count)\n",
    "            break\n",
    "lsearch([3,4,5,0,1],0)"
   ]
  },
  {
   "cell_type": "code",
   "execution_count": 56,
   "metadata": {},
   "outputs": [
    {
     "name": "stdout",
     "output_type": "stream",
     "text": [
      "else\n"
     ]
    },
    {
     "data": {
      "text/plain": [
       "6"
      ]
     },
     "execution_count": 56,
     "metadata": {},
     "output_type": "execute_result"
    }
   ],
   "source": [
    "## Using binary search to search in a sequence\n",
    "\n",
    "def bsearch(seq,v,l,r):\n",
    "    if (r-l)==0:\n",
    "        if v==seq[r]:\n",
    "            return r\n",
    "        else:\n",
    "            return False\n",
    "    mid=(l+r)//2\n",
    "    if v==seq[mid]:\n",
    "        return mid\n",
    "    elif v<seq[mid]:\n",
    "        print (\"if\")\n",
    "        return bsearch(seq,v,l,mid)\n",
    "    else:\n",
    "        print (\"else\")\n",
    "        return bsearch (seq,v,mid+1,r)\n",
    "a=[2,3,5,5.5,6,8,10,11]\n",
    "bsearch(a,10,3,7)"
   ]
  },
  {
   "cell_type": "code",
   "execution_count": 132,
   "metadata": {},
   "outputs": [
    {
     "name": "stdout",
     "output_type": "stream",
     "text": [
      "1 4\n"
     ]
    },
    {
     "ename": "IndexError",
     "evalue": "list index out of range",
     "output_type": "error",
     "traceback": [
      "\u001b[1;31m---------------------------------------------------------------------------\u001b[0m",
      "\u001b[1;31mIndexError\u001b[0m                                Traceback (most recent call last)",
      "\u001b[1;32m<ipython-input-132-44ac91f8378c>\u001b[0m in \u001b[0;36m<module>\u001b[1;34m\u001b[0m\n\u001b[0;32m     37\u001b[0m \u001b[0ma\u001b[0m\u001b[1;33m=\u001b[0m\u001b[0minput\u001b[0m\u001b[1;33m(\u001b[0m\u001b[1;33m)\u001b[0m\u001b[1;33m\u001b[0m\u001b[0m\n\u001b[0;32m     38\u001b[0m \u001b[0ma\u001b[0m\u001b[1;33m=\u001b[0m\u001b[0ma\u001b[0m\u001b[1;33m.\u001b[0m\u001b[0msplit\u001b[0m\u001b[1;33m(\u001b[0m\u001b[1;34m' '\u001b[0m\u001b[1;33m)\u001b[0m\u001b[1;33m\u001b[0m\u001b[0m\n\u001b[1;32m---> 39\u001b[1;33m \u001b[0ma1\u001b[0m\u001b[1;33m=\u001b[0m\u001b[0mint\u001b[0m\u001b[1;33m(\u001b[0m\u001b[0ma\u001b[0m\u001b[1;33m[\u001b[0m\u001b[1;36m0\u001b[0m\u001b[1;33m]\u001b[0m\u001b[1;33m)\u001b[0m\u001b[1;33m;\u001b[0m\u001b[0ma2\u001b[0m\u001b[1;33m=\u001b[0m\u001b[0mint\u001b[0m\u001b[1;33m(\u001b[0m\u001b[0ma\u001b[0m\u001b[1;33m[\u001b[0m\u001b[1;36m1\u001b[0m\u001b[1;33m]\u001b[0m\u001b[1;33m)\u001b[0m\u001b[1;33m;\u001b[0m\u001b[0ma3\u001b[0m\u001b[1;33m=\u001b[0m\u001b[0mint\u001b[0m\u001b[1;33m(\u001b[0m\u001b[0ma\u001b[0m\u001b[1;33m[\u001b[0m\u001b[1;36m2\u001b[0m\u001b[1;33m]\u001b[0m\u001b[1;33m)\u001b[0m\u001b[1;33m\u001b[0m\u001b[0m\n\u001b[0m\u001b[0;32m     40\u001b[0m \u001b[0mtwalk\u001b[0m\u001b[1;33m=\u001b[0m\u001b[1;33m(\u001b[0m\u001b[1;36m2\u001b[0m\u001b[1;33m**\u001b[0m\u001b[1;33m(\u001b[0m\u001b[1;36m1\u001b[0m\u001b[1;33m/\u001b[0m\u001b[1;36m2\u001b[0m\u001b[1;33m)\u001b[0m\u001b[1;33m*\u001b[0m\u001b[0ma1\u001b[0m\u001b[1;33m)\u001b[0m\u001b[1;33m/\u001b[0m\u001b[0ma2\u001b[0m\u001b[1;33m\u001b[0m\u001b[0m\n\u001b[0;32m     41\u001b[0m \u001b[0mtcab\u001b[0m\u001b[1;33m=\u001b[0m\u001b[1;33m(\u001b[0m\u001b[1;36m2\u001b[0m\u001b[1;33m*\u001b[0m\u001b[0ma1\u001b[0m\u001b[1;33m)\u001b[0m\u001b[1;33m/\u001b[0m\u001b[0ma3\u001b[0m\u001b[1;33m\u001b[0m\u001b[0m\n",
      "\u001b[1;31mIndexError\u001b[0m: list index out of range"
     ]
    }
   ],
   "source": [
    "##Progs\n",
    "'''\n",
    "Arun is working in an office which is N blocks away from his house. He wants to minimize the time it takes him to go from his house to the office.\n",
    "He can either take the office cab or he can walk to the office.\n",
    "Arun's velocity is V1 m/s when he is walking. The cab moves with velocity V2 m/s but whenever he calls for the cab, it always starts from the office, covers N blocks, collects Arun and goes back to the office.\n",
    "The cab crosses a total distance of N meters when going from office to Arun's house and vice versa, whereas Arun covers a distance of (√2)*N while walking.\n",
    "Help Arun to find whether he should walk or take a cab to minimize the time.\n",
    "\n",
    "Input Format:\n",
    "A single line containing three integer numbers N, V1, and V2 separated by a space.\n",
    "\n",
    "Output Format:\n",
    "Print 'Walk' or 'Cab' accordingly\n",
    "\n",
    "Constraints:\n",
    "\n",
    "1<=V1, V2 <=100\n",
    "\n",
    "1<=N<=200\n",
    "\n",
    "Example-1:\n",
    "\n",
    "Input:\n",
    "5 10 15\n",
    "\n",
    "Output:\n",
    "Cab\n",
    "\n",
    "Example-2:\n",
    "\n",
    "Input:\n",
    "2 10 14\n",
    "\n",
    "Output:\n",
    "Walk\n",
    "'''\n",
    "a=input()\n",
    "a=a.split(' ')\n",
    "a1=int(a[0]);a2=int(a[1]);a3=int(a[2])\n",
    "twalk=(2**(1/2)*a1)/a2\n",
    "tcab=(2*a1)/a3\n",
    "if twalk<tcab:\n",
    "    print (\"Walk\")\n",
    "elif tcab<twalk:\n",
    "    print (\"Cab\")\n"
   ]
  },
  {
   "cell_type": "code",
   "execution_count": 95,
   "metadata": {},
   "outputs": [
    {
     "name": "stdout",
     "output_type": "stream",
     "text": [
      "1 2 3 4 1\n",
      "3\n"
     ]
    }
   ],
   "source": [
    "#End sort\n",
    "'''\n",
    "Given a list A of N distinct integer numbers, you can sort the list by moving an element to the end of the list. Find the minimum number of moves required to sort the list using this method in ascending order. \n",
    "\n",
    "Input Format:\n",
    "The first line of the input contains N distinct integers of list A separated by a space.\n",
    "\n",
    "Output Format\n",
    "Print the minimum number of moves required to sort the elements.\n",
    "\n",
    "Example:\n",
    "\n",
    "Input:\n",
    "1 3 2 4 5\n",
    "\n",
    "Output:\n",
    "3\n",
    "\n",
    "Explanation:\n",
    "In the first move, we move 3 to the end of the list. In the second move, we move 4 to the end of the list, and finally, in the third movement, we move 5 to the end.\n",
    "'''\n",
    "def endsort(a):   \n",
    "    sa=sorted(a)\n",
    "    n=len(a)\n",
    "    k=0\n",
    "    for i in range(n):\n",
    "        try:\n",
    "            k=a.index(sa[i],k)+1\n",
    "        except ValueError:\n",
    "            break\n",
    "    else:\n",
    "        i+=1\n",
    "    return n-i\n",
    "#print (endsort(list(map(int,input().split()))),end=\"\")\n",
    "l=input()\n",
    "l=l.split(\" \")\n",
    "for i in range(len(l)):\n",
    "    l[i]=int(l[i])\n",
    "print (endsort(l))"
   ]
  },
  {
   "cell_type": "code",
   "execution_count": 17,
   "metadata": {},
   "outputs": [
    {
     "ename": "TypeError",
     "evalue": "'builtin_function_or_method' object is not subscriptable",
     "output_type": "error",
     "traceback": [
      "\u001b[1;31m---------------------------------------------------------------------------\u001b[0m",
      "\u001b[1;31mTypeError\u001b[0m                                 Traceback (most recent call last)",
      "\u001b[1;32m<ipython-input-17-caea1c0b8227>\u001b[0m in \u001b[0;36m<module>\u001b[1;34m\u001b[0m\n\u001b[0;32m      1\u001b[0m \u001b[0ml\u001b[0m\u001b[1;33m=\u001b[0m\u001b[1;33m[\u001b[0m\u001b[1;36m1\u001b[0m\u001b[1;33m,\u001b[0m\u001b[1;36m3\u001b[0m\u001b[1;33m,\u001b[0m\u001b[1;36m5\u001b[0m\u001b[1;33m,\u001b[0m\u001b[1;36m6\u001b[0m\u001b[1;33m]\u001b[0m\u001b[1;33m\u001b[0m\u001b[0m\n\u001b[1;32m----> 2\u001b[1;33m \u001b[0mprint\u001b[0m \u001b[1;33m(\u001b[0m\u001b[0mmax\u001b[0m\u001b[1;33m[\u001b[0m\u001b[0ml\u001b[0m\u001b[1;33m]\u001b[0m\u001b[1;33m)\u001b[0m\u001b[1;33m\u001b[0m\u001b[0m\n\u001b[0m",
      "\u001b[1;31mTypeError\u001b[0m: 'builtin_function_or_method' object is not subscriptable"
     ]
    }
   ],
   "source": [
    "l=[1,3,5,6]\n",
    "print (max[l])"
   ]
  },
  {
   "cell_type": "code",
   "execution_count": 96,
   "metadata": {},
   "outputs": [
    {
     "data": {
      "text/plain": [
       "5"
      ]
     },
     "execution_count": 96,
     "metadata": {},
     "output_type": "execute_result"
    }
   ],
   "source": [
    "l=[1,2,3,4,5]\n",
    "l[len(l)-1]"
   ]
  },
  {
   "cell_type": "code",
   "execution_count": 129,
   "metadata": {},
   "outputs": [
    {
     "name": "stdout",
     "output_type": "stream",
     "text": [
      "62\n",
      "No"
     ]
    }
   ],
   "source": [
    "'''\n",
    "A semiprime number is an integer which can be expressed as a product of two distinct primes. For example 15 = 3*5 is a semiprime number but 9 = 3*3 is not .\n",
    "Given an integer number N, find whether it can be expressed as a sum of two semi-primes or not (not necessarily distinct).\n",
    "\n",
    "Input Format:\n",
    "The first line contains an integer N.\n",
    "\n",
    "Output Format:\n",
    "Print 'Yes' if it is possible to represent N as a sum of two semiprimes 'No' otherwise.\n",
    "\n",
    "Example:\n",
    "\n",
    "Input:\n",
    "30\n",
    "\n",
    "Output:\n",
    "Yes\n",
    "\n",
    "Explanation:\n",
    "N = 30 can be expressed as 15+15 where 15 is a semi-prime number (5*3 = 15)\n",
    "\n",
    "NOTE: N is less than equal to 200\n",
    "'''\n",
    "def chkprime(n):\n",
    "    for i in range(2,n):\n",
    "        if n%i==0:\n",
    "            return False\n",
    "    return True\n",
    "\n",
    "def prime_generator(n):\n",
    "    \"\"\"produce all the prime numbers less or equal to n\"\"\"\n",
    "    l=[]\n",
    "    for i in range(2,n):\n",
    "        \n",
    "        if n%i==0:\n",
    "            if chkprime(i)==True:\n",
    "                   l.append(i)\n",
    "    return l\n",
    "\n",
    "def prime_factorization(n):\n",
    "    \"\"\"return a list of with the all prime factors of n including their multiplicity\"\"\" \n",
    "    result=[]\n",
    "    for p in prime_generator(n):\n",
    "        while n%p==0: #while p divide n...\n",
    "            result.append(p)\n",
    "            n = n//p\n",
    "        if n<=1:\n",
    "            break\n",
    "    return result\n",
    "\n",
    "def is_semi_prime(n):\n",
    "    factors = prime_factorization(n)   \n",
    "    if len(factors) == 2 and factors[0]!=factors[1]:\n",
    "        #print (factors)\n",
    "        return True\n",
    "          \n",
    "\n",
    "num=input()\n",
    "num=int(num)\n",
    "k=0\n",
    "for i in range(2,num-1):\n",
    "    a1=i\n",
    "    a2=num-i\n",
    "    if is_semi_prime(a1):\n",
    "        if is_semi_prime(a2):\n",
    "            #print (\"a1,a2=\",a1,a2)\n",
    "        \n",
    "            k+=1\n",
    "if k==0:\n",
    "    print (\"No\",end=\"\")\n",
    "else:\n",
    "    print (\"Yes\",end=\"\")"
   ]
  },
  {
   "cell_type": "markdown",
   "metadata": {},
   "source": [
    "# Week 6"
   ]
  },
  {
   "cell_type": "code",
   "execution_count": 3,
   "metadata": {},
   "outputs": [
    {
     "name": "stdout",
     "output_type": "stream",
     "text": [
      "H d llo\n",
      "HELLO WORLD\n",
      "Jello World\n"
     ]
    }
   ],
   "source": [
    "#Using strings\n",
    "import string\n",
    "x=\"Hello World\"\n",
    "print (x[0],x[-1],x[2:5])\n",
    "print (x.upper())\n",
    "print (x.replace(\"H\",\"J\"))"
   ]
  },
  {
   "cell_type": "code",
   "execution_count": 19,
   "metadata": {},
   "outputs": [
    {
     "name": "stdout",
     "output_type": "stream",
     "text": [
      "dict2 {',': '@', ' ': '@'}\n",
      "T\n",
      "data S\n",
      "e\n",
      "data d\n",
      "x\n",
      "data w\n",
      "t\n",
      "data s\n",
      "c elif  \n",
      "data elif @\n",
      "m\n",
      "data l\n",
      "i\n",
      "data h\n",
      "n\n",
      "data m\n",
      "i\n",
      "data h\n",
      "n\n",
      "data m\n",
      "g\n",
      "data f\n",
      "c elif ,\n",
      "data elif @\n",
      "End of File\n"
     ]
    }
   ],
   "source": [
    "#Ciphering the data     #important\n",
    "import string\n",
    "dict1={}\n",
    "data=\"\"\n",
    "f2=open(\"final.txt\",\"w\")\n",
    "for i1 in range(len(string.ascii_letters)):\n",
    "    dict1[string.ascii_letters[i1]]=string.ascii_letters[i1-1]\n",
    "list1=[\",\",\" \"]\n",
    "list2=[\"@\"]\n",
    "dict2={}\n",
    "for i2 in range(2):\n",
    "    dict2[list1[i2]]=list2[0]\n",
    "print (\"dict2\",dict2)\n",
    "        \n",
    "#f=open(\"datatocode.txt\",\"r\")\n",
    "#c=f.read(1)  #Getting characters\n",
    "i=0\n",
    "with open(\"datatocode.txt\") as f:\n",
    "    while True:\n",
    "        c=f.read(1)\n",
    "\n",
    "        if c in dict1:\n",
    "            print (c)\n",
    "            data=dict1[c]\n",
    "            print (\"data\",data)\n",
    "            f2.write(data)\n",
    "        elif c in dict2:\n",
    "            print (\"c elif\",c)\n",
    "            data=dict2[c]\n",
    "            print (\"data elif\",data)\n",
    "            f2.write(data)\n",
    "        if not c:\n",
    "            print (\"End of File\")\n",
    "            break\n",
    "    \n",
    "f2.close()"
   ]
  },
  {
   "cell_type": "code",
   "execution_count": 11,
   "metadata": {},
   "outputs": [
    {
     "name": "stdout",
     "output_type": "stream",
     "text": [
      "Text mining, also referred to as text data mining, \n",
      "roughly equivalent to text analytics, is the process of deriving high-quality information from text. \n",
      "High-quality information is typically derived through the devising of patterns and \n",
      "trends through means such as statistical pattern learning.End of File\n"
     ]
    }
   ],
   "source": [
    "f1=open(\"datatocode1.txt\",\"a\")\n",
    "f=open(\"datatocode.txt\",\"r\")   #Same upper code implemented by another method\n",
    "for i in f:\n",
    "    print (i,end =\"\")\n",
    "    \n",
    "    f1.write(i)\n",
    "else:\n",
    "    print (\"End of File\")\n",
    "f1.close()"
   ]
  },
  {
   "cell_type": "code",
   "execution_count": 60,
   "metadata": {},
   "outputs": [
    {
     "name": "stdout",
     "output_type": "stream",
     "text": [
      "P1-Enter your loc for X- Row col-0/1/2 0/1/20 0\n",
      "sym1 [0, 0] l2 [[0, 0]]\n",
      "[['X' '-' '-']\n",
      " ['-' '-' '-']\n",
      " ['-' '-' '-']]\n",
      "Hi17\n",
      "P2-Enter your loc for O- Row col-0/1/2 0/1/20 1\n",
      "[['X' 'O' '-']\n",
      " ['-' '-' '-']\n",
      " ['-' '-' '-']]\n",
      "Hi17\n",
      "P1-Enter your loc for X- Row col-0/1/2 0/1/21 0\n",
      "sym1 [1, 0] l2 [[0, 0], [0, 1], [1, 0]]\n",
      "[['X' 'O' '-']\n",
      " ['X' '-' '-']\n",
      " ['-' '-' '-']]\n",
      "Hi17\n",
      "P2-Enter your loc for O- Row col-0/1/2 0/1/22 0\n",
      "[['X' 'O' '-']\n",
      " ['X' '-' '-']\n",
      " ['O' '-' '-']]\n",
      "Hi17\n",
      "P1-Enter your loc for X- Row col-0/1/2 0/1/21 2\n",
      "sym1 [1, 2] l2 [[0, 0], [0, 1], [1, 0], [2, 0], [1, 2]]\n",
      "[['X' 'O' '-']\n",
      " ['X' '-' 'X']\n",
      " ['O' '-' '-']]\n",
      "Hi17\n",
      "P2-Enter your loc for O- Row col-0/1/2 0/1/21 1\n",
      "[['X' 'O' '-']\n",
      " ['X' 'O' 'X']\n",
      " ['O' '-' '-']]\n",
      "Hi17\n",
      "P1-Enter your loc for X- Row col-0/1/2 0/1/22 1\n",
      "sym1 [2, 1] l2 [[0, 0], [0, 1], [1, 0], [2, 0], [1, 2], [1, 1], [2, 1]]\n",
      "[['X' 'O' '-']\n",
      " ['X' 'O' 'X']\n",
      " ['O' 'X' '-']]\n",
      "Hi17\n",
      "P2-Enter your loc for O- Row col-0/1/2 0/1/22 0\n",
      "Slot occupied, Enter again\n",
      "P2-Enter your loc for O- Row col-0/1/2 0/1/22 2\n",
      "[['X' 'O' '-']\n",
      " ['X' 'O' 'X']\n",
      " ['O' 'X' 'O']]\n",
      "Hi17\n",
      "P1-Enter your loc for X- Row col-0/1/2 0/1/20 2\n",
      "sym1 [0, 2] l2 [[0, 0], [0, 1], [1, 0], [2, 0], [1, 2], [1, 1], [2, 1], [2, 2], [0, 2]]\n",
      "[['X' 'O' 'X']\n",
      " ['X' 'O' 'X']\n",
      " ['O' 'X' 'O']]\n",
      "Hi17\n",
      "Draw\n"
     ]
    }
   ],
   "source": [
    "#Playing Tic Tac Toe\n",
    "import numpy as np\n",
    "turn=-1\n",
    "tot=0\n",
    "ar=np.array([[\"-\" for i in range(0,3)] for j in range(0,3)])\n",
    "l2=[]\n",
    "def comp(st,l1,arr):\n",
    "    arr[l1[0]][l1[1]]=st\n",
    "def chkarr(arr):\n",
    "    \n",
    "    if arr[0][0]==\"X\" and arr[0][1]==\"X\" and arr[0][2]==\"X\":\n",
    "        print (\"Hi1\")\n",
    "        return (True,\"P1\")\n",
    "    elif arr[1][0]==\"X\" and arr[1][1]==\"X\" and arr[1][2]==\"X\":\n",
    "        print (\"Hi2\")\n",
    "        return (True,\"P1\")\n",
    "    elif arr[2][0]==\"X\" and arr[2][1]==\"X\" and arr[2][2]==\"X\":\n",
    "        print (\"Hi3\")\n",
    "        return (True,\"P1\")\n",
    "\n",
    "    if arr[0][0]==\"X\" and arr[1][0]==\"X\" and arr[2][0]==\"X\":\n",
    "        print (\"Hi4\")\n",
    "        return (True,\"P1\")\n",
    "    elif arr[0][1]==\"X\" and arr[1][1]==\"X\" and arr[2][1]==\"X\":\n",
    "        print (\"Hi5\")\n",
    "        return (True,\"P1\")\n",
    "    elif arr[0][2]==\"X\" and arr[1][2]==\"X\" and arr[2][2]==\"X\":\n",
    "        print (\"Hi6\")\n",
    "        return (True,\"P1\")\n",
    "\n",
    "    elif arr[0][0]==\"X\"   and arr[1][1]==\"X\" and arr[2][2]==\"X\":\n",
    "        print (\"Hi7\")\n",
    "        return (True,\"P1\")\n",
    "    elif arr[0][2]==\"X\" and  arr[1][1]==\"X\" and arr[2][0]==\"X\"   :\n",
    "        print (\"Hi8\")\n",
    "        return (True,\"P1\")\n",
    "\n",
    "    \n",
    "    if arr[0][0]==\"O\" and arr[0][1]==\"O\" and arr[0][2]==\"O\":\n",
    "        print (\"Hi9\")\n",
    "        return (True,\"P2\")\n",
    "    elif arr[1][0]==\"O\" and arr[1][1]==\"O\" and arr[1][2]==\"O\":\n",
    "        print (\"Hi10\")\n",
    "        return (True,\"P2\")\n",
    "    elif arr[2][0]==\"O\" and arr[2][1]==\"O\" and arr[2][2]==\"O\":\n",
    "        print (\"Hi11\")\n",
    "        return (True,\"P2\")\n",
    "\n",
    "    if arr[0][0]==\"O\" and arr[1][0]==\"O\" and arr[2][0]==\"O\":\n",
    "        print (\"Hi12\")\n",
    "        return (True,\"P2\")\n",
    "    elif arr[0][1]==\"O\" and arr[1][1]==\"O\" and arr[2][1]==\"O\":\n",
    "        print (\"Hi13\")\n",
    "        return (True,\"P2\")\n",
    "    elif arr[0][2]==\"O\" and arr[1][2]==\"O\" and arr[2][2]==\"O\":\n",
    "        print (\"Hi14\")\n",
    "        return (True,\"P2\")\n",
    "\n",
    "    elif arr[0][0]==\"O\"   and arr[1][1]==\"O\" and arr[2][2]==\"O\":\n",
    "        print (\"Hi15\")\n",
    "        return (True,\"P2\")\n",
    "    elif arr[0][2]==\"O\" and  arr[1][1]==\"O\" and arr[2][0]==\"O\"   :\n",
    "        print (\"Hi16\")\n",
    "        return (True,\"P2\")\n",
    "    \n",
    "    else:\n",
    "        print (\"Hi17\")\n",
    "        return (False,\" \")\n",
    "\n",
    "while(tot<9):\n",
    "    turn+=1\n",
    "    if (turn%2==0):\n",
    "        sym1=input(\"P1-Enter your loc for X- Row col-0/1/2 0/1/2\")\n",
    "        sym1=(sym1.split(\" \"))\n",
    "\n",
    "        sym1[0]=int(sym1[0])\n",
    "        sym1[1]=int(sym1[1])\n",
    "        if sym1 in l2 :\n",
    "            print (\"Slot occupied, Enter again\")\n",
    "            turn-=1\n",
    "            continue\n",
    "        l2.append(sym1)\n",
    "        print (\"sym1\",sym1,\"l2\",l2)\n",
    "        comp(\"X\",sym1,ar)\n",
    "        print (ar)\n",
    "\n",
    "    else:\n",
    "        sym2=input(\"P2-Enter your loc for O- Row col-0/1/2 0/1/2\")\n",
    "        sym2=(sym2.split(\" \"))\n",
    "        sym2[0]=int(sym2[0])\n",
    "        sym2[1]=int(sym2[1])\n",
    "        if sym2 in l2:\n",
    "            print (\"Slot occupied, Enter again\")\n",
    "            turn-=1\n",
    "            continue\n",
    "        l2.append(sym2)\n",
    "\n",
    "        comp(\"O\",sym2,ar)\n",
    "        print (ar)\n",
    "    res=chkarr(ar)\n",
    "    if res[0]==True:\n",
    "        print (res[1],\"wins\") \n",
    "        tot=0\n",
    "        break\n",
    "    tot+=1\n",
    "if tot==9:\n",
    "    print (\"Draw\")\n",
    "\n",
    "\n"
   ]
  },
  {
   "cell_type": "code",
   "execution_count": 62,
   "metadata": {},
   "outputs": [
    {
     "data": {
      "text/plain": [
       "24"
      ]
     },
     "execution_count": 62,
     "metadata": {},
     "output_type": "execute_result"
    }
   ],
   "source": [
    "#Factorial\n",
    "def fact(n):\n",
    "    if n==1:\n",
    "        return 1\n",
    "    else :\n",
    "        return (n*fact(n-1))\n",
    "fact(4)"
   ]
  },
  {
   "cell_type": "code",
   "execution_count": 5,
   "metadata": {},
   "outputs": [
    {
     "data": {
      "text/plain": [
       "17711"
      ]
     },
     "execution_count": 5,
     "metadata": {},
     "output_type": "execute_result"
    }
   ],
   "source": [
    "#Fibonacci series\n",
    "def fib(n):\n",
    "    if n==0:\n",
    "        return 0\n",
    "    elif n==1:\n",
    "        return 1\n",
    "    elif n==2:\n",
    "        return 1\n",
    "    elif n>2:\n",
    "        a=fib(n-1)\n",
    "        b=fib(n-2)\n",
    "        #return (fib(n-1)+fib(n-2))   #This is slow\n",
    "        return a + b\n",
    "fib(20)"
   ]
  },
  {
   "cell_type": "code",
   "execution_count": 15,
   "metadata": {},
   "outputs": [
    {
     "name": "stdout",
     "output_type": "stream",
     "text": [
      "3\n",
      "3 4\n",
      "3\n"
     ]
    },
    {
     "ename": "IndexError",
     "evalue": "list index out of range",
     "output_type": "error",
     "traceback": [
      "\u001b[1;31m---------------------------------------------------------------------------\u001b[0m",
      "\u001b[1;31mIndexError\u001b[0m                                Traceback (most recent call last)",
      "\u001b[1;32m<ipython-input-15-b2b1f2a4e71e>\u001b[0m in \u001b[0;36m<module>\u001b[1;34m\u001b[0m\n\u001b[0;32m      3\u001b[0m \u001b[0msong\u001b[0m \u001b[1;33m=\u001b[0m \u001b[1;33m[\u001b[0m\u001b[0mint\u001b[0m\u001b[1;33m(\u001b[0m\u001b[0mx\u001b[0m\u001b[1;33m)\u001b[0m \u001b[1;32mfor\u001b[0m \u001b[0mx\u001b[0m \u001b[1;32min\u001b[0m \u001b[0minput\u001b[0m\u001b[1;33m(\u001b[0m\u001b[1;33m)\u001b[0m\u001b[1;33m.\u001b[0m\u001b[0msplit\u001b[0m\u001b[1;33m(\u001b[0m\u001b[1;33m)\u001b[0m\u001b[1;33m]\u001b[0m   \u001b[1;31m#See this done in 1 line\u001b[0m\u001b[1;33m\u001b[0m\u001b[0m\n\u001b[0;32m      4\u001b[0m \u001b[0mpos\u001b[0m\u001b[1;33m=\u001b[0m\u001b[0mint\u001b[0m\u001b[1;33m(\u001b[0m\u001b[0minput\u001b[0m\u001b[1;33m(\u001b[0m\u001b[1;33m)\u001b[0m\u001b[1;33m)\u001b[0m\u001b[1;33m\u001b[0m\u001b[0m\n\u001b[1;32m----> 5\u001b[1;33m \u001b[0mfav\u001b[0m\u001b[1;33m=\u001b[0m\u001b[0msong\u001b[0m\u001b[1;33m[\u001b[0m\u001b[0mpos\u001b[0m\u001b[1;33m-\u001b[0m\u001b[1;36m1\u001b[0m\u001b[1;33m]\u001b[0m\u001b[1;33m\u001b[0m\u001b[0m\n\u001b[0m\u001b[0;32m      6\u001b[0m \u001b[0msong\u001b[0m\u001b[1;33m=\u001b[0m\u001b[0msorted\u001b[0m\u001b[1;33m(\u001b[0m\u001b[0msong\u001b[0m\u001b[1;33m)\u001b[0m\u001b[1;33m\u001b[0m\u001b[0m\n\u001b[0;32m      7\u001b[0m \u001b[1;32mfor\u001b[0m \u001b[0mi\u001b[0m \u001b[1;32min\u001b[0m \u001b[0mrange\u001b[0m\u001b[1;33m(\u001b[0m\u001b[0mtot\u001b[0m\u001b[1;33m)\u001b[0m\u001b[1;33m:\u001b[0m\u001b[1;33m\u001b[0m\u001b[0m\n",
      "\u001b[1;31mIndexError\u001b[0m: list index out of range"
     ]
    }
   ],
   "source": [
    "##Assignment Problems\n",
    "tot=int(input())\n",
    "song = [int(x) for x in input().split()]   #See this done in 1 line\n",
    "pos=int(input())\n",
    "fav=song[pos-1]\n",
    "song=sorted(song)\n",
    "for i in range(tot):\n",
    "    if song[i]==fav:\n",
    "        print (i+1)"
   ]
  },
  {
   "cell_type": "code",
   "execution_count": 20,
   "metadata": {},
   "outputs": [
    {
     "name": "stdout",
     "output_type": "stream",
     "text": [
      "3\n",
      "{0: 0, 1: 1, 2: 4, 3: 9}\n"
     ]
    }
   ],
   "source": [
    "#P2\n",
    "''' \n",
    "'''\n",
    "i = [int(x) for x in input().split()] \n",
    "d1={}\n",
    "for i1 in range(1,i[0]+1):\n",
    "    d1[i1]=i1**2\n",
    "print (d1)"
   ]
  },
  {
   "cell_type": "code",
   "execution_count": 21,
   "metadata": {},
   "outputs": [
    {
     "name": "stdout",
     "output_type": "stream",
     "text": [
      "3\n",
      "{1: 1, 2: 4, 3: 9}\n"
     ]
    }
   ],
   "source": [
    "#P3\n",
    "\n",
    "def printDict():\n",
    "    i = [int(x) for x in input().split()] \n",
    "    d1={}\n",
    "    for i1 in range(1,i[0]+1):\n",
    "        d1[i1]=i1**2\n",
    "    print (d1)  \n",
    "printDict()"
   ]
  },
  {
   "cell_type": "code",
   "execution_count": 22,
   "metadata": {},
   "outputs": [
    {
     "name": "stdout",
     "output_type": "stream",
     "text": [
      "17\n"
     ]
    }
   ],
   "source": [
    "def test(i,j):\n",
    "    if(i==0):\n",
    "        return j\n",
    "    else:\n",
    "        return test(i-1,i+j)\n",
    "print(test(4,7))\n"
   ]
  }
 ],
 "metadata": {
  "kernelspec": {
   "display_name": "Python 3",
   "language": "python",
   "name": "python3"
  },
  "language_info": {
   "codemirror_mode": {
    "name": "ipython",
    "version": 3
   },
   "file_extension": ".py",
   "mimetype": "text/x-python",
   "name": "python",
   "nbconvert_exporter": "python",
   "pygments_lexer": "ipython3",
   "version": "3.6.0"
  }
 },
 "nbformat": 4,
 "nbformat_minor": 2
}
