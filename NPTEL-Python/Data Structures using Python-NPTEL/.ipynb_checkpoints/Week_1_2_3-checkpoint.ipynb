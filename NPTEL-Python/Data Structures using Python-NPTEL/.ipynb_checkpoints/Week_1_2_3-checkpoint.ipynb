{
 "cells": [
  {
   "cell_type": "markdown",
   "metadata": {},
   "source": [
    "# Week 1"
   ]
  },
  {
   "cell_type": "code",
   "execution_count": 2,
   "metadata": {},
   "outputs": [
    {
     "name": "stdout",
     "output_type": "stream",
     "text": [
      "1\n"
     ]
    }
   ],
   "source": [
    "\n",
    "\n",
    "#Basic Function for calculating GCD or HCF\n",
    "\n",
    "def gcd1(m,n):\n",
    "    fm=[]\n",
    "    for i in range(1,m+1):\n",
    "        if m%i==0:\n",
    "            fm.append(i)\n",
    "    fn=[]\n",
    "    for i in range(1,n+1):\n",
    "        if n%i==0:\n",
    "            fn.append(i)\n",
    "    cf=[]\n",
    "    for f in fm:\n",
    "        if f in fn:\n",
    "            cf.append(f)\n",
    "    return (cf[-1])\n",
    "\n",
    "print (gcd1(9999999,10000000))\n",
    "\n",
    "\n",
    "#New approaches for GCD\n",
    "def gcd2(m,n):\n",
    "    cf=[]\n",
    "    for i in range(1,min(m,n)+1):\n",
    "        if m%i==0 and n%i==0:\n",
    "            cf.append(i)\n",
    "    return cf[-1]\n",
    "\n",
    "\n",
    "def gcd3(m,n):  #No lists\n",
    "    cf=[]\n",
    "    for i in range(1,min(m,n)+1):\n",
    "        if m%i==0 and n%i==0:\n",
    "            mcf=i\n",
    "    return mcf\n",
    "\n",
    "\n",
    "\n",
    "def gcd4(m,n):  #No lists\n",
    "    i=min(m,n)\n",
    "    while(i>0):\n",
    "        if (m%i==0 and n%i==0):\n",
    "            return i\n",
    "        else:\n",
    "            i=i-1\n"
   ]
  },
  {
   "cell_type": "markdown",
   "metadata": {},
   "source": [
    "## Euclid's Algorithm using recursive function"
   ]
  },
  {
   "cell_type": "code",
   "execution_count": 2,
   "metadata": {},
   "outputs": [
    {
     "data": {
      "text/plain": [
       "1"
      ]
     },
     "execution_count": 2,
     "metadata": {},
     "output_type": "execute_result"
    }
   ],
   "source": [
    "def gcdE1(m,n):\n",
    "    if m<n:             #Assume m>n\n",
    "        (m,n)=(n,m)     #Special swap in python\n",
    "    if (m%n)==0:\n",
    "        return n\n",
    "    else:        \n",
    "       return gcdE1(max(n,m-n),min(n,m-n)) # diff cam be > n\n",
    "\n",
    "#Using while Loop\n",
    "\n",
    "def gcdE2(m,n):\n",
    "    if m<n:\n",
    "        (m,n)=(n,m)\n",
    "    while (m%n!=0):\n",
    "        (m,n)=(max(n,m-n),min(n,m-n))\n",
    "    return (n)\n",
    "gcdE2(22,4)\n",
    "\n",
    "def gcdE3(m,n):\n",
    "    if m<n:\n",
    "        (m,n)=(n,m)\n",
    "    if (m%n)==0:\n",
    "        return n\n",
    "    else:\n",
    "        return gcdE3(n,m%n)\n",
    "gcdE3(9999999999,1000000000)"
   ]
  },
  {
   "cell_type": "markdown",
   "metadata": {},
   "source": [
    "## Week 2"
   ]
  },
  {
   "cell_type": "code",
   "execution_count": 20,
   "metadata": {},
   "outputs": [
    {
     "name": "stdout",
     "output_type": "stream",
     "text": [
      "[1, 2, 3, 10]\n",
      "typeval\n",
      "Strings are immutable\n",
      "hypeval\n"
     ]
    }
   ],
   "source": [
    "##lists are mutable while strings are not\n",
    "\n",
    "list1=[1,2,3,6]\n",
    "list1[3]=10\n",
    "print (list1)\n",
    "a=\"typeval\"\n",
    "print (a)\n",
    "try:\n",
    "    a[0]=\"r\" ### This will give error\n",
    "except:\n",
    "    print (\"Strings are immutable\")\n",
    "    \n",
    "## To copy strings a new string need to be created\n",
    "\n",
    "b=\"hype\"+a[4:]\n",
    "print (b)"
   ]
  },
  {
   "cell_type": "code",
   "execution_count": 17,
   "metadata": {},
   "outputs": [
    {
     "name": "stdout",
     "output_type": "stream",
     "text": [
      "4\n",
      "o\n"
     ]
    }
   ],
   "source": [
    "##Char does not exist in python only concept of string\n",
    "###Referencing nested lists\n",
    "list1=[[2,4],5,[\"hello\"]]\n",
    "print (list1[0][1])\n",
    "print (list1[2][0][4])\n"
   ]
  },
  {
   "cell_type": "code",
   "execution_count": 18,
   "metadata": {},
   "outputs": [
    {
     "data": {
      "text/plain": [
       "False"
      ]
     },
     "execution_count": 18,
     "metadata": {},
     "output_type": "execute_result"
    }
   ],
   "source": [
    "### Important concept about mutablity and string vs list\n",
    "\n",
    "list1=[1,5,6,9]\n",
    "list1[0:1]==list1[0]\n",
    "\n"
   ]
  },
  {
   "cell_type": "code",
   "execution_count": 22,
   "metadata": {},
   "outputs": [
    {
     "name": "stdout",
     "output_type": "stream",
     "text": [
      "4\n",
      "y changed 4\n",
      "[1, 2, 'a', 18]\n",
      "new list 2 [[48], 2, 'a', 18]\n",
      "list3 [[48], 2, 'a', 18]\n",
      "list3 changed [[48], 2, 'a', 18]\n"
     ]
    }
   ],
   "source": [
    "## Copying variable make a fresh copy while list does not\n",
    "\n",
    "x=4\n",
    "y=x\n",
    "print (y)\n",
    "x='1'\n",
    "\n",
    "print (\"y changed\",y) # No change oberved in value of y\n",
    "\n",
    "### Here is the copying to the list part\n",
    "\n",
    "list1= [1,2,'a',18]\n",
    "list2=list1\n",
    "print (list2)\n",
    "list1[0]=[48]\n",
    "\n",
    "print (\"new list 2\",list2)  ### Here list2 has changed\n",
    "\n",
    "## To make a true copy which is not affected by change in the original list\n",
    "\n",
    "list3= list1[:]\n",
    "print (\"list3\",list3)\n",
    "list1[0]=44\n",
    "print (\"list3 changed\",list3) ## No change will be seen in list3"
   ]
  },
  {
   "cell_type": "code",
   "execution_count": 28,
   "metadata": {},
   "outputs": [
    {
     "data": {
      "text/plain": [
       "True"
      ]
     },
     "execution_count": 28,
     "metadata": {},
     "output_type": "execute_result"
    }
   ],
   "source": [
    "## Digression on equality\n",
    "\n",
    "list1=[1,3,5,7]\n",
    "list2=[1,3,5,7]\n",
    "list3=list2\n",
    "\n",
    "x==y   ## Checks if  x and y have same value\n",
    "x is y  ## Checks if x and y refer to same object\n",
    "list3 is list2"
   ]
  },
  {
   "cell_type": "code",
   "execution_count": 32,
   "metadata": {},
   "outputs": [
    {
     "name": "stdout",
     "output_type": "stream",
     "text": [
      "new list1 [1, 2, 3, 4, 3]\n",
      "False\n"
     ]
    }
   ],
   "source": [
    "## How concat affects the list\n",
    "\n",
    "# + produces a new list\n",
    "\n",
    "list1=[1,2,3,4]\n",
    "list2=list1\n",
    "list1= list1+[3]\n",
    "print (\"new list1\",list1)\n",
    "print (list1==list2)"
   ]
  },
  {
   "cell_type": "code",
   "execution_count": 34,
   "metadata": {},
   "outputs": [
    {
     "data": {
      "text/plain": [
       "6"
      ]
     },
     "execution_count": 34,
     "metadata": {},
     "output_type": "execute_result"
    }
   ],
   "source": [
    "## Order of defining function\n",
    "#Although function cant be called before its definition but can be called in another function before and used later\n",
    "\n",
    "def f(x):\n",
    "    return g(x+1) #g called \n",
    "def g(y):    # Here g defined later\n",
    "    return y+3\n",
    "f(2)"
   ]
  },
  {
   "cell_type": "code",
   "execution_count": 41,
   "metadata": {},
   "outputs": [
    {
     "data": {
      "text/plain": [
       "120"
      ]
     },
     "execution_count": 41,
     "metadata": {},
     "output_type": "execute_result"
    }
   ],
   "source": [
    "## Recursive function example (Factorial)\n",
    "\n",
    "def factorial(n):\n",
    "    if n==0 or n==1:\n",
    "        return 1\n",
    "    else:\n",
    "        return n*fact(n-1)\n",
    "    \n",
    "factorial(5)        "
   ]
  },
  {
   "cell_type": "code",
   "execution_count": 40,
   "metadata": {},
   "outputs": [],
   "source": [
    "## Immutable values in a function will not be updated\n",
    "##Names within a function have local scope"
   ]
  },
  {
   "cell_type": "code",
   "execution_count": 1,
   "metadata": {},
   "outputs": [
    {
     "data": {
      "text/plain": [
       "[2, 3, 5]"
      ]
     },
     "execution_count": 1,
     "metadata": {},
     "output_type": "execute_result"
    }
   ],
   "source": [
    "## Function into function into function\n",
    "\n",
    "# Function to compute the factors- depth -1\n",
    "def factor(n):\n",
    "    fact_list=[]\n",
    "    for i in range(1,n+1):\n",
    "        if n%i==0:\n",
    "            fact_list.append(i)\n",
    "    return fact_list\n",
    "factor(3)\n",
    "\n",
    "# Function to check prime- depth -2\n",
    "def isprime(n):\n",
    "    return [1,n]==factor(n)\n",
    "isprime(1)\n",
    "\n",
    "\n",
    "# Function for list of primes upto n- depth -3\n",
    "def prime_upto_n(n):\n",
    "    primelist=[]\n",
    "    for i in range(0,n+1):\n",
    "       if isprime(i):\n",
    "            primelist.append(i)\n",
    "    return (primelist)\n",
    "                \n",
    "# Function to get the n prime numbers\n",
    "def n_prime(n):\n",
    "    primelist=[]\n",
    "    count=len(primelist)\n",
    "    i=0\n",
    "    while count<n:\n",
    "        if isprime(i):\n",
    "            primelist.append(i)\n",
    "            count=len(primelist)\n",
    "        i+=1\n",
    "    return (primelist)\n",
    "n_prime(3)"
   ]
  },
  {
   "cell_type": "code",
   "execution_count": 136,
   "metadata": {},
   "outputs": [
    {
     "name": "stdout",
     "output_type": "stream",
     "text": [
      "2\n",
      "3\n",
      "True\n",
      "8\n",
      "[1, 4, 8]\n"
     ]
    }
   ],
   "source": [
    "## Function with 2 return and z to give idea to user (means names within a function have local scope)\n",
    "\n",
    "# z didnt change even if v changed\n",
    "def update(l,i,v):\n",
    "    if i>0 and i<len(l):\n",
    "        print (i)\n",
    "        print (len(l))\n",
    "        l[i]=v\n",
    "        return (True)\n",
    "    else:\n",
    "        v=v+1\n",
    "        print (\"v\",v)\n",
    "        return (False)\n",
    "z=8\n",
    "l=[1,4,3]\n",
    "a=update(l,2,z)\n",
    "print (a)\n",
    "print (z)\n",
    "print (l)\n"
   ]
  },
  {
   "cell_type": "code",
   "execution_count": 36,
   "metadata": {},
   "outputs": [
    {
     "name": "stdout",
     "output_type": "stream",
     "text": [
      "v 9\n",
      "['aa', 'bb']\n",
      "False\n",
      "8\n",
      "['a', 'b']\n"
     ]
    }
   ],
   "source": [
    "##list2 not updated even though l2 updated (means names within a function have local scope)\n",
    "def update(l,i,v,l2):\n",
    "    if i>0 and i<len(l):\n",
    "        print (i)\n",
    "        print (len(l))\n",
    "        l[i]=v\n",
    "        return (True)\n",
    "    else:\n",
    "        v=v+1\n",
    "        print (\"v\",v)\n",
    "        l2=[\"aa\",\"bb\"]\n",
    "        print (l2)\n",
    "        return (False)\n",
    "z=8\n",
    "list2=['a','b']\n",
    "l=[1,4,3]\n",
    "a=update(l,4,z,list2)\n",
    "print (a)\n",
    "print (z)\n",
    "print (list)"
   ]
  },
  {
   "cell_type": "markdown",
   "metadata": {},
   "source": [
    "## Week_3"
   ]
  },
  {
   "cell_type": "code",
   "execution_count": 53,
   "metadata": {},
   "outputs": [
    {
     "data": {
      "text/plain": [
       "[0, 1, 2, 3, 4, 5, 6, 7, 8, 9]"
      ]
     },
     "execution_count": 53,
     "metadata": {},
     "output_type": "execute_result"
    }
   ],
   "source": [
    "## Range function\n",
    "\n",
    "#for i in range(0,10):\n",
    "    #print (i)\n",
    "#for i in range(0,10,2):\n",
    "    #print (i)\n",
    "## Range not equal to list\n",
    "#print (range(0,10)==[0,1,2,3,4,5,6,7,8,9])\n",
    "\n",
    "#Convert range to list\n",
    "# As per course using list(range(0,10)) but this giving error\n",
    "r=(range(0,10))\n",
    "l=[*r]\n",
    "l\n"
   ]
  },
  {
   "cell_type": "code",
   "execution_count": 133,
   "metadata": {},
   "outputs": [
    {
     "ename": "NameError",
     "evalue": "name 'lis1' is not defined",
     "output_type": "error",
     "traceback": [
      "\u001b[1;31m---------------------------------------------------------------------------\u001b[0m",
      "\u001b[1;31mNameError\u001b[0m                                 Traceback (most recent call last)",
      "\u001b[1;32mcell_name\u001b[0m in \u001b[0;36masync-def-wrapper\u001b[1;34m()\u001b[0m\n",
      "\u001b[1;31mNameError\u001b[0m: name 'lis1' is not defined"
     ]
    }
   ],
   "source": [
    "## Tried append and extend but they not working inside function only :indices is working\n",
    "def addlis(lis,a=[7]):\n",
    "    lis1=lis.extend(a)\n",
    "    return (lis1)\n",
    "list1=[1,2,4]\n",
    "d=addlis(list1)\n",
    "print (d)"
   ]
  },
  {
   "cell_type": "code",
   "execution_count": 129,
   "metadata": {},
   "outputs": [
    {
     "name": "stdout",
     "output_type": "stream",
     "text": [
      "[1, 2, 3, 7]\n",
      "[1, 2, 3, 7, 1, 2, 3, 7]\n",
      "[1, 2, 7, 1, 2, 3, 7]\n",
      "[7, 3, 2, 1, 7, 2, 1]\n",
      "[1, 1, 2, 2, 3, 7, 7]\n",
      "[7, 7, 3, 2, 2, 1, 1]\n",
      "5\n"
     ]
    }
   ],
   "source": [
    "## List functions\n",
    "list1=[1,2,3]\n",
    "list1.append(7)\n",
    "print (list1)\n",
    "list1.extend(list1)\n",
    "print (list1)\n",
    "list1.remove(3) #removed only 1st occurence of 3\n",
    "print (list1)\n",
    "\n",
    "list1.reverse()\n",
    "print (list1)\n",
    "list1.sort()\n",
    "print (list1)\n",
    "list1.sort(reverse=True) #if I am adding print directly with function then not working\n",
    "print (list1)\n",
    "print (list1.index(1))  # To print the first index\n",
    "\n",
    "#print (list1.rindex(7))  # Tried but not working"
   ]
  },
  {
   "cell_type": "code",
   "execution_count": 132,
   "metadata": {},
   "outputs": [
    {
     "name": "stdout",
     "output_type": "stream",
     "text": [
      "3\n"
     ]
    }
   ],
   "source": [
    "list1=[1,2,4,5]\n",
    "print (len(list1)-list1[-1::-1].index(4)-1) #printing the right index"
   ]
  },
  {
   "cell_type": "code",
   "execution_count": 111,
   "metadata": {},
   "outputs": [
    {
     "name": "stdout",
     "output_type": "stream",
     "text": [
      "[1, 5, 6, 7, 8]\n",
      "[1, 5, 6, 7, 8]\n",
      "[0, 6, 7, 8]\n"
     ]
    }
   ],
   "source": [
    "##List manipulation by using slicing\n",
    "\n",
    "list1=[1,2,3]\n",
    "list2=list1\n",
    "list1[1:]=[5,6,7,8]\n",
    "print (list1)\n",
    "print (list2)\n",
    "list1[:2]=[0]\n",
    "print (list1)\n",
    "\n"
   ]
  },
  {
   "cell_type": "code",
   "execution_count": 142,
   "metadata": {},
   "outputs": [
    {
     "data": {
      "text/plain": [
       "1"
      ]
     },
     "execution_count": 142,
     "metadata": {},
     "output_type": "execute_result"
    }
   ],
   "source": [
    "## Finding the position using break statement\n",
    "##else CAN ALSO BE USED WITH FOR AND WHILE LOOP\n",
    "def findpos(l,v):\n",
    "    (pos,i)=(l,v)\n",
    "    for i in range(len(l)):\n",
    "        if l[i]==v:\n",
    "            pos=i\n",
    "            return (pos)\n",
    "            break\n",
    "    else:\n",
    "        pos=-1\n",
    "        return (pos)\n",
    "findpos([1,3,4,5],3)"
   ]
  },
  {
   "cell_type": "code",
   "execution_count": 146,
   "metadata": {},
   "outputs": [
    {
     "data": {
      "text/plain": [
       "array([ 0,  3,  6,  9, 12, 15, 18, 21, 24])"
      ]
     },
     "execution_count": 146,
     "metadata": {},
     "output_type": "execute_result"
    }
   ],
   "source": [
    "## Array - Single block of memory - elements of uniform type- size given in advance\n",
    "import numpy as np\n",
    "a=np.array(range(0,9))\n",
    "a=a*3\n",
    "a"
   ]
  }
 ],
 "metadata": {
  "kernelspec": {
   "display_name": "Python 3",
   "language": "python",
   "name": "python3"
  },
  "language_info": {
   "codemirror_mode": {
    "name": "ipython",
    "version": 3
   },
   "file_extension": ".py",
   "mimetype": "text/x-python",
   "name": "python",
   "nbconvert_exporter": "python",
   "pygments_lexer": "ipython3",
   "version": "3.6.0"
  }
 },
 "nbformat": 4,
 "nbformat_minor": 2
}
